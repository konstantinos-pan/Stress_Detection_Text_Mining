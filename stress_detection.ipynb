{
  "nbformat": 4,
  "nbformat_minor": 0,
  "metadata": {
    "colab": {
      "provenance": [],
      "collapsed_sections": [
        "RorIJGIy51j9"
      ]
    },
    "kernelspec": {
      "name": "python3",
      "display_name": "Python 3"
    },
    "language_info": {
      "name": "python"
    }
  },
  "cells": [
    {
      "cell_type": "code",
      "source": [
        "!pip uninstall scikit-learn\n",
        "!pip install scikit-learn==1.5.0"
      ],
      "metadata": {
        "colab": {
          "base_uri": "https://localhost:8080/"
        },
        "collapsed": true,
        "id": "uceah3_MSDt8",
        "outputId": "16edb9c9-b840-42e9-9cef-1d5749712163"
      },
      "execution_count": null,
      "outputs": [
        {
          "output_type": "stream",
          "name": "stdout",
          "text": [
            "Found existing installation: scikit-learn 1.6.1\n",
            "Uninstalling scikit-learn-1.6.1:\n",
            "  Would remove:\n",
            "    /usr/local/lib/python3.11/dist-packages/scikit_learn-1.6.1.dist-info/*\n",
            "    /usr/local/lib/python3.11/dist-packages/scikit_learn.libs/libgomp-a34b3233.so.1.0.0\n",
            "    /usr/local/lib/python3.11/dist-packages/sklearn/*\n",
            "Proceed (Y/n)? Y\n",
            "  Successfully uninstalled scikit-learn-1.6.1\n",
            "Collecting scikit-learn==1.5.0\n",
            "  Downloading scikit_learn-1.5.0-cp311-cp311-manylinux_2_17_x86_64.manylinux2014_x86_64.whl.metadata (11 kB)\n",
            "Requirement already satisfied: numpy>=1.19.5 in /usr/local/lib/python3.11/dist-packages (from scikit-learn==1.5.0) (1.26.4)\n",
            "Requirement already satisfied: scipy>=1.6.0 in /usr/local/lib/python3.11/dist-packages (from scikit-learn==1.5.0) (1.13.1)\n",
            "Requirement already satisfied: joblib>=1.2.0 in /usr/local/lib/python3.11/dist-packages (from scikit-learn==1.5.0) (1.4.2)\n",
            "Requirement already satisfied: threadpoolctl>=3.1.0 in /usr/local/lib/python3.11/dist-packages (from scikit-learn==1.5.0) (3.5.0)\n",
            "Downloading scikit_learn-1.5.0-cp311-cp311-manylinux_2_17_x86_64.manylinux2014_x86_64.whl (13.3 MB)\n",
            "\u001b[2K   \u001b[90m━━━━━━━━━━━━━━━━━━━━━━━━━━━━━━━━━━━━━━━━\u001b[0m \u001b[32m13.3/13.3 MB\u001b[0m \u001b[31m57.9 MB/s\u001b[0m eta \u001b[36m0:00:00\u001b[0m\n",
            "\u001b[?25hInstalling collected packages: scikit-learn\n",
            "Successfully installed scikit-learn-1.5.0\n"
          ]
        }
      ]
    },
    {
      "cell_type": "markdown",
      "source": [
        "## 1. Load Data, EDA, Preprocess, Data Split\n"
      ],
      "metadata": {
        "id": "Rvmu3GKHpH-W"
      }
    },
    {
      "cell_type": "markdown",
      "source": [
        "### 1.1 Load Data"
      ],
      "metadata": {
        "id": "lrKVjsp5lC-T"
      }
    },
    {
      "cell_type": "code",
      "source": [
        "import numpy as np\n",
        "import pandas as pd\n",
        "import io\n",
        "import os\n",
        "from google.colab import files\n",
        "\n",
        "# Read file\n",
        "if os.path.exists('Twitter_Full.csv'):\n",
        "  df = pd.read_csv('Twitter_Full.csv', sep=\";\")\n",
        "else:\n",
        "  print(\"File 'Twitter_Full.csv' not found. Please upload the file.\")\n",
        "  uploaded = files.upload()\n",
        "  df = pd.read_csv(io.BytesIO(uploaded['Twitter_Full.csv']), sep=\";\")"
      ],
      "metadata": {
        "id": "Xy_Sn2vmI6DC",
        "colab": {
          "base_uri": "https://localhost:8080/",
          "height": 90
        },
        "outputId": "5bd8708b-04e7-42a2-b0d1-3bc2c6d30cb9"
      },
      "execution_count": null,
      "outputs": [
        {
          "output_type": "stream",
          "name": "stdout",
          "text": [
            "File 'Twitter_Full.csv' not found. Please upload the file.\n"
          ]
        },
        {
          "output_type": "display_data",
          "data": {
            "text/plain": [
              "<IPython.core.display.HTML object>"
            ],
            "text/html": [
              "\n",
              "     <input type=\"file\" id=\"files-d58e409e-d789-4550-a4cb-70eddf18e86c\" name=\"files[]\" multiple disabled\n",
              "        style=\"border:none\" />\n",
              "     <output id=\"result-d58e409e-d789-4550-a4cb-70eddf18e86c\">\n",
              "      Upload widget is only available when the cell has been executed in the\n",
              "      current browser session. Please rerun this cell to enable.\n",
              "      </output>\n",
              "      <script>// Copyright 2017 Google LLC\n",
              "//\n",
              "// Licensed under the Apache License, Version 2.0 (the \"License\");\n",
              "// you may not use this file except in compliance with the License.\n",
              "// You may obtain a copy of the License at\n",
              "//\n",
              "//      http://www.apache.org/licenses/LICENSE-2.0\n",
              "//\n",
              "// Unless required by applicable law or agreed to in writing, software\n",
              "// distributed under the License is distributed on an \"AS IS\" BASIS,\n",
              "// WITHOUT WARRANTIES OR CONDITIONS OF ANY KIND, either express or implied.\n",
              "// See the License for the specific language governing permissions and\n",
              "// limitations under the License.\n",
              "\n",
              "/**\n",
              " * @fileoverview Helpers for google.colab Python module.\n",
              " */\n",
              "(function(scope) {\n",
              "function span(text, styleAttributes = {}) {\n",
              "  const element = document.createElement('span');\n",
              "  element.textContent = text;\n",
              "  for (const key of Object.keys(styleAttributes)) {\n",
              "    element.style[key] = styleAttributes[key];\n",
              "  }\n",
              "  return element;\n",
              "}\n",
              "\n",
              "// Max number of bytes which will be uploaded at a time.\n",
              "const MAX_PAYLOAD_SIZE = 100 * 1024;\n",
              "\n",
              "function _uploadFiles(inputId, outputId) {\n",
              "  const steps = uploadFilesStep(inputId, outputId);\n",
              "  const outputElement = document.getElementById(outputId);\n",
              "  // Cache steps on the outputElement to make it available for the next call\n",
              "  // to uploadFilesContinue from Python.\n",
              "  outputElement.steps = steps;\n",
              "\n",
              "  return _uploadFilesContinue(outputId);\n",
              "}\n",
              "\n",
              "// This is roughly an async generator (not supported in the browser yet),\n",
              "// where there are multiple asynchronous steps and the Python side is going\n",
              "// to poll for completion of each step.\n",
              "// This uses a Promise to block the python side on completion of each step,\n",
              "// then passes the result of the previous step as the input to the next step.\n",
              "function _uploadFilesContinue(outputId) {\n",
              "  const outputElement = document.getElementById(outputId);\n",
              "  const steps = outputElement.steps;\n",
              "\n",
              "  const next = steps.next(outputElement.lastPromiseValue);\n",
              "  return Promise.resolve(next.value.promise).then((value) => {\n",
              "    // Cache the last promise value to make it available to the next\n",
              "    // step of the generator.\n",
              "    outputElement.lastPromiseValue = value;\n",
              "    return next.value.response;\n",
              "  });\n",
              "}\n",
              "\n",
              "/**\n",
              " * Generator function which is called between each async step of the upload\n",
              " * process.\n",
              " * @param {string} inputId Element ID of the input file picker element.\n",
              " * @param {string} outputId Element ID of the output display.\n",
              " * @return {!Iterable<!Object>} Iterable of next steps.\n",
              " */\n",
              "function* uploadFilesStep(inputId, outputId) {\n",
              "  const inputElement = document.getElementById(inputId);\n",
              "  inputElement.disabled = false;\n",
              "\n",
              "  const outputElement = document.getElementById(outputId);\n",
              "  outputElement.innerHTML = '';\n",
              "\n",
              "  const pickedPromise = new Promise((resolve) => {\n",
              "    inputElement.addEventListener('change', (e) => {\n",
              "      resolve(e.target.files);\n",
              "    });\n",
              "  });\n",
              "\n",
              "  const cancel = document.createElement('button');\n",
              "  inputElement.parentElement.appendChild(cancel);\n",
              "  cancel.textContent = 'Cancel upload';\n",
              "  const cancelPromise = new Promise((resolve) => {\n",
              "    cancel.onclick = () => {\n",
              "      resolve(null);\n",
              "    };\n",
              "  });\n",
              "\n",
              "  // Wait for the user to pick the files.\n",
              "  const files = yield {\n",
              "    promise: Promise.race([pickedPromise, cancelPromise]),\n",
              "    response: {\n",
              "      action: 'starting',\n",
              "    }\n",
              "  };\n",
              "\n",
              "  cancel.remove();\n",
              "\n",
              "  // Disable the input element since further picks are not allowed.\n",
              "  inputElement.disabled = true;\n",
              "\n",
              "  if (!files) {\n",
              "    return {\n",
              "      response: {\n",
              "        action: 'complete',\n",
              "      }\n",
              "    };\n",
              "  }\n",
              "\n",
              "  for (const file of files) {\n",
              "    const li = document.createElement('li');\n",
              "    li.append(span(file.name, {fontWeight: 'bold'}));\n",
              "    li.append(span(\n",
              "        `(${file.type || 'n/a'}) - ${file.size} bytes, ` +\n",
              "        `last modified: ${\n",
              "            file.lastModifiedDate ? file.lastModifiedDate.toLocaleDateString() :\n",
              "                                    'n/a'} - `));\n",
              "    const percent = span('0% done');\n",
              "    li.appendChild(percent);\n",
              "\n",
              "    outputElement.appendChild(li);\n",
              "\n",
              "    const fileDataPromise = new Promise((resolve) => {\n",
              "      const reader = new FileReader();\n",
              "      reader.onload = (e) => {\n",
              "        resolve(e.target.result);\n",
              "      };\n",
              "      reader.readAsArrayBuffer(file);\n",
              "    });\n",
              "    // Wait for the data to be ready.\n",
              "    let fileData = yield {\n",
              "      promise: fileDataPromise,\n",
              "      response: {\n",
              "        action: 'continue',\n",
              "      }\n",
              "    };\n",
              "\n",
              "    // Use a chunked sending to avoid message size limits. See b/62115660.\n",
              "    let position = 0;\n",
              "    do {\n",
              "      const length = Math.min(fileData.byteLength - position, MAX_PAYLOAD_SIZE);\n",
              "      const chunk = new Uint8Array(fileData, position, length);\n",
              "      position += length;\n",
              "\n",
              "      const base64 = btoa(String.fromCharCode.apply(null, chunk));\n",
              "      yield {\n",
              "        response: {\n",
              "          action: 'append',\n",
              "          file: file.name,\n",
              "          data: base64,\n",
              "        },\n",
              "      };\n",
              "\n",
              "      let percentDone = fileData.byteLength === 0 ?\n",
              "          100 :\n",
              "          Math.round((position / fileData.byteLength) * 100);\n",
              "      percent.textContent = `${percentDone}% done`;\n",
              "\n",
              "    } while (position < fileData.byteLength);\n",
              "  }\n",
              "\n",
              "  // All done.\n",
              "  yield {\n",
              "    response: {\n",
              "      action: 'complete',\n",
              "    }\n",
              "  };\n",
              "}\n",
              "\n",
              "scope.google = scope.google || {};\n",
              "scope.google.colab = scope.google.colab || {};\n",
              "scope.google.colab._files = {\n",
              "  _uploadFiles,\n",
              "  _uploadFilesContinue,\n",
              "};\n",
              "})(self);\n",
              "</script> "
            ]
          },
          "metadata": {}
        },
        {
          "output_type": "stream",
          "name": "stdout",
          "text": [
            "Saving Twitter_Full.csv to Twitter_Full.csv\n"
          ]
        }
      ]
    },
    {
      "cell_type": "markdown",
      "source": [
        "### 1.2 Display basic dataset info"
      ],
      "metadata": {
        "id": "F_BQgahMlbgh"
      }
    },
    {
      "cell_type": "code",
      "source": [
        "# First 5 records of the dataset\n",
        "print(f'First 5 records of the dataset:\\n{df.head()}')"
      ],
      "metadata": {
        "colab": {
          "base_uri": "https://localhost:8080/"
        },
        "id": "vYXI2FB-tXcz",
        "outputId": "f0e0bb6d-a58c-4e0c-a781-0e5d284f5c1d"
      },
      "execution_count": null,
      "outputs": [
        {
          "output_type": "stream",
          "name": "stdout",
          "text": [
            "First 5 records of the dataset:\n",
            "                                                text  \\\n",
            "0  Being s mom is cleaning 24/7 the same shit ove...   \n",
            "1  And now we have been given the walkthru book b...   \n",
            "2  Wishing YOU Peace Joy & Love! JoyTrain MentalH...   \n",
            "3   speak-no-evil monkey Can I Be Honest With You...   \n",
            "4  Psy Do u hv any regrets? Me No Psy Are you hap...   \n",
            "\n",
            "                                            hashtags  labels  Unnamed: 3  \\\n",
            "0                       ['momlife', 'kids', 'tired']       1         NaN   \n",
            "1                                       ['walkthru']       0         NaN   \n",
            "2  ['Peace', 'Joy', 'Love', 'JoyTrain', 'MentalHe...       0         NaN   \n",
            "3  ['therapy', 'help', 'NLP', 'CBT', 'hypnotherap...       1         NaN   \n",
            "4                                                 []       0         NaN   \n",
            "\n",
            "   Unnamed: 4  \n",
            "0         NaN  \n",
            "1         NaN  \n",
            "2         NaN  \n",
            "3         NaN  \n",
            "4         NaN  \n"
          ]
        }
      ]
    },
    {
      "cell_type": "code",
      "source": [
        "# Basic dataset info\n",
        "print(df.info())"
      ],
      "metadata": {
        "colab": {
          "base_uri": "https://localhost:8080/"
        },
        "id": "e3Cwams5v3rG",
        "outputId": "c7fd89ae-5b73-4c61-f05a-dbd71fe673f9"
      },
      "execution_count": null,
      "outputs": [
        {
          "output_type": "stream",
          "name": "stdout",
          "text": [
            "<class 'pandas.core.frame.DataFrame'>\n",
            "RangeIndex: 8900 entries, 0 to 8899\n",
            "Data columns (total 5 columns):\n",
            " #   Column      Non-Null Count  Dtype  \n",
            "---  ------      --------------  -----  \n",
            " 0   text        8897 non-null   object \n",
            " 1   hashtags    8892 non-null   object \n",
            " 2   labels      8900 non-null   int64  \n",
            " 3   Unnamed: 3  0 non-null      float64\n",
            " 4   Unnamed: 4  0 non-null      float64\n",
            "dtypes: float64(2), int64(1), object(2)\n",
            "memory usage: 347.8+ KB\n",
            "None\n"
          ]
        }
      ]
    },
    {
      "cell_type": "code",
      "source": [
        "# Dataset Shape\n",
        "print(f'Dataset instances: {df.shape[0]}\\nDataset columns: {df.shape[1]}')"
      ],
      "metadata": {
        "colab": {
          "base_uri": "https://localhost:8080/"
        },
        "id": "kJ3IDcVLwNqJ",
        "outputId": "38e11fa0-89cd-40dd-e166-515ceb7de65e"
      },
      "execution_count": null,
      "outputs": [
        {
          "output_type": "stream",
          "name": "stdout",
          "text": [
            "Dataset instances: 8900\n",
            "Dataset columns: 5\n"
          ]
        }
      ]
    },
    {
      "cell_type": "markdown",
      "source": [
        "### 1.3 Early preprocess"
      ],
      "metadata": {
        "id": "YxMVd7ill1YH"
      }
    },
    {
      "cell_type": "code",
      "source": [
        "# Drop unwanted columns\n",
        "df.drop(columns=['Unnamed: 3','Unnamed: 4', 'hashtags'], inplace=True)\n",
        "\n",
        "# First 5 records after columns removal\n",
        "print(f'First 5 records after columns removal:\\n{df.head()}')"
      ],
      "metadata": {
        "colab": {
          "base_uri": "https://localhost:8080/"
        },
        "collapsed": true,
        "id": "c0jboSMewhm7",
        "outputId": "cab2286b-a875-4496-a28d-2587557a432b"
      },
      "execution_count": null,
      "outputs": [
        {
          "output_type": "stream",
          "name": "stdout",
          "text": [
            "First 5 records after columns removal:\n",
            "                                                text  labels\n",
            "0  Being s mom is cleaning 24/7 the same shit ove...       1\n",
            "1  And now we have been given the walkthru book b...       0\n",
            "2  Wishing YOU Peace Joy & Love! JoyTrain MentalH...       0\n",
            "3   speak-no-evil monkey Can I Be Honest With You...       1\n",
            "4  Psy Do u hv any regrets? Me No Psy Are you hap...       0\n"
          ]
        }
      ]
    },
    {
      "cell_type": "code",
      "source": [
        "# Remove NAs\n",
        "print(f'Count of NAs per column:\\n{df.isna().sum()}\\n')\n",
        "df.dropna(inplace=True)\n",
        "\n",
        "# Remove dublicates\n",
        "duplicates_count = df['text'].duplicated().sum()\n",
        "print(f\"Number of duplicates in 'text' column: {duplicates_count}\\n\")\n",
        "df.drop_duplicates(subset='text', keep='first', inplace=True)\n",
        "\n",
        "df.reset_index(drop=True, inplace=True)\n",
        "\n",
        "print(f\"Number of instances after removing duplicates and dropping NAs: {df.shape[0]}\")"
      ],
      "metadata": {
        "colab": {
          "base_uri": "https://localhost:8080/"
        },
        "id": "BWgPGAcryPUV",
        "outputId": "1f3eb599-b4ab-4a11-8486-314b984dcff9",
        "collapsed": true
      },
      "execution_count": null,
      "outputs": [
        {
          "output_type": "stream",
          "name": "stdout",
          "text": [
            "Count of NAs per column:\n",
            "text      3\n",
            "labels    0\n",
            "dtype: int64\n",
            "\n",
            "Number of duplicates in 'text' column: 461\n",
            "\n",
            "Number of instances after removing duplicates and dropping NAs: 8436\n"
          ]
        }
      ]
    },
    {
      "cell_type": "markdown",
      "source": [
        "### 1.4 EDA and Data Visualization"
      ],
      "metadata": {
        "id": "0Td4MUZ6pbLs"
      }
    },
    {
      "cell_type": "code",
      "source": [
        "# Count of instances per label\n",
        "labels_count = df['labels'].value_counts()\n",
        "print(f'Count of instances per label:\\n{labels_count}')"
      ],
      "metadata": {
        "colab": {
          "base_uri": "https://localhost:8080/"
        },
        "collapsed": true,
        "id": "E8STS_p2yzXa",
        "outputId": "a8887b93-4186-483a-acdc-7665fb229e2b"
      },
      "execution_count": null,
      "outputs": [
        {
          "output_type": "stream",
          "name": "stdout",
          "text": [
            "Count of instances per label:\n",
            "labels\n",
            "1    4307\n",
            "0    4129\n",
            "Name: count, dtype: int64\n"
          ]
        }
      ]
    },
    {
      "cell_type": "code",
      "source": [
        "import matplotlib.pyplot as plt\n",
        "\n",
        "# Pie chart of labels distribution\n",
        "plt.figure(figsize=(10,6))\n",
        "plt.pie(labels_count, labels= labels_count.index, autopct='%1.2f%%', startangle=90, explode=[0.02, 0])\n",
        "plt.title(\"Pie chart of labels distribution\")\n",
        "plt.legend([\"Stress Positive\", \"Stress Negative\"])\n",
        "plt.show()"
      ],
      "metadata": {
        "colab": {
          "base_uri": "https://localhost:8080/",
          "height": 521
        },
        "id": "_eEhBtPx0V0N",
        "outputId": "c5eace40-b0f1-421a-b3ee-dabb30a346bb"
      },
      "execution_count": null,
      "outputs": [
        {
          "output_type": "display_data",
          "data": {
            "text/plain": [
              "<Figure size 1000x600 with 1 Axes>"
            ],
            "image/png": "[encoded data removed]"
          },
          "metadata": {}
        }
      ]
    },
    {
      "cell_type": "code",
      "source": [
        "# Barplot of labels distribution\n",
        "plt.figure(figsize=(10, 6))\n",
        "bars = plt.bar(labels_count.index, labels_count.values, width= 0.6, color=['skyblue', 'orange'], label=[\"Stress Positive\", \"Stress Negative\"])\n",
        "for bar in bars:\n",
        "    plt.text(\n",
        "          bar.get_x() + bar.get_width() / 2,\n",
        "          bar.get_height(),\n",
        "          str(bar.get_height()),\n",
        "          ha='center',\n",
        "          va='bottom'\n",
        "        )\n",
        "plt.title('Bar plot of Labels distribution', fontsize=14)\n",
        "plt.xlabel('Labels')\n",
        "plt.ylabel('Count of Instances')\n",
        "plt.xticks(labels_count.index)\n",
        "plt.legend(loc='best')\n",
        "plt.show()"
      ],
      "metadata": {
        "colab": {
          "base_uri": "https://localhost:8080/",
          "height": 565
        },
        "id": "wwfaGk877BY9",
        "outputId": "6d7f4bab-62eb-4227-fe13-49089804a00f"
      },
      "execution_count": null,
      "outputs": [
        {
          "output_type": "display_data",
          "data": {
            "text/plain": [
              "<Figure size 1000x600 with 1 Axes>"
            ],
            "image/png": "[encoded data removed]"
          },
          "metadata": {}
        }
      ]
    },
    {
      "cell_type": "code",
      "source": [
        "import random\n",
        "# Sample test for texts with noise\n",
        "\n",
        "# Retain all records that contain non-alphanumeric text\n",
        "pattern = r'[^\\w\\s]'\n",
        "contains_non_alpha = df['text'].str.contains(pattern, na=False)\n",
        "\n",
        "if contains_non_alpha.any():\n",
        "  # Count of non-alpha text\n",
        "  print(f'Count of instances containing non-alphanumeric text:\\n{contains_non_alpha.value_counts()}\\n')\n",
        "\n",
        "  # Random sample of non-alpha text\n",
        "  non_alpha = df[contains_non_alpha].index.to_list()\n",
        "  sample = df['text'].iloc[random.choice(non_alpha)]\n",
        "  print(f'Sample instance containing non-alphanumeric characters:\\n{sample}')\n",
        "else:\n",
        "  print(f'No instances containing non-alphanumeric text.')"
      ],
      "metadata": {
        "colab": {
          "base_uri": "https://localhost:8080/",
          "height": 211
        },
        "id": "43aOork9KNob",
        "outputId": "e3d46a59-1386-46f2-b0b8-1179a40f8554",
        "collapsed": true
      },
      "execution_count": 1,
      "outputs": [
        {
          "output_type": "error",
          "ename": "NameError",
          "evalue": "name 'df' is not defined",
          "traceback": [
            "\u001b[0;31m---------------------------------------------------------------------------\u001b[0m",
            "\u001b[0;31mNameError\u001b[0m                                 Traceback (most recent call last)",
            "\u001b[0;32m<ipython-input-1-ca9b4dc46d67>\u001b[0m in \u001b[0;36m<cell line: 0>\u001b[0;34m()\u001b[0m\n\u001b[1;32m      4\u001b[0m \u001b[0;31m# Retain all records that contain non-alphanumeric text\u001b[0m\u001b[0;34m\u001b[0m\u001b[0;34m\u001b[0m\u001b[0m\n\u001b[1;32m      5\u001b[0m \u001b[0mpattern\u001b[0m \u001b[0;34m=\u001b[0m \u001b[0;34mr'[^\\w\\s]'\u001b[0m\u001b[0;34m\u001b[0m\u001b[0;34m\u001b[0m\u001b[0m\n\u001b[0;32m----> 6\u001b[0;31m \u001b[0mcontains_non_alpha\u001b[0m \u001b[0;34m=\u001b[0m \u001b[0mdf\u001b[0m\u001b[0;34m[\u001b[0m\u001b[0;34m'text'\u001b[0m\u001b[0;34m]\u001b[0m\u001b[0;34m.\u001b[0m\u001b[0mstr\u001b[0m\u001b[0;34m.\u001b[0m\u001b[0mcontains\u001b[0m\u001b[0;34m(\u001b[0m\u001b[0mpattern\u001b[0m\u001b[0;34m,\u001b[0m \u001b[0mna\u001b[0m\u001b[0;34m=\u001b[0m\u001b[0;32mFalse\u001b[0m\u001b[0;34m)\u001b[0m\u001b[0;34m\u001b[0m\u001b[0;34m\u001b[0m\u001b[0m\n\u001b[0m\u001b[1;32m      7\u001b[0m \u001b[0;34m\u001b[0m\u001b[0m\n\u001b[1;32m      8\u001b[0m \u001b[0;32mif\u001b[0m \u001b[0mcontains_non_alpha\u001b[0m\u001b[0;34m.\u001b[0m\u001b[0many\u001b[0m\u001b[0;34m(\u001b[0m\u001b[0;34m)\u001b[0m\u001b[0;34m:\u001b[0m\u001b[0;34m\u001b[0m\u001b[0;34m\u001b[0m\u001b[0m\n",
            "\u001b[0;31mNameError\u001b[0m: name 'df' is not defined"
          ]
        }
      ]
    },
    {
      "cell_type": "code",
      "source": [
        "# Retain text that contains http(s) or com or www\n",
        "pattern = r'https?|\\bcom\\b|\\bwww\\b' # http(s) or com or www\n",
        "contains_https = df['text'].str.contains(pattern, na=False)\n",
        "\n",
        "if contains_https.any():\n",
        "  # Count of text contain url prefix/suffix\n",
        "  print(f'Distribution of instances based on whether they contain http(s) text:\\n{contains_https.value_counts()}\\n')\n",
        "\n",
        "  # Random sample of text that contain url prefix/suffix\n",
        "  https = df[contains_https].index.to_list()\n",
        "  sample = df['text'].iloc[random.choice(https)]\n",
        "  print(f'Sample instance containing \"http(s)\" or \"www\" or \"com\":\\n{sample}')\n",
        "else:\n",
        "  print(f'No instances containing http(s) text.')"
      ],
      "metadata": {
        "colab": {
          "base_uri": "https://localhost:8080/"
        },
        "id": "qfZnINPmdiIA",
        "outputId": "00b8c8cb-9a9c-40f2-ff88-041ac2652f2a"
      },
      "execution_count": null,
      "outputs": [
        {
          "output_type": "stream",
          "name": "stdout",
          "text": [
            "Distribution of instances based on whether they contain http(s) text:\n",
            "text\n",
            "False    8420\n",
            "True       16\n",
            "Name: count, dtype: int64\n",
            "\n",
            "Sample instance containing \"http(s)\" or \"www\" or \"com\":\n",
            "Wonderful contributions already received for MentalHealthMatters week 6th-10th Sept! Let's shine a light on someone's dark day, get your positive poems over to theorganicpoet.com. Supporting mentalhealth because mentalhealthmatters. poetrycommunity SUBMISSIONS OPEN!\n"
          ]
        }
      ]
    },
    {
      "cell_type": "markdown",
      "source": [
        "### 1.5 Data cleaning (noise removal, lemmatization)"
      ],
      "metadata": {
        "id": "ZTOTZY8-ponZ"
      }
    },
    {
      "cell_type": "code",
      "source": [
        "# lemmatization\n",
        "import nltk\n",
        "import re\n",
        "from nltk.corpus import stopwords, wordnet\n",
        "from nltk import word_tokenize, pos_tag\n",
        "from nltk.stem import  WordNetLemmatizer\n",
        "\n",
        "nltk.download('stopwords')\n",
        "nltk.download('wordnet')\n",
        "nltk.download('omw-1.4')\n",
        "nltk.download('punkt_tab')\n",
        "nltk.download('averaged_perceptron_tagger_eng')\n",
        "\n",
        "def get_wordnet_pos(tag):\n",
        "  if tag.startswith('J'):\n",
        "      return wordnet.ADJ\n",
        "  elif tag.startswith('V'):\n",
        "      return wordnet.VERB\n",
        "  elif tag.startswith('N'):\n",
        "      return wordnet.NOUN\n",
        "  elif tag.startswith('R'):\n",
        "      return wordnet.ADV\n",
        "  else:\n",
        "      return wordnet.NOUN\n",
        "\n",
        "stop_words = set(stopwords.words('english'))\n",
        "\n",
        "lemmatizer = WordNetLemmatizer()\n",
        "\n",
        "# Custom slang and abbreviation dictionary\n",
        "abbreviation_dict = {\n",
        "    \"r\": \"are\",\n",
        "    \"They're\": \"they are\",\n",
        "    \"I'm\": \"I am\",\n",
        "    \"I'll\": \"I will\",\n",
        "    \"I'd\": \"I would\",\n",
        "    \"hv\": \"have\",\n",
        "    \"walkthru\": \"walkthrough\",\n",
        "    \"u\": \"you\",\n",
        "    \"ur\": \"your\",\n",
        "    \"pls\": \"please\",\n",
        "    \"thx\": \"thanks\",\n",
        "    \"abt\": \"about\",\n",
        "    \"b4\": \"before\",\n",
        "    \"btw\": \"by the way\",\n",
        "    \"cya\": \"see you\",\n",
        "    \"dm\": \"direct message\",\n",
        "    \"ez\": \"easy\",\n",
        "    \"fyi\": \"for your information\",\n",
        "    \"gr8\": \"great\",\n",
        "    \"idk\": \"I don't know\",\n",
        "    \"ikr\": \"I know right\",\n",
        "    \"imho\": \"in my humble opinion\",\n",
        "    \"imo\": \"in my opinion\",\n",
        "    \"irl\": \"in real life\",\n",
        "    \"jk\": \"just kidding\",\n",
        "    \"l8r\": \"later\",\n",
        "    \"lol\": \"laughing out loud\",\n",
        "    \"np\": \"no problem\",\n",
        "    \"omg\": \"oh my god\",\n",
        "    \"plz\": \"please\",\n",
        "    \"ppl\": \"people\",\n",
        "    \"r\": \"are\",\n",
        "    \"smh\": \"shaking my head\",\n",
        "    \"sry\": \"sorry\",\n",
        "    \"tbh\": \"to be honest\",\n",
        "    \"ttyl\": \"talk to you later\",\n",
        "    \"w/\": \"with\",\n",
        "    \"w/o\": \"without\",\n",
        "    \"wanna\": \"want to\",\n",
        "    \"gonna\": \"going to\",\n",
        "    \"tho\": \"though\",\n",
        "    \"thru\": \"through\",\n",
        "    \"txt\": \"text\",\n",
        "    \"yolo\": \"you only live once\",\n",
        "    \"wut\": \"what\",\n",
        "    \"bday\": \"birthday\",\n",
        "    \"msg\": \"message\",\n",
        "    \"nvm\": \"never mind\",\n",
        "    \"omw\": \"on my way\",\n",
        "    \"bc\": \"because\",\n",
        "    \"ikr\": \"I know right\",\n",
        "    \"tldr\": \"too long didn't read\",\n",
        "    \"tho\": \"though\",\n",
        "    \"ty\": \"thank you\",\n",
        "    \"yw\": \"you're welcome\",\n",
        "    \"xoxo\": \"hugs and kisses\",\n",
        "    \"afaik\": \"as far as I know\",\n",
        "    \"brb\": \"be right back\",\n",
        "    \"gg\": \"good game\",\n",
        "    \"rofl\": \"rolling on the floor laughing\",\n",
        "    \"wtf\": \"what the heck\",\n",
        "    \"ftw\": \"for the win\",\n",
        "    \"hbu\": \"how about you\",\n",
        "    \"ily\": \"I love you\",\n",
        "    \"ly\": \"love you\",\n",
        "    \"idc\": \"I don't care\",\n",
        "    \"tysm\": \"thank you so much\"\n",
        "}\n",
        "\n",
        "def expand_abbreviations(text, abbreviation_dict):\n",
        "    words = text.split()\n",
        "    expanded_words = [abbreviation_dict.get(word, word) for word in words]\n",
        "    return ' '.join(expanded_words)\n",
        "\n",
        "def clean_text(text):\n",
        "    if isinstance(text, str):  # Check if the input is a string\n",
        "        # Remove URLs\n",
        "        text = re.sub(r'https?\\S+', '', text)\n",
        "        # Remove HTML tags\n",
        "        text = re.sub(r'<.*?>', '', text)\n",
        "        # Remove punctuation and special characters\n",
        "        text = re.sub(r'[^\\w\\s]', '', text)\n",
        "        # Convert to lowercase\n",
        "        text = text.lower()\n",
        "        # Expand abbreviations\n",
        "        text = expand_abbreviations(text, abbreviation_dict)\n",
        "\n",
        "        # Remove stopwords and perform lemmatization\n",
        "\n",
        "        # Split text to tokens\n",
        "        words = word_tokenize(text)\n",
        "        # Attach part of speech tags\n",
        "        pos_tags = pos_tag(words)\n",
        "        # Lemmatization\n",
        "        lemmatized_words = [lemmatizer.lemmatize(word, get_wordnet_pos(tag)) for word, tag in pos_tags if word not in stop_words]\n",
        "        lemmatized_text = ' '.join(lemmatized_words)\n",
        "        return lemmatized_text\n",
        "    else:\n",
        "        return \"\"  # Return empty string for non-string inputs\n",
        "\n",
        "# Create a copy of original df\n",
        "df_clean = df.copy(deep=True)\n",
        "# Apply lemmatization in every row of df_clean\n",
        "df_clean['text'] = df_clean['text'].apply(clean_text)\n",
        "print(df_clean.head())"
      ],
      "metadata": {
        "colab": {
          "base_uri": "https://localhost:8080/"
        },
        "collapsed": true,
        "id": "TXEuJgOdldst",
        "outputId": "f384d98d-f1dd-4c97-8d6a-6def626e762c"
      },
      "execution_count": null,
      "outputs": [
        {
          "output_type": "stream",
          "name": "stderr",
          "text": [
            "[nltk_data] Downloading package stopwords to /root/nltk_data...\n",
            "[nltk_data]   Unzipping corpora/stopwords.zip.\n",
            "[nltk_data] Downloading package wordnet to /root/nltk_data...\n",
            "[nltk_data] Downloading package omw-1.4 to /root/nltk_data...\n",
            "[nltk_data] Downloading package punkt_tab to /root/nltk_data...\n",
            "[nltk_data]   Unzipping tokenizers/punkt_tab.zip.\n",
            "[nltk_data] Downloading package averaged_perceptron_tagger_eng to\n",
            "[nltk_data]     /root/nltk_data...\n",
            "[nltk_data]   Unzipping taggers/averaged_perceptron_tagger_eng.zip.\n"
          ]
        },
        {
          "output_type": "stream",
          "name": "stdout",
          "text": [
            "                                                text  labels\n",
            "0  mom clean 247 shit end result everything mess ...       1\n",
            "1  give walkthrough book base whole school pd gri...       0\n",
            "2  wish peace joy love joytrain mentalhealth quot...       0\n",
            "3  speaknoevil monkey honest globe show europeafr...       1\n",
            "4  psy regret psy happy yes feel relieve goodbye ...       0\n"
          ]
        }
      ]
    },
    {
      "cell_type": "code",
      "source": [
        "# Random index selection\n",
        "rand = random.choice(df.index)\n",
        "\n",
        "# Compare original and lemmatized texts\n",
        "sample_df = df['text'].iloc[rand]\n",
        "sample_df_clean = df_clean['text'].iloc[rand]\n",
        "print(f'Sample original text:\\n{sample_df}\\n')\n",
        "print(f'Sample text after text cleaning:\\n{sample_df_clean}')"
      ],
      "metadata": {
        "colab": {
          "base_uri": "https://localhost:8080/"
        },
        "id": "0g64JZ9BkdIh",
        "outputId": "e55e4e00-41b9-40de-f45c-c191aaddd266"
      },
      "execution_count": null,
      "outputs": [
        {
          "output_type": "stream",
          "name": "stdout",
          "text": [
            "Sample original text:\n",
            "Dissolve the blocks on your path of abundance.\" - Dr. Laurie Weiss Are you feeling anxiety because you're bored by what you used to like? This ebook will help manage Covid stress. via \n",
            "\n",
            "Sample text after text cleaning:\n",
            "dissolve block path abundance dr laurie weiss feeling anxiety youre bore use like ebook help manage covid stress via\n"
          ]
        }
      ]
    },
    {
      "cell_type": "markdown",
      "source": [
        "### 1.6 Dataset split train (70%) - test (30%)"
      ],
      "metadata": {
        "id": "ISpgNTYZkmIz"
      }
    },
    {
      "cell_type": "code",
      "source": [
        "from sklearn.model_selection import train_test_split\n",
        "\n",
        "# Split the dataset into train-test (70% - 30%)\n",
        "x = np.array(df_clean['text'])\n",
        "y = np.array(df_clean['labels'])\n",
        "X_train, X_test, y_train, y_test = train_test_split(x, y, test_size=0.3, random_state=42)\n",
        "\n",
        "print(f\"Number of instances in training set: {X_train.shape[0]}\")\n",
        "print(f\"Number of instances in training set: {X_test.shape[0]}\")"
      ],
      "metadata": {
        "colab": {
          "base_uri": "https://localhost:8080/"
        },
        "id": "0giWwX1LkU3o",
        "outputId": "7b39c3be-9a32-400f-deda-518ce082c532"
      },
      "execution_count": null,
      "outputs": [
        {
          "output_type": "stream",
          "name": "stdout",
          "text": [
            "Number of instances in training set: 5905\n",
            "Number of instances in training set: 2531\n"
          ]
        }
      ]
    },
    {
      "cell_type": "markdown",
      "source": [
        "## 2. Word2Vec Models"
      ],
      "metadata": {
        "id": "C4nNarvukfg1"
      }
    },
    {
      "cell_type": "markdown",
      "source": [
        "### 2.0 tokenization"
      ],
      "metadata": {
        "id": "RorIJGIy51j9"
      }
    },
    {
      "cell_type": "code",
      "source": [
        "tokenized_corpus = [text.split() for text in X_train]"
      ],
      "metadata": {
        "id": "4_uh0EMh59Ki"
      },
      "execution_count": null,
      "outputs": []
    },
    {
      "cell_type": "markdown",
      "source": [
        "### 2.1 1st Word2Vec Model"
      ],
      "metadata": {
        "id": "vQGETBLzof6A"
      }
    },
    {
      "cell_type": "markdown",
      "source": [
        "#### 2.1.1 1st. Word2vec Model Train into Dataset"
      ],
      "metadata": {
        "id": "6Ie8uYGKjGOn"
      }
    },
    {
      "cell_type": "code",
      "source": [
        "from gensim.models import Word2Vec\n",
        "# Train a Word2Vec model\n",
        "model = Word2Vec(\n",
        "    sentences=tokenized_corpus, # Tokenized input\n",
        "    vector_size=300,            # Dimensionality of the word vectors\n",
        "    window=5,                   # Context window size\n",
        "    min_count=1,                # Minimum word frequency\n",
        "    workers=4,                  # Number of worker threads\n",
        "    sg=0,                       # Skip-gram (1) or CBOW (0)\n",
        "    epochs=25\n",
        ")\n",
        "\n",
        "# Save the model\n",
        "model.save(\"word2vec_twitter_model.model\")"
      ],
      "metadata": {
        "collapsed": true,
        "id": "OVMkiRd8Omo2"
      },
      "execution_count": null,
      "outputs": []
    },
    {
      "cell_type": "code",
      "source": [
        "#Example of Similarity function of the word2vec_twitter_model\n",
        "model = Word2Vec.load(\"word2vec_twitter_model.model\")\n",
        "\n",
        "word = \"happy\"\n",
        "if word in model.wv:\n",
        "    #Find most similar words\n",
        "    similar_words = model.wv.most_similar(word, topn=5)\n",
        "    print(f\"Most similar words of '{word}':\")\n",
        "    for similar_word, similarity in similar_words:\n",
        "        print(f\"{similar_word}: {similarity:.4f}\")\n",
        "\n",
        "    # Find the vector for a word\n",
        "    print(f\"Vector for '{word}':\")\n",
        "    print(model.wv[word])\n",
        "else:\n",
        "    print(f\"'{word}' not in vocabulary.\")"
      ],
      "metadata": {
        "colab": {
          "base_uri": "https://localhost:8080/"
        },
        "id": "UOUcNrrW0zyp",
        "outputId": "30a5e36c-e42d-4074-9496-63a2f98c6366"
      },
      "execution_count": null,
      "outputs": [
        {
          "output_type": "stream",
          "name": "stdout",
          "text": [
            "Most similar words of 'happy':\n",
            "beautiful: 0.8779\n",
            "relationshipgoal: 0.8738\n",
            "girl: 0.8631\n",
            "sun: 0.8536\n",
            "flower: 0.8507\n",
            "Vector for 'happy':\n",
            "[ 5.43993056e-01  3.29131722e-01 -3.29833239e-01  5.60603678e-01\n",
            " -1.04029381e+00 -8.33274245e-01  2.85062939e-01  8.81676614e-01\n",
            " -3.93972307e-01 -1.52952164e-01 -2.06422463e-01 -5.09933233e-01\n",
            "  7.07762301e-01  6.73777044e-01 -7.77188003e-01  1.34486079e-01\n",
            "  4.92671132e-01  6.99735463e-01  1.92654788e-01 -2.01275364e-01\n",
            " -7.72500813e-01 -4.71889645e-01  1.33591861e-01  2.68973172e-01\n",
            " -3.11065512e-03  6.43552244e-01  5.68266153e-01  5.70186004e-02\n",
            " -2.65043229e-01 -1.25447714e+00  1.29774022e+00 -8.11350793e-02\n",
            "  5.80124319e-01 -2.34176517e-01 -7.85472333e-01  6.73251867e-01\n",
            " -2.47389704e-01 -1.42576441e-01 -3.55259478e-01 -1.00921321e+00\n",
            "  4.34422940e-01  1.56829774e-01 -7.23003298e-02  2.05008492e-01\n",
            "  3.37952524e-01  9.51323330e-01 -1.52301267e-01  1.58108342e-02\n",
            " -7.12543070e-01  2.74264783e-01 -6.19854629e-01  9.49433073e-02\n",
            " -5.72982848e-01  7.36816227e-01 -7.08585501e-01  4.56942260e-01\n",
            " -5.31635225e-01 -7.01801300e-01 -1.01261628e+00 -6.11170948e-01\n",
            " -1.86683819e-01 -1.50126144e-01 -2.18338355e-01  2.09251910e-01\n",
            " -8.08589637e-01  6.21546745e-01 -2.11528629e-01 -4.64153802e-03\n",
            " -8.45249668e-02  7.55725563e-01 -2.34564468e-01  3.27658683e-01\n",
            "  6.68415904e-01  5.36454916e-01 -3.70661728e-02  7.92248011e-01\n",
            "  1.91947803e-01 -1.34832691e-02  4.21642177e-02  5.83964050e-01\n",
            " -7.36135960e-01 -1.09786785e+00  9.40004945e-01  1.48932546e-01\n",
            "  9.71567817e-04 -9.32312369e-01  2.63188124e-01  2.16790795e-01\n",
            "  2.58299083e-01  6.17483616e-01  7.71858990e-01 -5.99133730e-01\n",
            "  1.99196190e-01  8.69223475e-01 -4.55394298e-01 -5.67822039e-01\n",
            "  1.52464092e+00 -2.58659184e-01 -6.68699801e-01  5.82183301e-01\n",
            "  2.08833605e-01  1.35153001e-02  5.10286391e-01  1.08166361e+00\n",
            " -4.98989761e-01 -4.91074957e-02 -2.44331621e-02  6.73043191e-01\n",
            " -3.64023387e-01  3.19533378e-01 -3.60498056e-02 -1.52519441e+00\n",
            " -3.35575551e-01  3.81292582e-01  5.79248965e-01 -2.94037182e-02\n",
            "  5.98978281e-01 -1.12926967e-01  1.71234831e-01 -1.54742837e-01\n",
            "  4.39885497e-01  1.63171008e-01  1.30755082e-01  1.13330759e-01\n",
            " -2.59634167e-01  9.34788287e-01 -1.27257156e+00  6.64644063e-01\n",
            " -8.80278796e-02  9.12729204e-01  1.56224184e-02  4.73546714e-01\n",
            "  1.94855899e-01  1.30348429e-01  3.11644897e-02  1.44229993e-01\n",
            " -1.81153089e-01  1.35839462e-01 -1.01558663e-01  5.20762652e-02\n",
            "  8.50500762e-01 -1.65814161e-01  3.77371579e-01  1.15325558e+00\n",
            " -6.87599480e-01 -1.38714418e-01 -1.15616024e+00  5.99745929e-01\n",
            "  8.43645811e-01 -1.29585445e+00 -3.66353333e-01 -8.98881733e-01\n",
            "  3.62130910e-01  2.02151194e-01 -4.92579788e-01  9.31584656e-01\n",
            " -1.25659600e-01  5.15983105e-01 -2.74711609e-01  1.61000669e+00\n",
            "  6.97535992e-01  5.41324437e-01 -6.50017977e-01  1.04359433e-01\n",
            "  8.85937512e-01  1.29944694e+00 -6.70234859e-01  3.29647690e-01\n",
            " -9.66827989e-01  2.92270660e-01 -2.34153435e-01 -8.98395360e-01\n",
            "  4.20674443e-01 -6.61115050e-01 -1.18297100e+00 -4.13122252e-02\n",
            "  1.03475615e-01 -8.19834650e-01  1.13924578e-01 -5.91214538e-01\n",
            " -7.55062401e-01 -3.07339542e-02 -6.05014145e-01 -7.39882290e-01\n",
            " -4.14990872e-01  1.22238374e+00  9.21721697e-01  1.44278005e-01\n",
            "  8.91454399e-01 -3.20338398e-01  4.61671412e-01 -4.01253432e-01\n",
            " -2.51118600e-01 -1.82984814e-01 -2.95748655e-02 -3.53311807e-01\n",
            " -9.95552480e-01 -4.72417742e-01  1.56924516e-01 -2.85948902e-01\n",
            " -9.51994304e-03  4.06404525e-01  9.18525875e-01  3.26395273e-01\n",
            "  3.58956128e-01 -1.44484406e-02 -1.11418821e-01 -1.19627368e+00\n",
            "  1.05355453e+00 -3.49118650e-01 -8.59556347e-02 -1.26617610e-01\n",
            "  6.49566054e-01 -9.42992091e-01  6.01573288e-01 -2.07413316e-01\n",
            " -2.84917146e-01 -6.28887415e-01 -5.97090006e-01 -2.04214603e-01\n",
            "  1.27305537e-01  8.16168308e-01 -2.49795839e-02 -6.72437774e-04\n",
            " -1.08422339e-01 -6.60073757e-01  1.03436184e+00 -2.67075207e-02\n",
            " -1.64127089e-02 -7.94483721e-02  1.09710085e+00 -8.62815261e-01\n",
            " -3.38834554e-01  1.14385283e+00  1.89196587e-01  6.50683165e-01\n",
            " -1.32434502e-01  1.18343747e+00 -3.81088734e-01  3.12494040e-01\n",
            "  1.50741243e+00  2.17394099e-01 -2.04575971e-01 -3.35437179e-01\n",
            " -2.32155478e-04 -9.53086138e-01  1.50288865e-01 -9.46098685e-01\n",
            "  4.21287924e-01 -7.54773438e-01 -5.07348239e-01  7.75338411e-01\n",
            "  8.91279995e-01 -3.37229431e-01  2.17131004e-01 -8.82433772e-01\n",
            "  7.93562591e-01  3.04694027e-01 -1.35282707e+00  1.97553620e-01\n",
            " -9.84911740e-01  2.43586168e-01  2.42515951e-01 -7.09878027e-01\n",
            " -1.10970967e-01  6.93124235e-01 -1.41645461e-01 -3.84135991e-01\n",
            " -1.18725836e+00  2.83950120e-01  4.20723140e-01 -4.68696833e-01\n",
            "  3.36405635e-01  2.08351642e-01  2.12029979e-01 -7.42593646e-01\n",
            "  5.07226288e-01 -9.59165514e-01 -6.45446837e-01  8.02309215e-01\n",
            " -7.57507086e-01 -6.68188930e-01  8.05387795e-01  5.92633069e-01\n",
            " -7.41475224e-01  1.05014712e-01 -9.07065630e-01  7.64155030e-01\n",
            " -1.07434475e+00  1.14101660e+00 -6.03908300e-01  2.80780882e-01\n",
            "  4.19228077e-01 -1.20340228e+00 -2.68827025e-02  6.46144032e-01\n",
            " -4.43622649e-01  7.17046082e-01 -5.69268502e-02  7.79224098e-01]\n"
          ]
        }
      ]
    },
    {
      "cell_type": "markdown",
      "source": [
        "#### 2.1.2 Convert Sentences to Vectors, Tokenazation & PCA in 1st Word2Vec Model"
      ],
      "metadata": {
        "id": "1EdGK9Ipkrzo"
      }
    },
    {
      "cell_type": "code",
      "source": [
        "from sklearn.decomposition import PCA\n",
        "\n",
        "def sent_to_vec(sentence, model):\n",
        "  # Tokenize the sentence\n",
        "  tokenized_sent = sentence.split()\n",
        "  # Get word vectors\n",
        "  word_vecs = [model.wv[word] for word in tokenized_sent if word in model.wv]\n",
        "\n",
        "  if len(word_vecs) == 0:\n",
        "    return np.zeros(model.vector_size)\n",
        "  return np.mean(word_vecs, axis=0)\n",
        "\n",
        "# Split the dataset in word vectors (x) and labels (y)\n",
        "X_train_1 = np.array([sent_to_vec(sentence, model) for sentence in X_train])\n",
        "X_test_1 = np.array([sent_to_vec(sentence, model) for sentence in X_test])\n",
        "\n",
        "# Perform PCA on word vectors\n",
        "pca = PCA(n_components=0.90, svd_solver=\"full\")\n",
        "X_train_reduced_1 = pca.fit_transform(X_train_1)\n",
        "X_test_reduced_1 = pca.transform(X_test_1)\n",
        "variance_explained = pca.explained_variance_ratio_\n",
        "num_components = len(variance_explained)\n",
        "print(f\"Number of principal components retained: {num_components}\")\n",
        "print(f\"Totl variance explained by principal components: {np.cumsum(variance_explained)[-1]:.4f}\")"
      ],
      "metadata": {
        "id": "0Hh8vl-dm7R8",
        "colab": {
          "base_uri": "https://localhost:8080/"
        },
        "outputId": "591ed81c-ca7e-4791-8173-25b07b10454d"
      },
      "execution_count": null,
      "outputs": [
        {
          "output_type": "stream",
          "name": "stdout",
          "text": [
            "Number of principal components retained: 10\n",
            "Totl variance explained by principal components: 0.9191\n"
          ]
        }
      ]
    },
    {
      "cell_type": "code",
      "source": [
        "print(X_test_reduced_1.shape)\n",
        "print(X_train_reduced_1.shape)"
      ],
      "metadata": {
        "id": "caWl8Vf57qxD",
        "colab": {
          "base_uri": "https://localhost:8080/"
        },
        "outputId": "d9a8c0bc-c5c7-4aea-902f-744d2708882a"
      },
      "execution_count": null,
      "outputs": [
        {
          "output_type": "stream",
          "name": "stdout",
          "text": [
            "(2531, 10)\n",
            "(5905, 10)\n"
          ]
        }
      ]
    },
    {
      "cell_type": "markdown",
      "source": [
        "### 2.2 2nd Word2Vec Model"
      ],
      "metadata": {
        "id": "VYhCJZizdqn5"
      }
    },
    {
      "cell_type": "markdown",
      "source": [
        "#### 2.2.1 Convert Sentences to Vectors, Tokenazation & PCA in 2nd Word2Vec Model"
      ],
      "metadata": {
        "id": "CbqTupU33H9o"
      }
    },
    {
      "cell_type": "code",
      "source": [
        "from gensim.models import KeyedVectors\n",
        "import gensim.downloader as api\n",
        "import numpy as np\n",
        "from sklearn.decomposition import PCA\n",
        "\n",
        "# Load the Google News pretrained Word2Vec model\n",
        "google_model = api.load(\"word2vec-google-news-300\")\n",
        "\n",
        "# Function to convert sentences into vectors\n",
        "def sent_to_vec(sentence, model):\n",
        "    # Tokenize the sentence\n",
        "    tokenized_sent = sentence.split()\n",
        "\n",
        "    # Get word vectors for words in the model's vocabulary\n",
        "    word_vecs = [model[word] for word in tokenized_sent if word in model]\n",
        "\n",
        "    # Return the average vector, or a zero vector if no words are in the model\n",
        "    if len(word_vecs) == 0:\n",
        "        return np.zeros(model.vector_size)\n",
        "    return np.mean(word_vecs, axis=0)\n",
        "\n",
        "# Transform dataset into vectors using the Google News model\n",
        "X_train_2 = np.array([sent_to_vec(sentence, google_model) for sentence in X_train])\n",
        "X_test_2 = np.array([sent_to_vec(sentence, google_model) for sentence in X_test])\n",
        "\n",
        "# Apply PCA for dimensionality reduction\n",
        "pca = PCA(n_components=0.90, svd_solver=\"full\")  # Retain 90% variance\n",
        "X_train_reduced_2 = pca.fit_transform(X_train_2)\n",
        "X_test_reduced_2 = pca.transform(X_test_2)\n",
        "\n",
        "variance_explained = pca.explained_variance_ratio_\n",
        "num_components = len(variance_explained)\n",
        "print(f\"Number of principal components retained: {num_components}\")\n",
        "print(f\"Totl variance explained by principal components: {np.cumsum(variance_explained)[-1]:.4f}\")\n"
      ],
      "metadata": {
        "id": "81gGVqkL7Afn",
        "colab": {
          "base_uri": "https://localhost:8080/"
        },
        "outputId": "0828830f-d13b-4fc0-d527-8756526991b8"
      },
      "execution_count": null,
      "outputs": [
        {
          "output_type": "stream",
          "name": "stdout",
          "text": [
            "[==================================================] 100.0% 1662.8/1662.8MB downloaded\n",
            "Number of principal components retained: 162\n",
            "Totl variance explained by principal components: 0.9000\n"
          ]
        }
      ]
    },
    {
      "cell_type": "code",
      "source": [
        "word = \"happy\"\n",
        "similar_words = google_model.most_similar(\"happy\", topn=5)\n",
        "\n",
        "# Print the similar words and their similarity scores\n",
        "for word, similarity in similar_words:\n",
        "    print(f\"Word: {word}, Similarity: {similarity}\")"
      ],
      "metadata": {
        "colab": {
          "base_uri": "https://localhost:8080/"
        },
        "id": "8Gr3zcLGvgCF",
        "outputId": "c716ff95-d20f-48c5-ce7f-af73e0a9f16b"
      },
      "execution_count": null,
      "outputs": [
        {
          "output_type": "stream",
          "name": "stdout",
          "text": [
            "Word: glad, Similarity: 0.7408890724182129\n",
            "Word: pleased, Similarity: 0.6632170677185059\n",
            "Word: ecstatic, Similarity: 0.6626912355422974\n",
            "Word: overjoyed, Similarity: 0.6599286794662476\n",
            "Word: thrilled, Similarity: 0.6514049172401428\n"
          ]
        }
      ]
    },
    {
      "cell_type": "markdown",
      "source": [
        "## 3 Logistic Regression"
      ],
      "metadata": {
        "id": "P3FJWywGk4sn"
      }
    },
    {
      "cell_type": "markdown",
      "source": [
        "### 3.1 Logistic Regression with 1st Word2Vec Model"
      ],
      "metadata": {
        "id": "18JJN2bc_yue"
      }
    },
    {
      "cell_type": "code",
      "source": [
        "from sklearn.model_selection import train_test_split, GridSearchCV\n",
        "from sklearn.linear_model import LogisticRegression\n",
        "\n",
        "# Initialize Logistic Regression\n",
        "logreg = LogisticRegression(random_state=42, max_iter=1000)\n",
        "\n",
        "# Define parameters range\n",
        "grid_space = {\n",
        "    \"C\": [0.01, 0.1, 1, 10],\n",
        "    \"penalty\": ['l2', None],\n",
        "    \"solver\": ['lbfgs', 'sag', 'saga'],\n",
        "}\n",
        "\n",
        "# Perform 10-folds cross-validation for hyperparameters tuning\n",
        "gs = GridSearchCV(estimator=logreg, param_grid=grid_space, cv=10, scoring=\"accuracy\", verbose=4)\n",
        "gs.fit(X_train_reduced_1, y_train)"
      ],
      "metadata": {
        "colab": {
          "base_uri": "https://localhost:8080/",
          "height": 1000
        },
        "id": "G4-y-zk6sp5M",
        "outputId": "2ae9a1b8-8dd9-4c4d-b658-85c6ad321163",
        "collapsed": true
      },
      "execution_count": null,
      "outputs": [
        {
          "output_type": "stream",
          "name": "stdout",
          "text": [
            "Fitting 10 folds for each of 24 candidates, totalling 240 fits\n",
            "[CV 1/10] END .C=0.01, penalty=l2, solver=lbfgs;, score=0.797 total time=   0.0s\n",
            "[CV 2/10] END .C=0.01, penalty=l2, solver=lbfgs;, score=0.734 total time=   0.0s\n",
            "[CV 3/10] END .C=0.01, penalty=l2, solver=lbfgs;, score=0.734 total time=   0.0s\n",
            "[CV 4/10] END .C=0.01, penalty=l2, solver=lbfgs;, score=0.763 total time=   0.0s\n",
            "[CV 5/10] END .C=0.01, penalty=l2, solver=lbfgs;, score=0.785 total time=   0.0s\n",
            "[CV 6/10] END .C=0.01, penalty=l2, solver=lbfgs;, score=0.781 total time=   0.1s\n",
            "[CV 7/10] END .C=0.01, penalty=l2, solver=lbfgs;, score=0.771 total time=   0.0s\n",
            "[CV 8/10] END .C=0.01, penalty=l2, solver=lbfgs;, score=0.783 total time=   0.0s\n",
            "[CV 9/10] END .C=0.01, penalty=l2, solver=lbfgs;, score=0.817 total time=   0.0s\n",
            "[CV 10/10] END C=0.01, penalty=l2, solver=lbfgs;, score=0.803 total time=   0.0s\n",
            "[CV 1/10] END ...C=0.01, penalty=l2, solver=sag;, score=0.797 total time=   0.0s\n",
            "[CV 2/10] END ...C=0.01, penalty=l2, solver=sag;, score=0.733 total time=   0.0s\n",
            "[CV 3/10] END ...C=0.01, penalty=l2, solver=sag;, score=0.734 total time=   0.0s\n",
            "[CV 4/10] END ...C=0.01, penalty=l2, solver=sag;, score=0.763 total time=   0.0s\n",
            "[CV 5/10] END ...C=0.01, penalty=l2, solver=sag;, score=0.785 total time=   0.0s\n",
            "[CV 6/10] END ...C=0.01, penalty=l2, solver=sag;, score=0.781 total time=   0.0s\n",
            "[CV 7/10] END ...C=0.01, penalty=l2, solver=sag;, score=0.771 total time=   0.0s\n",
            "[CV 8/10] END ...C=0.01, penalty=l2, solver=sag;, score=0.783 total time=   0.0s\n",
            "[CV 9/10] END ...C=0.01, penalty=l2, solver=sag;, score=0.817 total time=   0.0s\n",
            "[CV 10/10] END ..C=0.01, penalty=l2, solver=sag;, score=0.803 total time=   0.0s\n",
            "[CV 1/10] END ..C=0.01, penalty=l2, solver=saga;, score=0.797 total time=   0.0s\n",
            "[CV 2/10] END ..C=0.01, penalty=l2, solver=saga;, score=0.733 total time=   0.0s\n",
            "[CV 3/10] END ..C=0.01, penalty=l2, solver=saga;, score=0.734 total time=   0.0s\n",
            "[CV 4/10] END ..C=0.01, penalty=l2, solver=saga;, score=0.763 total time=   0.0s\n",
            "[CV 5/10] END ..C=0.01, penalty=l2, solver=saga;, score=0.785 total time=   0.0s\n",
            "[CV 6/10] END ..C=0.01, penalty=l2, solver=saga;, score=0.781 total time=   0.0s\n",
            "[CV 7/10] END ..C=0.01, penalty=l2, solver=saga;, score=0.771 total time=   0.0s\n",
            "[CV 8/10] END ..C=0.01, penalty=l2, solver=saga;, score=0.783 total time=   0.0s\n",
            "[CV 9/10] END ..C=0.01, penalty=l2, solver=saga;, score=0.817 total time=   0.0s\n",
            "[CV 10/10] END .C=0.01, penalty=l2, solver=saga;, score=0.803 total time=   0.0s\n",
            "[CV 1/10] END C=0.01, penalty=None, solver=lbfgs;, score=0.800 total time=   0.0s\n",
            "[CV 2/10] END C=0.01, penalty=None, solver=lbfgs;, score=0.745 total time=   0.0s\n",
            "[CV 3/10] END C=0.01, penalty=None, solver=lbfgs;, score=0.745 total time=   0.0s\n",
            "[CV 4/10] END C=0.01, penalty=None, solver=lbfgs;, score=0.765 total time=   0.0s\n",
            "[CV 5/10] END C=0.01, penalty=None, solver=lbfgs;, score=0.792 total time=   0.0s\n",
            "[CV 6/10] END C=0.01, penalty=None, solver=lbfgs;, score=0.793 total time=   0.0s\n"
          ]
        },
        {
          "output_type": "stream",
          "name": "stderr",
          "text": [
            "/usr/local/lib/python3.11/dist-packages/sklearn/linear_model/_logistic.py:1208: UserWarning: Setting penalty=None will ignore the C and l1_ratio parameters\n",
            "  warnings.warn(\n",
            "/usr/local/lib/python3.11/dist-packages/sklearn/linear_model/_logistic.py:1208: UserWarning: Setting penalty=None will ignore the C and l1_ratio parameters\n",
            "  warnings.warn(\n",
            "/usr/local/lib/python3.11/dist-packages/sklearn/linear_model/_logistic.py:1208: UserWarning: Setting penalty=None will ignore the C and l1_ratio parameters\n",
            "  warnings.warn(\n",
            "/usr/local/lib/python3.11/dist-packages/sklearn/linear_model/_logistic.py:1208: UserWarning: Setting penalty=None will ignore the C and l1_ratio parameters\n",
            "  warnings.warn(\n",
            "/usr/local/lib/python3.11/dist-packages/sklearn/linear_model/_logistic.py:1208: UserWarning: Setting penalty=None will ignore the C and l1_ratio parameters\n",
            "  warnings.warn(\n",
            "/usr/local/lib/python3.11/dist-packages/sklearn/linear_model/_logistic.py:1208: UserWarning: Setting penalty=None will ignore the C and l1_ratio parameters\n",
            "  warnings.warn(\n",
            "/usr/local/lib/python3.11/dist-packages/sklearn/linear_model/_logistic.py:1208: UserWarning: Setting penalty=None will ignore the C and l1_ratio parameters\n",
            "  warnings.warn(\n",
            "/usr/local/lib/python3.11/dist-packages/sklearn/linear_model/_logistic.py:1208: UserWarning: Setting penalty=None will ignore the C and l1_ratio parameters\n",
            "  warnings.warn(\n",
            "/usr/local/lib/python3.11/dist-packages/sklearn/linear_model/_logistic.py:1208: UserWarning: Setting penalty=None will ignore the C and l1_ratio parameters\n",
            "  warnings.warn(\n",
            "/usr/local/lib/python3.11/dist-packages/sklearn/linear_model/_logistic.py:1208: UserWarning: Setting penalty=None will ignore the C and l1_ratio parameters\n",
            "  warnings.warn(\n"
          ]
        },
        {
          "output_type": "stream",
          "name": "stdout",
          "text": [
            "[CV 7/10] END C=0.01, penalty=None, solver=lbfgs;, score=0.768 total time=   0.0s\n",
            "[CV 8/10] END C=0.01, penalty=None, solver=lbfgs;, score=0.785 total time=   0.0s\n",
            "[CV 9/10] END C=0.01, penalty=None, solver=lbfgs;, score=0.803 total time=   0.0s\n",
            "[CV 10/10] END C=0.01, penalty=None, solver=lbfgs;, score=0.805 total time=   0.0s\n",
            "[CV 1/10] END .C=0.01, penalty=None, solver=sag;, score=0.800 total time=   0.1s\n",
            "[CV 2/10] END .C=0.01, penalty=None, solver=sag;, score=0.745 total time=   0.1s\n"
          ]
        },
        {
          "output_type": "stream",
          "name": "stderr",
          "text": [
            "/usr/local/lib/python3.11/dist-packages/sklearn/linear_model/_logistic.py:1208: UserWarning: Setting penalty=None will ignore the C and l1_ratio parameters\n",
            "  warnings.warn(\n",
            "/usr/local/lib/python3.11/dist-packages/sklearn/linear_model/_logistic.py:1208: UserWarning: Setting penalty=None will ignore the C and l1_ratio parameters\n",
            "  warnings.warn(\n",
            "/usr/local/lib/python3.11/dist-packages/sklearn/linear_model/_logistic.py:1208: UserWarning: Setting penalty=None will ignore the C and l1_ratio parameters\n",
            "  warnings.warn(\n",
            "/usr/local/lib/python3.11/dist-packages/sklearn/linear_model/_logistic.py:1208: UserWarning: Setting penalty=None will ignore the C and l1_ratio parameters\n",
            "  warnings.warn(\n"
          ]
        },
        {
          "output_type": "stream",
          "name": "stdout",
          "text": [
            "[CV 3/10] END .C=0.01, penalty=None, solver=sag;, score=0.745 total time=   0.0s\n",
            "[CV 4/10] END .C=0.01, penalty=None, solver=sag;, score=0.765 total time=   0.0s\n",
            "[CV 5/10] END .C=0.01, penalty=None, solver=sag;, score=0.792 total time=   0.0s\n",
            "[CV 6/10] END .C=0.01, penalty=None, solver=sag;, score=0.793 total time=   0.1s\n",
            "[CV 7/10] END .C=0.01, penalty=None, solver=sag;, score=0.768 total time=   0.0s\n"
          ]
        },
        {
          "output_type": "stream",
          "name": "stderr",
          "text": [
            "/usr/local/lib/python3.11/dist-packages/sklearn/linear_model/_logistic.py:1208: UserWarning: Setting penalty=None will ignore the C and l1_ratio parameters\n",
            "  warnings.warn(\n",
            "/usr/local/lib/python3.11/dist-packages/sklearn/linear_model/_logistic.py:1208: UserWarning: Setting penalty=None will ignore the C and l1_ratio parameters\n",
            "  warnings.warn(\n",
            "/usr/local/lib/python3.11/dist-packages/sklearn/linear_model/_logistic.py:1208: UserWarning: Setting penalty=None will ignore the C and l1_ratio parameters\n",
            "  warnings.warn(\n",
            "/usr/local/lib/python3.11/dist-packages/sklearn/linear_model/_logistic.py:1208: UserWarning: Setting penalty=None will ignore the C and l1_ratio parameters\n",
            "  warnings.warn(\n",
            "/usr/local/lib/python3.11/dist-packages/sklearn/linear_model/_logistic.py:1208: UserWarning: Setting penalty=None will ignore the C and l1_ratio parameters\n",
            "  warnings.warn(\n"
          ]
        },
        {
          "output_type": "stream",
          "name": "stdout",
          "text": [
            "[CV 8/10] END .C=0.01, penalty=None, solver=sag;, score=0.785 total time=   0.0s\n",
            "[CV 9/10] END .C=0.01, penalty=None, solver=sag;, score=0.803 total time=   0.0s\n",
            "[CV 10/10] END C=0.01, penalty=None, solver=sag;, score=0.805 total time=   0.0s\n",
            "[CV 1/10] END C=0.01, penalty=None, solver=saga;, score=0.800 total time=   0.0s\n",
            "[CV 2/10] END C=0.01, penalty=None, solver=saga;, score=0.745 total time=   0.0s\n",
            "[CV 3/10] END C=0.01, penalty=None, solver=saga;, score=0.745 total time=   0.0s\n"
          ]
        },
        {
          "output_type": "stream",
          "name": "stderr",
          "text": [
            "/usr/local/lib/python3.11/dist-packages/sklearn/linear_model/_logistic.py:1208: UserWarning: Setting penalty=None will ignore the C and l1_ratio parameters\n",
            "  warnings.warn(\n",
            "/usr/local/lib/python3.11/dist-packages/sklearn/linear_model/_logistic.py:1208: UserWarning: Setting penalty=None will ignore the C and l1_ratio parameters\n",
            "  warnings.warn(\n",
            "/usr/local/lib/python3.11/dist-packages/sklearn/linear_model/_logistic.py:1208: UserWarning: Setting penalty=None will ignore the C and l1_ratio parameters\n",
            "  warnings.warn(\n",
            "/usr/local/lib/python3.11/dist-packages/sklearn/linear_model/_logistic.py:1208: UserWarning: Setting penalty=None will ignore the C and l1_ratio parameters\n",
            "  warnings.warn(\n",
            "/usr/local/lib/python3.11/dist-packages/sklearn/linear_model/_logistic.py:1208: UserWarning: Setting penalty=None will ignore the C and l1_ratio parameters\n",
            "  warnings.warn(\n",
            "/usr/local/lib/python3.11/dist-packages/sklearn/linear_model/_logistic.py:1208: UserWarning: Setting penalty=None will ignore the C and l1_ratio parameters\n",
            "  warnings.warn(\n"
          ]
        },
        {
          "output_type": "stream",
          "name": "stdout",
          "text": [
            "[CV 4/10] END C=0.01, penalty=None, solver=saga;, score=0.765 total time=   0.0s\n",
            "[CV 5/10] END C=0.01, penalty=None, solver=saga;, score=0.792 total time=   0.0s\n",
            "[CV 6/10] END C=0.01, penalty=None, solver=saga;, score=0.793 total time=   0.0s\n",
            "[CV 7/10] END C=0.01, penalty=None, solver=saga;, score=0.768 total time=   0.0s\n",
            "[CV 8/10] END C=0.01, penalty=None, solver=saga;, score=0.785 total time=   0.1s\n"
          ]
        },
        {
          "output_type": "stream",
          "name": "stderr",
          "text": [
            "/usr/local/lib/python3.11/dist-packages/sklearn/linear_model/_logistic.py:1208: UserWarning: Setting penalty=None will ignore the C and l1_ratio parameters\n",
            "  warnings.warn(\n",
            "/usr/local/lib/python3.11/dist-packages/sklearn/linear_model/_logistic.py:1208: UserWarning: Setting penalty=None will ignore the C and l1_ratio parameters\n",
            "  warnings.warn(\n",
            "/usr/local/lib/python3.11/dist-packages/sklearn/linear_model/_logistic.py:1208: UserWarning: Setting penalty=None will ignore the C and l1_ratio parameters\n",
            "  warnings.warn(\n",
            "/usr/local/lib/python3.11/dist-packages/sklearn/linear_model/_logistic.py:1208: UserWarning: Setting penalty=None will ignore the C and l1_ratio parameters\n",
            "  warnings.warn(\n",
            "/usr/local/lib/python3.11/dist-packages/sklearn/linear_model/_logistic.py:1208: UserWarning: Setting penalty=None will ignore the C and l1_ratio parameters\n",
            "  warnings.warn(\n"
          ]
        },
        {
          "output_type": "stream",
          "name": "stdout",
          "text": [
            "[CV 9/10] END C=0.01, penalty=None, solver=saga;, score=0.803 total time=   0.1s\n",
            "[CV 10/10] END C=0.01, penalty=None, solver=saga;, score=0.805 total time=   0.1s\n",
            "[CV 1/10] END ..C=0.1, penalty=l2, solver=lbfgs;, score=0.800 total time=   0.0s\n",
            "[CV 2/10] END ..C=0.1, penalty=l2, solver=lbfgs;, score=0.743 total time=   0.0s\n",
            "[CV 3/10] END ..C=0.1, penalty=l2, solver=lbfgs;, score=0.746 total time=   0.0s\n",
            "[CV 4/10] END ..C=0.1, penalty=l2, solver=lbfgs;, score=0.765 total time=   0.0s\n",
            "[CV 5/10] END ..C=0.1, penalty=l2, solver=lbfgs;, score=0.794 total time=   0.0s\n",
            "[CV 6/10] END ..C=0.1, penalty=l2, solver=lbfgs;, score=0.790 total time=   0.0s\n",
            "[CV 7/10] END ..C=0.1, penalty=l2, solver=lbfgs;, score=0.771 total time=   0.0s\n",
            "[CV 8/10] END ..C=0.1, penalty=l2, solver=lbfgs;, score=0.783 total time=   0.0s\n",
            "[CV 9/10] END ..C=0.1, penalty=l2, solver=lbfgs;, score=0.807 total time=   0.0s\n",
            "[CV 10/10] END .C=0.1, penalty=l2, solver=lbfgs;, score=0.807 total time=   0.0s\n",
            "[CV 1/10] END ....C=0.1, penalty=l2, solver=sag;, score=0.800 total time=   0.1s\n",
            "[CV 2/10] END ....C=0.1, penalty=l2, solver=sag;, score=0.743 total time=   0.1s\n",
            "[CV 3/10] END ....C=0.1, penalty=l2, solver=sag;, score=0.746 total time=   0.1s\n",
            "[CV 4/10] END ....C=0.1, penalty=l2, solver=sag;, score=0.765 total time=   0.1s\n",
            "[CV 5/10] END ....C=0.1, penalty=l2, solver=sag;, score=0.794 total time=   0.1s\n",
            "[CV 6/10] END ....C=0.1, penalty=l2, solver=sag;, score=0.790 total time=   0.1s\n",
            "[CV 7/10] END ....C=0.1, penalty=l2, solver=sag;, score=0.771 total time=   0.1s\n",
            "[CV 8/10] END ....C=0.1, penalty=l2, solver=sag;, score=0.783 total time=   0.1s\n",
            "[CV 9/10] END ....C=0.1, penalty=l2, solver=sag;, score=0.807 total time=   0.1s\n",
            "[CV 10/10] END ...C=0.1, penalty=l2, solver=sag;, score=0.807 total time=   0.1s\n",
            "[CV 1/10] END ...C=0.1, penalty=l2, solver=saga;, score=0.800 total time=   0.1s\n",
            "[CV 2/10] END ...C=0.1, penalty=l2, solver=saga;, score=0.743 total time=   0.1s\n",
            "[CV 3/10] END ...C=0.1, penalty=l2, solver=saga;, score=0.746 total time=   0.1s\n",
            "[CV 4/10] END ...C=0.1, penalty=l2, solver=saga;, score=0.765 total time=   0.1s\n",
            "[CV 5/10] END ...C=0.1, penalty=l2, solver=saga;, score=0.794 total time=   0.0s\n",
            "[CV 6/10] END ...C=0.1, penalty=l2, solver=saga;, score=0.790 total time=   0.1s\n",
            "[CV 7/10] END ...C=0.1, penalty=l2, solver=saga;, score=0.771 total time=   0.1s\n",
            "[CV 8/10] END ...C=0.1, penalty=l2, solver=saga;, score=0.783 total time=   0.0s\n",
            "[CV 9/10] END ...C=0.1, penalty=l2, solver=saga;, score=0.807 total time=   0.1s\n",
            "[CV 10/10] END ..C=0.1, penalty=l2, solver=saga;, score=0.807 total time=   0.1s\n",
            "[CV 1/10] END C=0.1, penalty=None, solver=lbfgs;, score=0.800 total time=   0.0s\n"
          ]
        },
        {
          "output_type": "stream",
          "name": "stderr",
          "text": [
            "/usr/local/lib/python3.11/dist-packages/sklearn/linear_model/_logistic.py:1208: UserWarning: Setting penalty=None will ignore the C and l1_ratio parameters\n",
            "  warnings.warn(\n",
            "/usr/local/lib/python3.11/dist-packages/sklearn/linear_model/_logistic.py:1208: UserWarning: Setting penalty=None will ignore the C and l1_ratio parameters\n",
            "  warnings.warn(\n",
            "/usr/local/lib/python3.11/dist-packages/sklearn/linear_model/_logistic.py:1208: UserWarning: Setting penalty=None will ignore the C and l1_ratio parameters\n",
            "  warnings.warn(\n",
            "/usr/local/lib/python3.11/dist-packages/sklearn/linear_model/_logistic.py:1208: UserWarning: Setting penalty=None will ignore the C and l1_ratio parameters\n",
            "  warnings.warn(\n",
            "/usr/local/lib/python3.11/dist-packages/sklearn/linear_model/_logistic.py:1208: UserWarning: Setting penalty=None will ignore the C and l1_ratio parameters\n",
            "  warnings.warn(\n",
            "/usr/local/lib/python3.11/dist-packages/sklearn/linear_model/_logistic.py:1208: UserWarning: Setting penalty=None will ignore the C and l1_ratio parameters\n",
            "  warnings.warn(\n",
            "/usr/local/lib/python3.11/dist-packages/sklearn/linear_model/_logistic.py:1208: UserWarning: Setting penalty=None will ignore the C and l1_ratio parameters\n",
            "  warnings.warn(\n"
          ]
        },
        {
          "output_type": "stream",
          "name": "stdout",
          "text": [
            "[CV 2/10] END C=0.1, penalty=None, solver=lbfgs;, score=0.745 total time=   0.0s\n",
            "[CV 3/10] END C=0.1, penalty=None, solver=lbfgs;, score=0.745 total time=   0.0s\n",
            "[CV 4/10] END C=0.1, penalty=None, solver=lbfgs;, score=0.765 total time=   0.0s\n",
            "[CV 5/10] END C=0.1, penalty=None, solver=lbfgs;, score=0.792 total time=   0.0s\n",
            "[CV 6/10] END C=0.1, penalty=None, solver=lbfgs;, score=0.793 total time=   0.0s\n",
            "[CV 7/10] END C=0.1, penalty=None, solver=lbfgs;, score=0.768 total time=   0.0s\n",
            "[CV 8/10] END C=0.1, penalty=None, solver=lbfgs;, score=0.785 total time=   0.0s\n"
          ]
        },
        {
          "output_type": "stream",
          "name": "stderr",
          "text": [
            "/usr/local/lib/python3.11/dist-packages/sklearn/linear_model/_logistic.py:1208: UserWarning: Setting penalty=None will ignore the C and l1_ratio parameters\n",
            "  warnings.warn(\n",
            "/usr/local/lib/python3.11/dist-packages/sklearn/linear_model/_logistic.py:1208: UserWarning: Setting penalty=None will ignore the C and l1_ratio parameters\n",
            "  warnings.warn(\n",
            "/usr/local/lib/python3.11/dist-packages/sklearn/linear_model/_logistic.py:1208: UserWarning: Setting penalty=None will ignore the C and l1_ratio parameters\n",
            "  warnings.warn(\n",
            "/usr/local/lib/python3.11/dist-packages/sklearn/linear_model/_logistic.py:1208: UserWarning: Setting penalty=None will ignore the C and l1_ratio parameters\n",
            "  warnings.warn(\n",
            "/usr/local/lib/python3.11/dist-packages/sklearn/linear_model/_logistic.py:1208: UserWarning: Setting penalty=None will ignore the C and l1_ratio parameters\n",
            "  warnings.warn(\n"
          ]
        },
        {
          "output_type": "stream",
          "name": "stdout",
          "text": [
            "[CV 9/10] END C=0.1, penalty=None, solver=lbfgs;, score=0.803 total time=   0.0s\n",
            "[CV 10/10] END C=0.1, penalty=None, solver=lbfgs;, score=0.805 total time=   0.0s\n",
            "[CV 1/10] END ..C=0.1, penalty=None, solver=sag;, score=0.800 total time=   0.1s\n",
            "[CV 2/10] END ..C=0.1, penalty=None, solver=sag;, score=0.745 total time=   0.1s\n",
            "[CV 3/10] END ..C=0.1, penalty=None, solver=sag;, score=0.745 total time=   0.1s\n",
            "[CV 4/10] END ..C=0.1, penalty=None, solver=sag;, score=0.765 total time=   0.1s\n"
          ]
        },
        {
          "output_type": "stream",
          "name": "stderr",
          "text": [
            "/usr/local/lib/python3.11/dist-packages/sklearn/linear_model/_logistic.py:1208: UserWarning: Setting penalty=None will ignore the C and l1_ratio parameters\n",
            "  warnings.warn(\n",
            "/usr/local/lib/python3.11/dist-packages/sklearn/linear_model/_logistic.py:1208: UserWarning: Setting penalty=None will ignore the C and l1_ratio parameters\n",
            "  warnings.warn(\n",
            "/usr/local/lib/python3.11/dist-packages/sklearn/linear_model/_logistic.py:1208: UserWarning: Setting penalty=None will ignore the C and l1_ratio parameters\n",
            "  warnings.warn(\n"
          ]
        },
        {
          "output_type": "stream",
          "name": "stdout",
          "text": [
            "[CV 5/10] END ..C=0.1, penalty=None, solver=sag;, score=0.792 total time=   0.1s\n",
            "[CV 6/10] END ..C=0.1, penalty=None, solver=sag;, score=0.793 total time=   0.1s\n",
            "[CV 7/10] END ..C=0.1, penalty=None, solver=sag;, score=0.768 total time=   0.1s\n",
            "[CV 8/10] END ..C=0.1, penalty=None, solver=sag;, score=0.785 total time=   0.1s\n"
          ]
        },
        {
          "output_type": "stream",
          "name": "stderr",
          "text": [
            "/usr/local/lib/python3.11/dist-packages/sklearn/linear_model/_logistic.py:1208: UserWarning: Setting penalty=None will ignore the C and l1_ratio parameters\n",
            "  warnings.warn(\n",
            "/usr/local/lib/python3.11/dist-packages/sklearn/linear_model/_logistic.py:1208: UserWarning: Setting penalty=None will ignore the C and l1_ratio parameters\n",
            "  warnings.warn(\n",
            "/usr/local/lib/python3.11/dist-packages/sklearn/linear_model/_logistic.py:1208: UserWarning: Setting penalty=None will ignore the C and l1_ratio parameters\n",
            "  warnings.warn(\n",
            "/usr/local/lib/python3.11/dist-packages/sklearn/linear_model/_logistic.py:1208: UserWarning: Setting penalty=None will ignore the C and l1_ratio parameters\n",
            "  warnings.warn(\n",
            "/usr/local/lib/python3.11/dist-packages/sklearn/linear_model/_logistic.py:1208: UserWarning: Setting penalty=None will ignore the C and l1_ratio parameters\n",
            "  warnings.warn(\n",
            "/usr/local/lib/python3.11/dist-packages/sklearn/linear_model/_logistic.py:1208: UserWarning: Setting penalty=None will ignore the C and l1_ratio parameters\n",
            "  warnings.warn(\n"
          ]
        },
        {
          "output_type": "stream",
          "name": "stdout",
          "text": [
            "[CV 9/10] END ..C=0.1, penalty=None, solver=sag;, score=0.803 total time=   0.1s\n",
            "[CV 10/10] END .C=0.1, penalty=None, solver=sag;, score=0.805 total time=   0.1s\n",
            "[CV 1/10] END .C=0.1, penalty=None, solver=saga;, score=0.800 total time=   0.1s\n",
            "[CV 2/10] END .C=0.1, penalty=None, solver=saga;, score=0.745 total time=   0.1s\n"
          ]
        },
        {
          "output_type": "stream",
          "name": "stderr",
          "text": [
            "/usr/local/lib/python3.11/dist-packages/sklearn/linear_model/_logistic.py:1208: UserWarning: Setting penalty=None will ignore the C and l1_ratio parameters\n",
            "  warnings.warn(\n",
            "/usr/local/lib/python3.11/dist-packages/sklearn/linear_model/_logistic.py:1208: UserWarning: Setting penalty=None will ignore the C and l1_ratio parameters\n",
            "  warnings.warn(\n",
            "/usr/local/lib/python3.11/dist-packages/sklearn/linear_model/_logistic.py:1208: UserWarning: Setting penalty=None will ignore the C and l1_ratio parameters\n",
            "  warnings.warn(\n",
            "/usr/local/lib/python3.11/dist-packages/sklearn/linear_model/_logistic.py:1208: UserWarning: Setting penalty=None will ignore the C and l1_ratio parameters\n",
            "  warnings.warn(\n"
          ]
        },
        {
          "output_type": "stream",
          "name": "stdout",
          "text": [
            "[CV 3/10] END .C=0.1, penalty=None, solver=saga;, score=0.745 total time=   0.1s\n",
            "[CV 4/10] END .C=0.1, penalty=None, solver=saga;, score=0.765 total time=   0.0s\n",
            "[CV 5/10] END .C=0.1, penalty=None, solver=saga;, score=0.792 total time=   0.0s\n",
            "[CV 6/10] END .C=0.1, penalty=None, solver=saga;, score=0.793 total time=   0.1s\n"
          ]
        },
        {
          "output_type": "stream",
          "name": "stderr",
          "text": [
            "/usr/local/lib/python3.11/dist-packages/sklearn/linear_model/_logistic.py:1208: UserWarning: Setting penalty=None will ignore the C and l1_ratio parameters\n",
            "  warnings.warn(\n",
            "/usr/local/lib/python3.11/dist-packages/sklearn/linear_model/_logistic.py:1208: UserWarning: Setting penalty=None will ignore the C and l1_ratio parameters\n",
            "  warnings.warn(\n",
            "/usr/local/lib/python3.11/dist-packages/sklearn/linear_model/_logistic.py:1208: UserWarning: Setting penalty=None will ignore the C and l1_ratio parameters\n",
            "  warnings.warn(\n",
            "/usr/local/lib/python3.11/dist-packages/sklearn/linear_model/_logistic.py:1208: UserWarning: Setting penalty=None will ignore the C and l1_ratio parameters\n",
            "  warnings.warn(\n"
          ]
        },
        {
          "output_type": "stream",
          "name": "stdout",
          "text": [
            "[CV 7/10] END .C=0.1, penalty=None, solver=saga;, score=0.768 total time=   0.1s\n",
            "[CV 8/10] END .C=0.1, penalty=None, solver=saga;, score=0.785 total time=   0.1s\n",
            "[CV 9/10] END .C=0.1, penalty=None, solver=saga;, score=0.803 total time=   0.1s\n",
            "[CV 10/10] END C=0.1, penalty=None, solver=saga;, score=0.805 total time=   0.1s\n",
            "[CV 1/10] END ....C=1, penalty=l2, solver=lbfgs;, score=0.802 total time=   0.0s\n"
          ]
        },
        {
          "output_type": "stream",
          "name": "stderr",
          "text": [
            "/usr/local/lib/python3.11/dist-packages/sklearn/linear_model/_logistic.py:1208: UserWarning: Setting penalty=None will ignore the C and l1_ratio parameters\n",
            "  warnings.warn(\n"
          ]
        },
        {
          "output_type": "stream",
          "name": "stdout",
          "text": [
            "[CV 2/10] END ....C=1, penalty=l2, solver=lbfgs;, score=0.745 total time=   0.0s\n",
            "[CV 3/10] END ....C=1, penalty=l2, solver=lbfgs;, score=0.743 total time=   0.0s\n",
            "[CV 4/10] END ....C=1, penalty=l2, solver=lbfgs;, score=0.765 total time=   0.0s\n",
            "[CV 5/10] END ....C=1, penalty=l2, solver=lbfgs;, score=0.792 total time=   0.0s\n",
            "[CV 6/10] END ....C=1, penalty=l2, solver=lbfgs;, score=0.793 total time=   0.0s\n",
            "[CV 7/10] END ....C=1, penalty=l2, solver=lbfgs;, score=0.768 total time=   0.0s\n",
            "[CV 8/10] END ....C=1, penalty=l2, solver=lbfgs;, score=0.783 total time=   0.0s\n",
            "[CV 9/10] END ....C=1, penalty=l2, solver=lbfgs;, score=0.803 total time=   0.0s\n",
            "[CV 10/10] END ...C=1, penalty=l2, solver=lbfgs;, score=0.805 total time=   0.0s\n",
            "[CV 1/10] END ......C=1, penalty=l2, solver=sag;, score=0.802 total time=   0.1s\n",
            "[CV 2/10] END ......C=1, penalty=l2, solver=sag;, score=0.745 total time=   0.1s\n",
            "[CV 3/10] END ......C=1, penalty=l2, solver=sag;, score=0.743 total time=   0.1s\n",
            "[CV 4/10] END ......C=1, penalty=l2, solver=sag;, score=0.765 total time=   0.1s\n",
            "[CV 5/10] END ......C=1, penalty=l2, solver=sag;, score=0.792 total time=   0.1s\n",
            "[CV 6/10] END ......C=1, penalty=l2, solver=sag;, score=0.792 total time=   0.1s\n",
            "[CV 7/10] END ......C=1, penalty=l2, solver=sag;, score=0.768 total time=   0.1s\n",
            "[CV 8/10] END ......C=1, penalty=l2, solver=sag;, score=0.783 total time=   0.1s\n",
            "[CV 9/10] END ......C=1, penalty=l2, solver=sag;, score=0.803 total time=   0.1s\n",
            "[CV 10/10] END .....C=1, penalty=l2, solver=sag;, score=0.805 total time=   0.1s\n",
            "[CV 1/10] END .....C=1, penalty=l2, solver=saga;, score=0.802 total time=   0.0s\n",
            "[CV 2/10] END .....C=1, penalty=l2, solver=saga;, score=0.745 total time=   0.1s\n",
            "[CV 3/10] END .....C=1, penalty=l2, solver=saga;, score=0.743 total time=   0.0s\n",
            "[CV 4/10] END .....C=1, penalty=l2, solver=saga;, score=0.765 total time=   0.0s\n",
            "[CV 5/10] END .....C=1, penalty=l2, solver=saga;, score=0.792 total time=   0.1s\n",
            "[CV 6/10] END .....C=1, penalty=l2, solver=saga;, score=0.792 total time=   0.1s\n",
            "[CV 7/10] END .....C=1, penalty=l2, solver=saga;, score=0.768 total time=   0.0s\n",
            "[CV 8/10] END .....C=1, penalty=l2, solver=saga;, score=0.783 total time=   0.0s\n",
            "[CV 9/10] END .....C=1, penalty=l2, solver=saga;, score=0.803 total time=   0.0s\n",
            "[CV 10/10] END ....C=1, penalty=l2, solver=saga;, score=0.805 total time=   0.1s\n",
            "[CV 1/10] END ..C=1, penalty=None, solver=lbfgs;, score=0.800 total time=   0.0s\n",
            "[CV 2/10] END ..C=1, penalty=None, solver=lbfgs;, score=0.745 total time=   0.0s\n",
            "[CV 3/10] END ..C=1, penalty=None, solver=lbfgs;, score=0.745 total time=   0.0s\n",
            "[CV 4/10] END ..C=1, penalty=None, solver=lbfgs;, score=0.765 total time=   0.0s\n",
            "[CV 5/10] END ..C=1, penalty=None, solver=lbfgs;, score=0.792 total time=   0.0s\n",
            "[CV 6/10] END ..C=1, penalty=None, solver=lbfgs;, score=0.793 total time=   0.0s\n",
            "[CV 7/10] END ..C=1, penalty=None, solver=lbfgs;, score=0.768 total time=   0.0s\n",
            "[CV 8/10] END ..C=1, penalty=None, solver=lbfgs;, score=0.785 total time=   0.0s\n",
            "[CV 9/10] END ..C=1, penalty=None, solver=lbfgs;, score=0.803 total time=   0.0s\n",
            "[CV 10/10] END .C=1, penalty=None, solver=lbfgs;, score=0.805 total time=   0.0s\n",
            "[CV 1/10] END ....C=1, penalty=None, solver=sag;, score=0.800 total time=   0.1s\n",
            "[CV 2/10] END ....C=1, penalty=None, solver=sag;, score=0.745 total time=   0.1s\n",
            "[CV 3/10] END ....C=1, penalty=None, solver=sag;, score=0.745 total time=   0.0s\n",
            "[CV 4/10] END ....C=1, penalty=None, solver=sag;, score=0.765 total time=   0.0s\n",
            "[CV 5/10] END ....C=1, penalty=None, solver=sag;, score=0.792 total time=   0.0s\n",
            "[CV 6/10] END ....C=1, penalty=None, solver=sag;, score=0.793 total time=   0.0s\n",
            "[CV 7/10] END ....C=1, penalty=None, solver=sag;, score=0.768 total time=   0.0s\n",
            "[CV 8/10] END ....C=1, penalty=None, solver=sag;, score=0.785 total time=   0.0s\n",
            "[CV 9/10] END ....C=1, penalty=None, solver=sag;, score=0.803 total time=   0.0s\n",
            "[CV 10/10] END ...C=1, penalty=None, solver=sag;, score=0.805 total time=   0.0s\n",
            "[CV 1/10] END ...C=1, penalty=None, solver=saga;, score=0.800 total time=   0.0s\n",
            "[CV 2/10] END ...C=1, penalty=None, solver=saga;, score=0.745 total time=   0.0s\n",
            "[CV 3/10] END ...C=1, penalty=None, solver=saga;, score=0.745 total time=   0.0s\n",
            "[CV 4/10] END ...C=1, penalty=None, solver=saga;, score=0.765 total time=   0.0s\n",
            "[CV 5/10] END ...C=1, penalty=None, solver=saga;, score=0.792 total time=   0.0s\n",
            "[CV 6/10] END ...C=1, penalty=None, solver=saga;, score=0.793 total time=   0.0s\n",
            "[CV 7/10] END ...C=1, penalty=None, solver=saga;, score=0.768 total time=   0.0s\n",
            "[CV 8/10] END ...C=1, penalty=None, solver=saga;, score=0.785 total time=   0.0s\n",
            "[CV 9/10] END ...C=1, penalty=None, solver=saga;, score=0.803 total time=   0.0s\n",
            "[CV 10/10] END ..C=1, penalty=None, solver=saga;, score=0.805 total time=   0.0s\n",
            "[CV 1/10] END ...C=10, penalty=l2, solver=lbfgs;, score=0.800 total time=   0.0s\n",
            "[CV 2/10] END ...C=10, penalty=l2, solver=lbfgs;, score=0.745 total time=   0.0s\n",
            "[CV 3/10] END ...C=10, penalty=l2, solver=lbfgs;, score=0.745 total time=   0.0s\n",
            "[CV 4/10] END ...C=10, penalty=l2, solver=lbfgs;, score=0.765 total time=   0.0s\n",
            "[CV 5/10] END ...C=10, penalty=l2, solver=lbfgs;, score=0.792 total time=   0.0s\n",
            "[CV 6/10] END ...C=10, penalty=l2, solver=lbfgs;, score=0.793 total time=   0.0s\n",
            "[CV 7/10] END ...C=10, penalty=l2, solver=lbfgs;, score=0.768 total time=   0.0s\n",
            "[CV 8/10] END ...C=10, penalty=l2, solver=lbfgs;, score=0.785 total time=   0.0s\n",
            "[CV 9/10] END ...C=10, penalty=l2, solver=lbfgs;, score=0.803 total time=   0.0s\n",
            "[CV 10/10] END ..C=10, penalty=l2, solver=lbfgs;, score=0.805 total time=   0.0s\n",
            "[CV 1/10] END .....C=10, penalty=l2, solver=sag;, score=0.800 total time=   0.1s\n",
            "[CV 2/10] END .....C=10, penalty=l2, solver=sag;, score=0.745 total time=   0.1s\n",
            "[CV 3/10] END .....C=10, penalty=l2, solver=sag;, score=0.745 total time=   0.0s\n",
            "[CV 4/10] END .....C=10, penalty=l2, solver=sag;, score=0.765 total time=   0.0s\n",
            "[CV 5/10] END .....C=10, penalty=l2, solver=sag;, score=0.792 total time=   0.0s\n",
            "[CV 6/10] END .....C=10, penalty=l2, solver=sag;, score=0.793 total time=   0.0s\n",
            "[CV 7/10] END .....C=10, penalty=l2, solver=sag;, score=0.768 total time=   0.0s\n",
            "[CV 8/10] END .....C=10, penalty=l2, solver=sag;, score=0.785 total time=   0.0s\n",
            "[CV 9/10] END .....C=10, penalty=l2, solver=sag;, score=0.803 total time=   0.0s\n",
            "[CV 10/10] END ....C=10, penalty=l2, solver=sag;, score=0.805 total time=   0.0s\n",
            "[CV 1/10] END ....C=10, penalty=l2, solver=saga;, score=0.800 total time=   0.0s\n",
            "[CV 2/10] END ....C=10, penalty=l2, solver=saga;, score=0.745 total time=   0.0s\n",
            "[CV 3/10] END ....C=10, penalty=l2, solver=saga;, score=0.745 total time=   0.0s\n",
            "[CV 4/10] END ....C=10, penalty=l2, solver=saga;, score=0.765 total time=   0.0s\n",
            "[CV 5/10] END ....C=10, penalty=l2, solver=saga;, score=0.792 total time=   0.0s\n",
            "[CV 6/10] END ....C=10, penalty=l2, solver=saga;, score=0.793 total time=   0.0s\n",
            "[CV 7/10] END ....C=10, penalty=l2, solver=saga;, score=0.768 total time=   0.0s\n",
            "[CV 8/10] END ....C=10, penalty=l2, solver=saga;, score=0.785 total time=   0.0s\n",
            "[CV 9/10] END ....C=10, penalty=l2, solver=saga;, score=0.803 total time=   0.0s\n",
            "[CV 10/10] END ...C=10, penalty=l2, solver=saga;, score=0.805 total time=   0.0s\n",
            "[CV 1/10] END .C=10, penalty=None, solver=lbfgs;, score=0.800 total time=   0.0s\n",
            "[CV 2/10] END .C=10, penalty=None, solver=lbfgs;, score=0.745 total time=   0.0s\n",
            "[CV 3/10] END .C=10, penalty=None, solver=lbfgs;, score=0.745 total time=   0.0s\n",
            "[CV 4/10] END .C=10, penalty=None, solver=lbfgs;, score=0.765 total time=   0.0s\n",
            "[CV 5/10] END .C=10, penalty=None, solver=lbfgs;, score=0.792 total time=   0.0s\n",
            "[CV 6/10] END .C=10, penalty=None, solver=lbfgs;, score=0.793 total time=   0.0s\n"
          ]
        },
        {
          "output_type": "stream",
          "name": "stderr",
          "text": [
            "/usr/local/lib/python3.11/dist-packages/sklearn/linear_model/_logistic.py:1208: UserWarning: Setting penalty=None will ignore the C and l1_ratio parameters\n",
            "  warnings.warn(\n",
            "/usr/local/lib/python3.11/dist-packages/sklearn/linear_model/_logistic.py:1208: UserWarning: Setting penalty=None will ignore the C and l1_ratio parameters\n",
            "  warnings.warn(\n",
            "/usr/local/lib/python3.11/dist-packages/sklearn/linear_model/_logistic.py:1208: UserWarning: Setting penalty=None will ignore the C and l1_ratio parameters\n",
            "  warnings.warn(\n",
            "/usr/local/lib/python3.11/dist-packages/sklearn/linear_model/_logistic.py:1208: UserWarning: Setting penalty=None will ignore the C and l1_ratio parameters\n",
            "  warnings.warn(\n",
            "/usr/local/lib/python3.11/dist-packages/sklearn/linear_model/_logistic.py:1208: UserWarning: Setting penalty=None will ignore the C and l1_ratio parameters\n",
            "  warnings.warn(\n",
            "/usr/local/lib/python3.11/dist-packages/sklearn/linear_model/_logistic.py:1208: UserWarning: Setting penalty=None will ignore the C and l1_ratio parameters\n",
            "  warnings.warn(\n",
            "/usr/local/lib/python3.11/dist-packages/sklearn/linear_model/_logistic.py:1208: UserWarning: Setting penalty=None will ignore the C and l1_ratio parameters\n",
            "  warnings.warn(\n",
            "/usr/local/lib/python3.11/dist-packages/sklearn/linear_model/_logistic.py:1208: UserWarning: Setting penalty=None will ignore the C and l1_ratio parameters\n",
            "  warnings.warn(\n",
            "/usr/local/lib/python3.11/dist-packages/sklearn/linear_model/_logistic.py:1208: UserWarning: Setting penalty=None will ignore the C and l1_ratio parameters\n",
            "  warnings.warn(\n"
          ]
        },
        {
          "output_type": "stream",
          "name": "stdout",
          "text": [
            "[CV 7/10] END .C=10, penalty=None, solver=lbfgs;, score=0.768 total time=   0.0s\n",
            "[CV 8/10] END .C=10, penalty=None, solver=lbfgs;, score=0.785 total time=   0.0s\n",
            "[CV 9/10] END .C=10, penalty=None, solver=lbfgs;, score=0.803 total time=   0.0s\n",
            "[CV 10/10] END C=10, penalty=None, solver=lbfgs;, score=0.805 total time=   0.0s\n",
            "[CV 1/10] END ...C=10, penalty=None, solver=sag;, score=0.800 total time=   0.1s\n",
            "[CV 2/10] END ...C=10, penalty=None, solver=sag;, score=0.745 total time=   0.1s\n"
          ]
        },
        {
          "output_type": "stream",
          "name": "stderr",
          "text": [
            "/usr/local/lib/python3.11/dist-packages/sklearn/linear_model/_logistic.py:1208: UserWarning: Setting penalty=None will ignore the C and l1_ratio parameters\n",
            "  warnings.warn(\n",
            "/usr/local/lib/python3.11/dist-packages/sklearn/linear_model/_logistic.py:1208: UserWarning: Setting penalty=None will ignore the C and l1_ratio parameters\n",
            "  warnings.warn(\n",
            "/usr/local/lib/python3.11/dist-packages/sklearn/linear_model/_logistic.py:1208: UserWarning: Setting penalty=None will ignore the C and l1_ratio parameters\n",
            "  warnings.warn(\n",
            "/usr/local/lib/python3.11/dist-packages/sklearn/linear_model/_logistic.py:1208: UserWarning: Setting penalty=None will ignore the C and l1_ratio parameters\n",
            "  warnings.warn(\n",
            "/usr/local/lib/python3.11/dist-packages/sklearn/linear_model/_logistic.py:1208: UserWarning: Setting penalty=None will ignore the C and l1_ratio parameters\n",
            "  warnings.warn(\n"
          ]
        },
        {
          "output_type": "stream",
          "name": "stdout",
          "text": [
            "[CV 3/10] END ...C=10, penalty=None, solver=sag;, score=0.745 total time=   0.1s\n",
            "[CV 4/10] END ...C=10, penalty=None, solver=sag;, score=0.765 total time=   0.0s\n",
            "[CV 5/10] END ...C=10, penalty=None, solver=sag;, score=0.792 total time=   0.0s\n",
            "[CV 6/10] END ...C=10, penalty=None, solver=sag;, score=0.793 total time=   0.0s\n",
            "[CV 7/10] END ...C=10, penalty=None, solver=sag;, score=0.768 total time=   0.0s\n"
          ]
        },
        {
          "output_type": "stream",
          "name": "stderr",
          "text": [
            "/usr/local/lib/python3.11/dist-packages/sklearn/linear_model/_logistic.py:1208: UserWarning: Setting penalty=None will ignore the C and l1_ratio parameters\n",
            "  warnings.warn(\n",
            "/usr/local/lib/python3.11/dist-packages/sklearn/linear_model/_logistic.py:1208: UserWarning: Setting penalty=None will ignore the C and l1_ratio parameters\n",
            "  warnings.warn(\n",
            "/usr/local/lib/python3.11/dist-packages/sklearn/linear_model/_logistic.py:1208: UserWarning: Setting penalty=None will ignore the C and l1_ratio parameters\n",
            "  warnings.warn(\n",
            "/usr/local/lib/python3.11/dist-packages/sklearn/linear_model/_logistic.py:1208: UserWarning: Setting penalty=None will ignore the C and l1_ratio parameters\n",
            "  warnings.warn(\n",
            "/usr/local/lib/python3.11/dist-packages/sklearn/linear_model/_logistic.py:1208: UserWarning: Setting penalty=None will ignore the C and l1_ratio parameters\n",
            "  warnings.warn(\n"
          ]
        },
        {
          "output_type": "stream",
          "name": "stdout",
          "text": [
            "[CV 8/10] END ...C=10, penalty=None, solver=sag;, score=0.785 total time=   0.0s\n",
            "[CV 9/10] END ...C=10, penalty=None, solver=sag;, score=0.803 total time=   0.0s\n",
            "[CV 10/10] END ..C=10, penalty=None, solver=sag;, score=0.805 total time=   0.0s\n",
            "[CV 1/10] END ..C=10, penalty=None, solver=saga;, score=0.800 total time=   0.0s\n",
            "[CV 2/10] END ..C=10, penalty=None, solver=saga;, score=0.745 total time=   0.0s\n",
            "[CV 3/10] END ..C=10, penalty=None, solver=saga;, score=0.745 total time=   0.0s\n"
          ]
        },
        {
          "output_type": "stream",
          "name": "stderr",
          "text": [
            "/usr/local/lib/python3.11/dist-packages/sklearn/linear_model/_logistic.py:1208: UserWarning: Setting penalty=None will ignore the C and l1_ratio parameters\n",
            "  warnings.warn(\n",
            "/usr/local/lib/python3.11/dist-packages/sklearn/linear_model/_logistic.py:1208: UserWarning: Setting penalty=None will ignore the C and l1_ratio parameters\n",
            "  warnings.warn(\n",
            "/usr/local/lib/python3.11/dist-packages/sklearn/linear_model/_logistic.py:1208: UserWarning: Setting penalty=None will ignore the C and l1_ratio parameters\n",
            "  warnings.warn(\n",
            "/usr/local/lib/python3.11/dist-packages/sklearn/linear_model/_logistic.py:1208: UserWarning: Setting penalty=None will ignore the C and l1_ratio parameters\n",
            "  warnings.warn(\n",
            "/usr/local/lib/python3.11/dist-packages/sklearn/linear_model/_logistic.py:1208: UserWarning: Setting penalty=None will ignore the C and l1_ratio parameters\n",
            "  warnings.warn(\n",
            "/usr/local/lib/python3.11/dist-packages/sklearn/linear_model/_logistic.py:1208: UserWarning: Setting penalty=None will ignore the C and l1_ratio parameters\n",
            "  warnings.warn(\n"
          ]
        },
        {
          "output_type": "stream",
          "name": "stdout",
          "text": [
            "[CV 4/10] END ..C=10, penalty=None, solver=saga;, score=0.765 total time=   0.0s\n",
            "[CV 5/10] END ..C=10, penalty=None, solver=saga;, score=0.792 total time=   0.0s\n",
            "[CV 6/10] END ..C=10, penalty=None, solver=saga;, score=0.793 total time=   0.0s\n",
            "[CV 7/10] END ..C=10, penalty=None, solver=saga;, score=0.768 total time=   0.0s\n",
            "[CV 8/10] END ..C=10, penalty=None, solver=saga;, score=0.785 total time=   0.0s\n",
            "[CV 9/10] END ..C=10, penalty=None, solver=saga;, score=0.803 total time=   0.0s\n"
          ]
        },
        {
          "output_type": "stream",
          "name": "stderr",
          "text": [
            "/usr/local/lib/python3.11/dist-packages/sklearn/linear_model/_logistic.py:1208: UserWarning: Setting penalty=None will ignore the C and l1_ratio parameters\n",
            "  warnings.warn(\n",
            "/usr/local/lib/python3.11/dist-packages/sklearn/linear_model/_logistic.py:1208: UserWarning: Setting penalty=None will ignore the C and l1_ratio parameters\n",
            "  warnings.warn(\n",
            "/usr/local/lib/python3.11/dist-packages/sklearn/linear_model/_logistic.py:1208: UserWarning: Setting penalty=None will ignore the C and l1_ratio parameters\n",
            "  warnings.warn(\n",
            "/usr/local/lib/python3.11/dist-packages/sklearn/linear_model/_logistic.py:1208: UserWarning: Setting penalty=None will ignore the C and l1_ratio parameters\n",
            "  warnings.warn(\n",
            "/usr/local/lib/python3.11/dist-packages/sklearn/linear_model/_logistic.py:1208: UserWarning: Setting penalty=None will ignore the C and l1_ratio parameters\n",
            "  warnings.warn(\n"
          ]
        },
        {
          "output_type": "stream",
          "name": "stdout",
          "text": [
            "[CV 10/10] END .C=10, penalty=None, solver=saga;, score=0.805 total time=   0.0s\n"
          ]
        },
        {
          "output_type": "execute_result",
          "data": {
            "text/plain": [
              "GridSearchCV(cv=10,\n",
              "             estimator=LogisticRegression(max_iter=1000, random_state=42),\n",
              "             param_grid={'C': [0.01, 0.1, 1, 10], 'penalty': ['l2', None],\n",
              "                         'solver': ['lbfgs', 'sag', 'saga']},\n",
              "             scoring='accuracy', verbose=4)"
            ],
            "text/html": [
              "<style>#sk-container-id-1 {\n",
              "  /* Definition of color scheme common for light and dark mode */\n",
              "  --sklearn-color-text: black;\n",
              "  --sklearn-color-line: gray;\n",
              "  /* Definition of color scheme for unfitted estimators */\n",
              "  --sklearn-color-unfitted-level-0: #fff5e6;\n",
              "  --sklearn-color-unfitted-level-1: #f6e4d2;\n",
              "  --sklearn-color-unfitted-level-2: #ffe0b3;\n",
              "  --sklearn-color-unfitted-level-3: chocolate;\n",
              "  /* Definition of color scheme for fitted estimators */\n",
              "  --sklearn-color-fitted-level-0: #f0f8ff;\n",
              "  --sklearn-color-fitted-level-1: #d4ebff;\n",
              "  --sklearn-color-fitted-level-2: #b3dbfd;\n",
              "  --sklearn-color-fitted-level-3: cornflowerblue;\n",
              "\n",
              "  /* Specific color for light theme */\n",
              "  --sklearn-color-text-on-default-background: var(--sg-text-color, var(--theme-code-foreground, var(--jp-content-font-color1, black)));\n",
              "  --sklearn-color-background: var(--sg-background-color, var(--theme-background, var(--jp-layout-color0, white)));\n",
              "  --sklearn-color-border-box: var(--sg-text-color, var(--theme-code-foreground, var(--jp-content-font-color1, black)));\n",
              "  --sklearn-color-icon: #696969;\n",
              "\n",
              "  @media (prefers-color-scheme: dark) {\n",
              "    /* Redefinition of color scheme for dark theme */\n",
              "    --sklearn-color-text-on-default-background: var(--sg-text-color, var(--theme-code-foreground, var(--jp-content-font-color1, white)));\n",
              "    --sklearn-color-background: var(--sg-background-color, var(--theme-background, var(--jp-layout-color0, #111)));\n",
              "    --sklearn-color-border-box: var(--sg-text-color, var(--theme-code-foreground, var(--jp-content-font-color1, white)));\n",
              "    --sklearn-color-icon: #878787;\n",
              "  }\n",
              "}\n",
              "\n",
              "#sk-container-id-1 {\n",
              "  color: var(--sklearn-color-text);\n",
              "}\n",
              "\n",
              "#sk-container-id-1 pre {\n",
              "  padding: 0;\n",
              "}\n",
              "\n",
              "#sk-container-id-1 input.sk-hidden--visually {\n",
              "  border: 0;\n",
              "  clip: rect(1px 1px 1px 1px);\n",
              "  clip: rect(1px, 1px, 1px, 1px);\n",
              "  height: 1px;\n",
              "  margin: -1px;\n",
              "  overflow: hidden;\n",
              "  padding: 0;\n",
              "  position: absolute;\n",
              "  width: 1px;\n",
              "}\n",
              "\n",
              "#sk-container-id-1 div.sk-dashed-wrapped {\n",
              "  border: 1px dashed var(--sklearn-color-line);\n",
              "  margin: 0 0.4em 0.5em 0.4em;\n",
              "  box-sizing: border-box;\n",
              "  padding-bottom: 0.4em;\n",
              "  background-color: var(--sklearn-color-background);\n",
              "}\n",
              "\n",
              "#sk-container-id-1 div.sk-container {\n",
              "  /* jupyter's `normalize.less` sets `[hidden] { display: none; }`\n",
              "     but bootstrap.min.css set `[hidden] { display: none !important; }`\n",
              "     so we also need the `!important` here to be able to override the\n",
              "     default hidden behavior on the sphinx rendered scikit-learn.org.\n",
              "     See: https://github.com/scikit-learn/scikit-learn/issues/21755 */\n",
              "  display: inline-block !important;\n",
              "  position: relative;\n",
              "}\n",
              "\n",
              "#sk-container-id-1 div.sk-text-repr-fallback {\n",
              "  display: none;\n",
              "}\n",
              "\n",
              "div.sk-parallel-item,\n",
              "div.sk-serial,\n",
              "div.sk-item {\n",
              "  /* draw centered vertical line to link estimators */\n",
              "  background-image: linear-gradient(var(--sklearn-color-text-on-default-background), var(--sklearn-color-text-on-default-background));\n",
              "  background-size: 2px 100%;\n",
              "  background-repeat: no-repeat;\n",
              "  background-position: center center;\n",
              "}\n",
              "\n",
              "/* Parallel-specific style estimator block */\n",
              "\n",
              "#sk-container-id-1 div.sk-parallel-item::after {\n",
              "  content: \"\";\n",
              "  width: 100%;\n",
              "  border-bottom: 2px solid var(--sklearn-color-text-on-default-background);\n",
              "  flex-grow: 1;\n",
              "}\n",
              "\n",
              "#sk-container-id-1 div.sk-parallel {\n",
              "  display: flex;\n",
              "  align-items: stretch;\n",
              "  justify-content: center;\n",
              "  background-color: var(--sklearn-color-background);\n",
              "  position: relative;\n",
              "}\n",
              "\n",
              "#sk-container-id-1 div.sk-parallel-item {\n",
              "  display: flex;\n",
              "  flex-direction: column;\n",
              "}\n",
              "\n",
              "#sk-container-id-1 div.sk-parallel-item:first-child::after {\n",
              "  align-self: flex-end;\n",
              "  width: 50%;\n",
              "}\n",
              "\n",
              "#sk-container-id-1 div.sk-parallel-item:last-child::after {\n",
              "  align-self: flex-start;\n",
              "  width: 50%;\n",
              "}\n",
              "\n",
              "#sk-container-id-1 div.sk-parallel-item:only-child::after {\n",
              "  width: 0;\n",
              "}\n",
              "\n",
              "/* Serial-specific style estimator block */\n",
              "\n",
              "#sk-container-id-1 div.sk-serial {\n",
              "  display: flex;\n",
              "  flex-direction: column;\n",
              "  align-items: center;\n",
              "  background-color: var(--sklearn-color-background);\n",
              "  padding-right: 1em;\n",
              "  padding-left: 1em;\n",
              "}\n",
              "\n",
              "\n",
              "/* Toggleable style: style used for estimator/Pipeline/ColumnTransformer box that is\n",
              "clickable and can be expanded/collapsed.\n",
              "- Pipeline and ColumnTransformer use this feature and define the default style\n",
              "- Estimators will overwrite some part of the style using the `sk-estimator` class\n",
              "*/\n",
              "\n",
              "/* Pipeline and ColumnTransformer style (default) */\n",
              "\n",
              "#sk-container-id-1 div.sk-toggleable {\n",
              "  /* Default theme specific background. It is overwritten whether we have a\n",
              "  specific estimator or a Pipeline/ColumnTransformer */\n",
              "  background-color: var(--sklearn-color-background);\n",
              "}\n",
              "\n",
              "/* Toggleable label */\n",
              "#sk-container-id-1 label.sk-toggleable__label {\n",
              "  cursor: pointer;\n",
              "  display: block;\n",
              "  width: 100%;\n",
              "  margin-bottom: 0;\n",
              "  padding: 0.5em;\n",
              "  box-sizing: border-box;\n",
              "  text-align: center;\n",
              "}\n",
              "\n",
              "#sk-container-id-1 label.sk-toggleable__label-arrow:before {\n",
              "  /* Arrow on the left of the label */\n",
              "  content: \"▸\";\n",
              "  float: left;\n",
              "  margin-right: 0.25em;\n",
              "  color: var(--sklearn-color-icon);\n",
              "}\n",
              "\n",
              "#sk-container-id-1 label.sk-toggleable__label-arrow:hover:before {\n",
              "  color: var(--sklearn-color-text);\n",
              "}\n",
              "\n",
              "/* Toggleable content - dropdown */\n",
              "\n",
              "#sk-container-id-1 div.sk-toggleable__content {\n",
              "  max-height: 0;\n",
              "  max-width: 0;\n",
              "  overflow: hidden;\n",
              "  text-align: left;\n",
              "  /* unfitted */\n",
              "  background-color: var(--sklearn-color-unfitted-level-0);\n",
              "}\n",
              "\n",
              "#sk-container-id-1 div.sk-toggleable__content.fitted {\n",
              "  /* fitted */\n",
              "  background-color: var(--sklearn-color-fitted-level-0);\n",
              "}\n",
              "\n",
              "#sk-container-id-1 div.sk-toggleable__content pre {\n",
              "  margin: 0.2em;\n",
              "  border-radius: 0.25em;\n",
              "  color: var(--sklearn-color-text);\n",
              "  /* unfitted */\n",
              "  background-color: var(--sklearn-color-unfitted-level-0);\n",
              "}\n",
              "\n",
              "#sk-container-id-1 div.sk-toggleable__content.fitted pre {\n",
              "  /* unfitted */\n",
              "  background-color: var(--sklearn-color-fitted-level-0);\n",
              "}\n",
              "\n",
              "#sk-container-id-1 input.sk-toggleable__control:checked~div.sk-toggleable__content {\n",
              "  /* Expand drop-down */\n",
              "  max-height: 200px;\n",
              "  max-width: 100%;\n",
              "  overflow: auto;\n",
              "}\n",
              "\n",
              "#sk-container-id-1 input.sk-toggleable__control:checked~label.sk-toggleable__label-arrow:before {\n",
              "  content: \"▾\";\n",
              "}\n",
              "\n",
              "/* Pipeline/ColumnTransformer-specific style */\n",
              "\n",
              "#sk-container-id-1 div.sk-label input.sk-toggleable__control:checked~label.sk-toggleable__label {\n",
              "  color: var(--sklearn-color-text);\n",
              "  background-color: var(--sklearn-color-unfitted-level-2);\n",
              "}\n",
              "\n",
              "#sk-container-id-1 div.sk-label.fitted input.sk-toggleable__control:checked~label.sk-toggleable__label {\n",
              "  background-color: var(--sklearn-color-fitted-level-2);\n",
              "}\n",
              "\n",
              "/* Estimator-specific style */\n",
              "\n",
              "/* Colorize estimator box */\n",
              "#sk-container-id-1 div.sk-estimator input.sk-toggleable__control:checked~label.sk-toggleable__label {\n",
              "  /* unfitted */\n",
              "  background-color: var(--sklearn-color-unfitted-level-2);\n",
              "}\n",
              "\n",
              "#sk-container-id-1 div.sk-estimator.fitted input.sk-toggleable__control:checked~label.sk-toggleable__label {\n",
              "  /* fitted */\n",
              "  background-color: var(--sklearn-color-fitted-level-2);\n",
              "}\n",
              "\n",
              "#sk-container-id-1 div.sk-label label.sk-toggleable__label,\n",
              "#sk-container-id-1 div.sk-label label {\n",
              "  /* The background is the default theme color */\n",
              "  color: var(--sklearn-color-text-on-default-background);\n",
              "}\n",
              "\n",
              "/* On hover, darken the color of the background */\n",
              "#sk-container-id-1 div.sk-label:hover label.sk-toggleable__label {\n",
              "  color: var(--sklearn-color-text);\n",
              "  background-color: var(--sklearn-color-unfitted-level-2);\n",
              "}\n",
              "\n",
              "/* Label box, darken color on hover, fitted */\n",
              "#sk-container-id-1 div.sk-label.fitted:hover label.sk-toggleable__label.fitted {\n",
              "  color: var(--sklearn-color-text);\n",
              "  background-color: var(--sklearn-color-fitted-level-2);\n",
              "}\n",
              "\n",
              "/* Estimator label */\n",
              "\n",
              "#sk-container-id-1 div.sk-label label {\n",
              "  font-family: monospace;\n",
              "  font-weight: bold;\n",
              "  display: inline-block;\n",
              "  line-height: 1.2em;\n",
              "}\n",
              "\n",
              "#sk-container-id-1 div.sk-label-container {\n",
              "  text-align: center;\n",
              "}\n",
              "\n",
              "/* Estimator-specific */\n",
              "#sk-container-id-1 div.sk-estimator {\n",
              "  font-family: monospace;\n",
              "  border: 1px dotted var(--sklearn-color-border-box);\n",
              "  border-radius: 0.25em;\n",
              "  box-sizing: border-box;\n",
              "  margin-bottom: 0.5em;\n",
              "  /* unfitted */\n",
              "  background-color: var(--sklearn-color-unfitted-level-0);\n",
              "}\n",
              "\n",
              "#sk-container-id-1 div.sk-estimator.fitted {\n",
              "  /* fitted */\n",
              "  background-color: var(--sklearn-color-fitted-level-0);\n",
              "}\n",
              "\n",
              "/* on hover */\n",
              "#sk-container-id-1 div.sk-estimator:hover {\n",
              "  /* unfitted */\n",
              "  background-color: var(--sklearn-color-unfitted-level-2);\n",
              "}\n",
              "\n",
              "#sk-container-id-1 div.sk-estimator.fitted:hover {\n",
              "  /* fitted */\n",
              "  background-color: var(--sklearn-color-fitted-level-2);\n",
              "}\n",
              "\n",
              "/* Specification for estimator info (e.g. \"i\" and \"?\") */\n",
              "\n",
              "/* Common style for \"i\" and \"?\" */\n",
              "\n",
              ".sk-estimator-doc-link,\n",
              "a:link.sk-estimator-doc-link,\n",
              "a:visited.sk-estimator-doc-link {\n",
              "  float: right;\n",
              "  font-size: smaller;\n",
              "  line-height: 1em;\n",
              "  font-family: monospace;\n",
              "  background-color: var(--sklearn-color-background);\n",
              "  border-radius: 1em;\n",
              "  height: 1em;\n",
              "  width: 1em;\n",
              "  text-decoration: none !important;\n",
              "  margin-left: 1ex;\n",
              "  /* unfitted */\n",
              "  border: var(--sklearn-color-unfitted-level-1) 1pt solid;\n",
              "  color: var(--sklearn-color-unfitted-level-1);\n",
              "}\n",
              "\n",
              ".sk-estimator-doc-link.fitted,\n",
              "a:link.sk-estimator-doc-link.fitted,\n",
              "a:visited.sk-estimator-doc-link.fitted {\n",
              "  /* fitted */\n",
              "  border: var(--sklearn-color-fitted-level-1) 1pt solid;\n",
              "  color: var(--sklearn-color-fitted-level-1);\n",
              "}\n",
              "\n",
              "/* On hover */\n",
              "div.sk-estimator:hover .sk-estimator-doc-link:hover,\n",
              ".sk-estimator-doc-link:hover,\n",
              "div.sk-label-container:hover .sk-estimator-doc-link:hover,\n",
              ".sk-estimator-doc-link:hover {\n",
              "  /* unfitted */\n",
              "  background-color: var(--sklearn-color-unfitted-level-3);\n",
              "  color: var(--sklearn-color-background);\n",
              "  text-decoration: none;\n",
              "}\n",
              "\n",
              "div.sk-estimator.fitted:hover .sk-estimator-doc-link.fitted:hover,\n",
              ".sk-estimator-doc-link.fitted:hover,\n",
              "div.sk-label-container:hover .sk-estimator-doc-link.fitted:hover,\n",
              ".sk-estimator-doc-link.fitted:hover {\n",
              "  /* fitted */\n",
              "  background-color: var(--sklearn-color-fitted-level-3);\n",
              "  color: var(--sklearn-color-background);\n",
              "  text-decoration: none;\n",
              "}\n",
              "\n",
              "/* Span, style for the box shown on hovering the info icon */\n",
              ".sk-estimator-doc-link span {\n",
              "  display: none;\n",
              "  z-index: 9999;\n",
              "  position: relative;\n",
              "  font-weight: normal;\n",
              "  right: .2ex;\n",
              "  padding: .5ex;\n",
              "  margin: .5ex;\n",
              "  width: min-content;\n",
              "  min-width: 20ex;\n",
              "  max-width: 50ex;\n",
              "  color: var(--sklearn-color-text);\n",
              "  box-shadow: 2pt 2pt 4pt #999;\n",
              "  /* unfitted */\n",
              "  background: var(--sklearn-color-unfitted-level-0);\n",
              "  border: .5pt solid var(--sklearn-color-unfitted-level-3);\n",
              "}\n",
              "\n",
              ".sk-estimator-doc-link.fitted span {\n",
              "  /* fitted */\n",
              "  background: var(--sklearn-color-fitted-level-0);\n",
              "  border: var(--sklearn-color-fitted-level-3);\n",
              "}\n",
              "\n",
              ".sk-estimator-doc-link:hover span {\n",
              "  display: block;\n",
              "}\n",
              "\n",
              "/* \"?\"-specific style due to the `<a>` HTML tag */\n",
              "\n",
              "#sk-container-id-1 a.estimator_doc_link {\n",
              "  float: right;\n",
              "  font-size: 1rem;\n",
              "  line-height: 1em;\n",
              "  font-family: monospace;\n",
              "  background-color: var(--sklearn-color-background);\n",
              "  border-radius: 1rem;\n",
              "  height: 1rem;\n",
              "  width: 1rem;\n",
              "  text-decoration: none;\n",
              "  /* unfitted */\n",
              "  color: var(--sklearn-color-unfitted-level-1);\n",
              "  border: var(--sklearn-color-unfitted-level-1) 1pt solid;\n",
              "}\n",
              "\n",
              "#sk-container-id-1 a.estimator_doc_link.fitted {\n",
              "  /* fitted */\n",
              "  border: var(--sklearn-color-fitted-level-1) 1pt solid;\n",
              "  color: var(--sklearn-color-fitted-level-1);\n",
              "}\n",
              "\n",
              "/* On hover */\n",
              "#sk-container-id-1 a.estimator_doc_link:hover {\n",
              "  /* unfitted */\n",
              "  background-color: var(--sklearn-color-unfitted-level-3);\n",
              "  color: var(--sklearn-color-background);\n",
              "  text-decoration: none;\n",
              "}\n",
              "\n",
              "#sk-container-id-1 a.estimator_doc_link.fitted:hover {\n",
              "  /* fitted */\n",
              "  background-color: var(--sklearn-color-fitted-level-3);\n",
              "}\n",
              "</style><div id=\"sk-container-id-1\" class=\"sk-top-container\"><div class=\"sk-text-repr-fallback\"><pre>GridSearchCV(cv=10,\n",
              "             estimator=LogisticRegression(max_iter=1000, random_state=42),\n",
              "             param_grid={&#x27;C&#x27;: [0.01, 0.1, 1, 10], &#x27;penalty&#x27;: [&#x27;l2&#x27;, None],\n",
              "                         &#x27;solver&#x27;: [&#x27;lbfgs&#x27;, &#x27;sag&#x27;, &#x27;saga&#x27;]},\n",
              "             scoring=&#x27;accuracy&#x27;, verbose=4)</pre><b>In a Jupyter environment, please rerun this cell to show the HTML representation or trust the notebook. <br />On GitHub, the HTML representation is unable to render, please try loading this page with nbviewer.org.</b></div><div class=\"sk-container\" hidden><div class=\"sk-item sk-dashed-wrapped\"><div class=\"sk-label-container\"><div class=\"sk-label fitted sk-toggleable\"><input class=\"sk-toggleable__control sk-hidden--visually\" id=\"sk-estimator-id-1\" type=\"checkbox\" ><label for=\"sk-estimator-id-1\" class=\"sk-toggleable__label fitted sk-toggleable__label-arrow fitted\">&nbsp;&nbsp;GridSearchCV<a class=\"sk-estimator-doc-link fitted\" rel=\"noreferrer\" target=\"_blank\" href=\"https://scikit-learn.org/1.5/modules/generated/sklearn.model_selection.GridSearchCV.html\">?<span>Documentation for GridSearchCV</span></a><span class=\"sk-estimator-doc-link fitted\">i<span>Fitted</span></span></label><div class=\"sk-toggleable__content fitted\"><pre>GridSearchCV(cv=10,\n",
              "             estimator=LogisticRegression(max_iter=1000, random_state=42),\n",
              "             param_grid={&#x27;C&#x27;: [0.01, 0.1, 1, 10], &#x27;penalty&#x27;: [&#x27;l2&#x27;, None],\n",
              "                         &#x27;solver&#x27;: [&#x27;lbfgs&#x27;, &#x27;sag&#x27;, &#x27;saga&#x27;]},\n",
              "             scoring=&#x27;accuracy&#x27;, verbose=4)</pre></div> </div></div><div class=\"sk-parallel\"><div class=\"sk-parallel-item\"><div class=\"sk-item\"><div class=\"sk-label-container\"><div class=\"sk-label fitted sk-toggleable\"><input class=\"sk-toggleable__control sk-hidden--visually\" id=\"sk-estimator-id-2\" type=\"checkbox\" ><label for=\"sk-estimator-id-2\" class=\"sk-toggleable__label fitted sk-toggleable__label-arrow fitted\">best_estimator_: LogisticRegression</label><div class=\"sk-toggleable__content fitted\"><pre>LogisticRegression(C=0.1, max_iter=1000, random_state=42)</pre></div> </div></div><div class=\"sk-serial\"><div class=\"sk-item\"><div class=\"sk-estimator fitted sk-toggleable\"><input class=\"sk-toggleable__control sk-hidden--visually\" id=\"sk-estimator-id-3\" type=\"checkbox\" ><label for=\"sk-estimator-id-3\" class=\"sk-toggleable__label fitted sk-toggleable__label-arrow fitted\">&nbsp;LogisticRegression<a class=\"sk-estimator-doc-link fitted\" rel=\"noreferrer\" target=\"_blank\" href=\"https://scikit-learn.org/1.5/modules/generated/sklearn.linear_model.LogisticRegression.html\">?<span>Documentation for LogisticRegression</span></a></label><div class=\"sk-toggleable__content fitted\"><pre>LogisticRegression(C=0.1, max_iter=1000, random_state=42)</pre></div> </div></div></div></div></div></div></div></div></div>"
            ]
          },
          "metadata": {},
          "execution_count": 22
        }
      ]
    },
    {
      "cell_type": "code",
      "source": [
        "from sklearn.metrics import accuracy_score, classification_report, confusion_matrix, f1_score, roc_auc_score, roc_curve\n",
        "\n",
        "# Best parameters and given accuracy\n",
        "best_params = gs.best_params_\n",
        "logreg_train_score = gs.best_score_\n",
        "print(f\"Best Parameters: {best_params}\")\n",
        "print(f\"Training Accuracy of best parameters: {logreg_train_score:.4f}\\n\")\n",
        "\n",
        "# Test the model on test dataset\n",
        "best_logreg = gs.best_estimator_\n",
        "y_pred1 = best_logreg.predict(X_test_reduced_1)\n",
        "logreg_test_score = accuracy_score(y_test, y_pred1)\n",
        "logreg_test_f1 = f1_score(y_test, y_pred1)\n",
        "logreg_test_auc = roc_auc_score(y_test, y_pred1)\n",
        "print(f\"Test Set Accuracy: {logreg_test_score:.4f}\" )\n",
        "print(f\"Test Set AUC: {logreg_test_auc:.4f}\")\n",
        "print(f\"Test Set Classification Report:\\n{classification_report(y_test, y_pred1)}\")\n",
        "print(f\"Confusion matrix:\\n{confusion_matrix(y_test, y_pred1)}\\n\")"
      ],
      "metadata": {
        "colab": {
          "base_uri": "https://localhost:8080/"
        },
        "id": "X8XBLE7h3d5d",
        "outputId": "2211ffa8-8a40-4ff6-dd11-1ae1e27af5b9"
      },
      "execution_count": null,
      "outputs": [
        {
          "output_type": "stream",
          "name": "stdout",
          "text": [
            "Best Parameters: {'C': 0.1, 'penalty': 'l2', 'solver': 'lbfgs'}\n",
            "Training Accuracy of best parameters: 0.7805\n",
            "\n",
            "Test Set Accuracy: 0.7665\n",
            "Test Set AUC: 0.7664\n",
            "Test Set Classification Report:\n",
            "              precision    recall  f1-score   support\n",
            "\n",
            "           0       0.79      0.72      0.76      1264\n",
            "           1       0.74      0.81      0.78      1267\n",
            "\n",
            "    accuracy                           0.77      2531\n",
            "   macro avg       0.77      0.77      0.77      2531\n",
            "weighted avg       0.77      0.77      0.77      2531\n",
            "\n",
            "Confusion matrix:\n",
            "[[ 911  353]\n",
            " [ 238 1029]]\n",
            "\n"
          ]
        }
      ]
    },
    {
      "cell_type": "markdown",
      "source": [
        "### 3.2 Logistic Regression with 2nd Word2Vec Model"
      ],
      "metadata": {
        "id": "RXZrCvPUwRMz"
      }
    },
    {
      "cell_type": "code",
      "source": [
        "from sklearn.model_selection import train_test_split, GridSearchCV\n",
        "from sklearn.linear_model import LogisticRegression\n",
        "\n",
        "# Initialize Logistic Regression\n",
        "logreg2 = LogisticRegression(random_state=42, max_iter=1000)\n",
        "\n",
        "# Define parameters range\n",
        "grid_space2 = {\n",
        "    \"C\": [0.01, 0.1, 1, 10],\n",
        "    \"penalty\": ['l2', None],\n",
        "    \"solver\": ['lbfgs', 'sag', 'saga'],\n",
        "}\n",
        "\n",
        "# Perform 10-folds cross-validation for hyperparameters tuning\n",
        "gs2 = GridSearchCV(estimator=logreg2, param_grid=grid_space2, cv=10, scoring=\"accuracy\", verbose=4)\n",
        "gs2.fit(X_train_reduced_2, y_train)"
      ],
      "metadata": {
        "colab": {
          "base_uri": "https://localhost:8080/",
          "height": 1000
        },
        "id": "dcRoFW3uwaP-",
        "outputId": "745f8b1f-322e-444b-a6c8-6f944773711a",
        "collapsed": true
      },
      "execution_count": null,
      "outputs": [
        {
          "output_type": "stream",
          "name": "stdout",
          "text": [
            "Fitting 10 folds for each of 24 candidates, totalling 240 fits\n",
            "[CV 1/10] END .C=0.01, penalty=l2, solver=lbfgs;, score=0.792 total time=   0.0s\n",
            "[CV 2/10] END .C=0.01, penalty=l2, solver=lbfgs;, score=0.763 total time=   0.0s\n",
            "[CV 3/10] END .C=0.01, penalty=l2, solver=lbfgs;, score=0.745 total time=   0.0s\n",
            "[CV 4/10] END .C=0.01, penalty=l2, solver=lbfgs;, score=0.775 total time=   0.0s\n",
            "[CV 5/10] END .C=0.01, penalty=l2, solver=lbfgs;, score=0.780 total time=   0.0s\n",
            "[CV 6/10] END .C=0.01, penalty=l2, solver=lbfgs;, score=0.790 total time=   0.1s\n",
            "[CV 7/10] END .C=0.01, penalty=l2, solver=lbfgs;, score=0.775 total time=   0.0s\n",
            "[CV 8/10] END .C=0.01, penalty=l2, solver=lbfgs;, score=0.792 total time=   0.1s\n",
            "[CV 9/10] END .C=0.01, penalty=l2, solver=lbfgs;, score=0.803 total time=   0.0s\n",
            "[CV 10/10] END C=0.01, penalty=l2, solver=lbfgs;, score=0.805 total time=   0.0s\n",
            "[CV 1/10] END ...C=0.01, penalty=l2, solver=sag;, score=0.792 total time=   0.3s\n",
            "[CV 2/10] END ...C=0.01, penalty=l2, solver=sag;, score=0.763 total time=   0.3s\n",
            "[CV 3/10] END ...C=0.01, penalty=l2, solver=sag;, score=0.745 total time=   0.4s\n",
            "[CV 4/10] END ...C=0.01, penalty=l2, solver=sag;, score=0.775 total time=   0.3s\n",
            "[CV 5/10] END ...C=0.01, penalty=l2, solver=sag;, score=0.778 total time=   0.4s\n",
            "[CV 6/10] END ...C=0.01, penalty=l2, solver=sag;, score=0.788 total time=   0.3s\n",
            "[CV 7/10] END ...C=0.01, penalty=l2, solver=sag;, score=0.773 total time=   0.3s\n",
            "[CV 8/10] END ...C=0.01, penalty=l2, solver=sag;, score=0.792 total time=   0.4s\n",
            "[CV 9/10] END ...C=0.01, penalty=l2, solver=sag;, score=0.803 total time=   0.3s\n",
            "[CV 10/10] END ..C=0.01, penalty=l2, solver=sag;, score=0.805 total time=   0.3s\n",
            "[CV 1/10] END ..C=0.01, penalty=l2, solver=saga;, score=0.792 total time=   0.3s\n",
            "[CV 2/10] END ..C=0.01, penalty=l2, solver=saga;, score=0.765 total time=   0.3s\n",
            "[CV 3/10] END ..C=0.01, penalty=l2, solver=saga;, score=0.745 total time=   0.3s\n",
            "[CV 4/10] END ..C=0.01, penalty=l2, solver=saga;, score=0.775 total time=   0.3s\n",
            "[CV 5/10] END ..C=0.01, penalty=l2, solver=saga;, score=0.778 total time=   0.3s\n",
            "[CV 6/10] END ..C=0.01, penalty=l2, solver=saga;, score=0.790 total time=   0.3s\n",
            "[CV 7/10] END ..C=0.01, penalty=l2, solver=saga;, score=0.773 total time=   0.4s\n",
            "[CV 8/10] END ..C=0.01, penalty=l2, solver=saga;, score=0.792 total time=   0.4s\n",
            "[CV 9/10] END ..C=0.01, penalty=l2, solver=saga;, score=0.803 total time=   0.6s\n",
            "[CV 10/10] END .C=0.01, penalty=l2, solver=saga;, score=0.805 total time=   0.5s\n",
            "[CV 1/10] END C=0.01, penalty=None, solver=lbfgs;, score=0.834 total time=   0.1s\n",
            "[CV 2/10] END C=0.01, penalty=None, solver=lbfgs;, score=0.804 total time=   0.1s\n"
          ]
        },
        {
          "output_type": "stream",
          "name": "stderr",
          "text": [
            "/usr/local/lib/python3.11/dist-packages/sklearn/linear_model/_logistic.py:1208: UserWarning: Setting penalty=None will ignore the C and l1_ratio parameters\n",
            "  warnings.warn(\n",
            "/usr/local/lib/python3.11/dist-packages/sklearn/linear_model/_logistic.py:1208: UserWarning: Setting penalty=None will ignore the C and l1_ratio parameters\n",
            "  warnings.warn(\n",
            "/usr/local/lib/python3.11/dist-packages/sklearn/linear_model/_logistic.py:1208: UserWarning: Setting penalty=None will ignore the C and l1_ratio parameters\n",
            "  warnings.warn(\n"
          ]
        },
        {
          "output_type": "stream",
          "name": "stdout",
          "text": [
            "[CV 3/10] END C=0.01, penalty=None, solver=lbfgs;, score=0.799 total time=   0.1s\n",
            "[CV 4/10] END C=0.01, penalty=None, solver=lbfgs;, score=0.832 total time=   0.1s\n",
            "[CV 5/10] END C=0.01, penalty=None, solver=lbfgs;, score=0.822 total time=   0.1s\n"
          ]
        },
        {
          "output_type": "stream",
          "name": "stderr",
          "text": [
            "/usr/local/lib/python3.11/dist-packages/sklearn/linear_model/_logistic.py:1208: UserWarning: Setting penalty=None will ignore the C and l1_ratio parameters\n",
            "  warnings.warn(\n",
            "/usr/local/lib/python3.11/dist-packages/sklearn/linear_model/_logistic.py:1208: UserWarning: Setting penalty=None will ignore the C and l1_ratio parameters\n",
            "  warnings.warn(\n",
            "/usr/local/lib/python3.11/dist-packages/sklearn/linear_model/_logistic.py:1208: UserWarning: Setting penalty=None will ignore the C and l1_ratio parameters\n",
            "  warnings.warn(\n"
          ]
        },
        {
          "output_type": "stream",
          "name": "stdout",
          "text": [
            "[CV 6/10] END C=0.01, penalty=None, solver=lbfgs;, score=0.842 total time=   0.1s\n",
            "[CV 7/10] END C=0.01, penalty=None, solver=lbfgs;, score=0.808 total time=   0.1s\n"
          ]
        },
        {
          "output_type": "stream",
          "name": "stderr",
          "text": [
            "/usr/local/lib/python3.11/dist-packages/sklearn/linear_model/_logistic.py:1208: UserWarning: Setting penalty=None will ignore the C and l1_ratio parameters\n",
            "  warnings.warn(\n",
            "/usr/local/lib/python3.11/dist-packages/sklearn/linear_model/_logistic.py:1208: UserWarning: Setting penalty=None will ignore the C and l1_ratio parameters\n",
            "  warnings.warn(\n"
          ]
        },
        {
          "output_type": "stream",
          "name": "stdout",
          "text": [
            "[CV 8/10] END C=0.01, penalty=None, solver=lbfgs;, score=0.824 total time=   0.1s\n",
            "[CV 9/10] END C=0.01, penalty=None, solver=lbfgs;, score=0.836 total time=   0.1s\n"
          ]
        },
        {
          "output_type": "stream",
          "name": "stderr",
          "text": [
            "/usr/local/lib/python3.11/dist-packages/sklearn/linear_model/_logistic.py:1208: UserWarning: Setting penalty=None will ignore the C and l1_ratio parameters\n",
            "  warnings.warn(\n",
            "/usr/local/lib/python3.11/dist-packages/sklearn/linear_model/_logistic.py:1208: UserWarning: Setting penalty=None will ignore the C and l1_ratio parameters\n",
            "  warnings.warn(\n"
          ]
        },
        {
          "output_type": "stream",
          "name": "stdout",
          "text": [
            "[CV 10/10] END C=0.01, penalty=None, solver=lbfgs;, score=0.824 total time=   0.2s\n"
          ]
        },
        {
          "output_type": "stream",
          "name": "stderr",
          "text": [
            "/usr/local/lib/python3.11/dist-packages/sklearn/linear_model/_logistic.py:1208: UserWarning: Setting penalty=None will ignore the C and l1_ratio parameters\n",
            "  warnings.warn(\n"
          ]
        },
        {
          "output_type": "stream",
          "name": "stdout",
          "text": [
            "[CV 1/10] END .C=0.01, penalty=None, solver=sag;, score=0.838 total time=   0.9s\n"
          ]
        },
        {
          "output_type": "stream",
          "name": "stderr",
          "text": [
            "/usr/local/lib/python3.11/dist-packages/sklearn/linear_model/_logistic.py:1208: UserWarning: Setting penalty=None will ignore the C and l1_ratio parameters\n",
            "  warnings.warn(\n"
          ]
        },
        {
          "output_type": "stream",
          "name": "stdout",
          "text": [
            "[CV 2/10] END .C=0.01, penalty=None, solver=sag;, score=0.802 total time=   0.8s\n"
          ]
        },
        {
          "output_type": "stream",
          "name": "stderr",
          "text": [
            "/usr/local/lib/python3.11/dist-packages/sklearn/linear_model/_logistic.py:1208: UserWarning: Setting penalty=None will ignore the C and l1_ratio parameters\n",
            "  warnings.warn(\n"
          ]
        },
        {
          "output_type": "stream",
          "name": "stdout",
          "text": [
            "[CV 3/10] END .C=0.01, penalty=None, solver=sag;, score=0.802 total time=   0.8s\n"
          ]
        },
        {
          "output_type": "stream",
          "name": "stderr",
          "text": [
            "/usr/local/lib/python3.11/dist-packages/sklearn/linear_model/_logistic.py:1208: UserWarning: Setting penalty=None will ignore the C and l1_ratio parameters\n",
            "  warnings.warn(\n"
          ]
        },
        {
          "output_type": "stream",
          "name": "stdout",
          "text": [
            "[CV 4/10] END .C=0.01, penalty=None, solver=sag;, score=0.832 total time=   0.7s\n"
          ]
        },
        {
          "output_type": "stream",
          "name": "stderr",
          "text": [
            "/usr/local/lib/python3.11/dist-packages/sklearn/linear_model/_logistic.py:1208: UserWarning: Setting penalty=None will ignore the C and l1_ratio parameters\n",
            "  warnings.warn(\n"
          ]
        },
        {
          "output_type": "stream",
          "name": "stdout",
          "text": [
            "[CV 5/10] END .C=0.01, penalty=None, solver=sag;, score=0.821 total time=   0.6s\n"
          ]
        },
        {
          "output_type": "stream",
          "name": "stderr",
          "text": [
            "/usr/local/lib/python3.11/dist-packages/sklearn/linear_model/_logistic.py:1208: UserWarning: Setting penalty=None will ignore the C and l1_ratio parameters\n",
            "  warnings.warn(\n"
          ]
        },
        {
          "output_type": "stream",
          "name": "stdout",
          "text": [
            "[CV 6/10] END .C=0.01, penalty=None, solver=sag;, score=0.842 total time=   0.6s\n"
          ]
        },
        {
          "output_type": "stream",
          "name": "stderr",
          "text": [
            "/usr/local/lib/python3.11/dist-packages/sklearn/linear_model/_logistic.py:1208: UserWarning: Setting penalty=None will ignore the C and l1_ratio parameters\n",
            "  warnings.warn(\n"
          ]
        },
        {
          "output_type": "stream",
          "name": "stdout",
          "text": [
            "[CV 7/10] END .C=0.01, penalty=None, solver=sag;, score=0.810 total time=   0.5s\n"
          ]
        },
        {
          "output_type": "stream",
          "name": "stderr",
          "text": [
            "/usr/local/lib/python3.11/dist-packages/sklearn/linear_model/_logistic.py:1208: UserWarning: Setting penalty=None will ignore the C and l1_ratio parameters\n",
            "  warnings.warn(\n"
          ]
        },
        {
          "output_type": "stream",
          "name": "stdout",
          "text": [
            "[CV 8/10] END .C=0.01, penalty=None, solver=sag;, score=0.827 total time=   0.5s\n"
          ]
        },
        {
          "output_type": "stream",
          "name": "stderr",
          "text": [
            "/usr/local/lib/python3.11/dist-packages/sklearn/linear_model/_logistic.py:1208: UserWarning: Setting penalty=None will ignore the C and l1_ratio parameters\n",
            "  warnings.warn(\n"
          ]
        },
        {
          "output_type": "stream",
          "name": "stdout",
          "text": [
            "[CV 9/10] END .C=0.01, penalty=None, solver=sag;, score=0.834 total time=   0.5s\n"
          ]
        },
        {
          "output_type": "stream",
          "name": "stderr",
          "text": [
            "/usr/local/lib/python3.11/dist-packages/sklearn/linear_model/_logistic.py:1208: UserWarning: Setting penalty=None will ignore the C and l1_ratio parameters\n",
            "  warnings.warn(\n"
          ]
        },
        {
          "output_type": "stream",
          "name": "stdout",
          "text": [
            "[CV 10/10] END C=0.01, penalty=None, solver=sag;, score=0.825 total time=   0.6s\n"
          ]
        },
        {
          "output_type": "stream",
          "name": "stderr",
          "text": [
            "/usr/local/lib/python3.11/dist-packages/sklearn/linear_model/_logistic.py:1208: UserWarning: Setting penalty=None will ignore the C and l1_ratio parameters\n",
            "  warnings.warn(\n"
          ]
        },
        {
          "output_type": "stream",
          "name": "stdout",
          "text": [
            "[CV 1/10] END C=0.01, penalty=None, solver=saga;, score=0.838 total time=   1.4s\n"
          ]
        },
        {
          "output_type": "stream",
          "name": "stderr",
          "text": [
            "/usr/local/lib/python3.11/dist-packages/sklearn/linear_model/_logistic.py:1208: UserWarning: Setting penalty=None will ignore the C and l1_ratio parameters\n",
            "  warnings.warn(\n"
          ]
        },
        {
          "output_type": "stream",
          "name": "stdout",
          "text": [
            "[CV 2/10] END C=0.01, penalty=None, solver=saga;, score=0.802 total time=   1.3s\n"
          ]
        },
        {
          "output_type": "stream",
          "name": "stderr",
          "text": [
            "/usr/local/lib/python3.11/dist-packages/sklearn/linear_model/_logistic.py:1208: UserWarning: Setting penalty=None will ignore the C and l1_ratio parameters\n",
            "  warnings.warn(\n"
          ]
        },
        {
          "output_type": "stream",
          "name": "stdout",
          "text": [
            "[CV 3/10] END C=0.01, penalty=None, solver=saga;, score=0.802 total time=   1.4s\n"
          ]
        },
        {
          "output_type": "stream",
          "name": "stderr",
          "text": [
            "/usr/local/lib/python3.11/dist-packages/sklearn/linear_model/_logistic.py:1208: UserWarning: Setting penalty=None will ignore the C and l1_ratio parameters\n",
            "  warnings.warn(\n"
          ]
        },
        {
          "output_type": "stream",
          "name": "stdout",
          "text": [
            "[CV 4/10] END C=0.01, penalty=None, solver=saga;, score=0.832 total time=   1.3s\n"
          ]
        },
        {
          "output_type": "stream",
          "name": "stderr",
          "text": [
            "/usr/local/lib/python3.11/dist-packages/sklearn/linear_model/_logistic.py:1208: UserWarning: Setting penalty=None will ignore the C and l1_ratio parameters\n",
            "  warnings.warn(\n"
          ]
        },
        {
          "output_type": "stream",
          "name": "stdout",
          "text": [
            "[CV 5/10] END C=0.01, penalty=None, solver=saga;, score=0.821 total time=   1.5s\n"
          ]
        },
        {
          "output_type": "stream",
          "name": "stderr",
          "text": [
            "/usr/local/lib/python3.11/dist-packages/sklearn/linear_model/_logistic.py:1208: UserWarning: Setting penalty=None will ignore the C and l1_ratio parameters\n",
            "  warnings.warn(\n"
          ]
        },
        {
          "output_type": "stream",
          "name": "stdout",
          "text": [
            "[CV 6/10] END C=0.01, penalty=None, solver=saga;, score=0.842 total time=   2.3s\n"
          ]
        },
        {
          "output_type": "stream",
          "name": "stderr",
          "text": [
            "/usr/local/lib/python3.11/dist-packages/sklearn/linear_model/_logistic.py:1208: UserWarning: Setting penalty=None will ignore the C and l1_ratio parameters\n",
            "  warnings.warn(\n"
          ]
        },
        {
          "output_type": "stream",
          "name": "stdout",
          "text": [
            "[CV 7/10] END C=0.01, penalty=None, solver=saga;, score=0.810 total time=   2.1s\n"
          ]
        },
        {
          "output_type": "stream",
          "name": "stderr",
          "text": [
            "/usr/local/lib/python3.11/dist-packages/sklearn/linear_model/_logistic.py:1208: UserWarning: Setting penalty=None will ignore the C and l1_ratio parameters\n",
            "  warnings.warn(\n"
          ]
        },
        {
          "output_type": "stream",
          "name": "stdout",
          "text": [
            "[CV 8/10] END C=0.01, penalty=None, solver=saga;, score=0.827 total time=   1.4s\n"
          ]
        },
        {
          "output_type": "stream",
          "name": "stderr",
          "text": [
            "/usr/local/lib/python3.11/dist-packages/sklearn/linear_model/_logistic.py:1208: UserWarning: Setting penalty=None will ignore the C and l1_ratio parameters\n",
            "  warnings.warn(\n"
          ]
        },
        {
          "output_type": "stream",
          "name": "stdout",
          "text": [
            "[CV 9/10] END C=0.01, penalty=None, solver=saga;, score=0.834 total time=   1.4s\n"
          ]
        },
        {
          "output_type": "stream",
          "name": "stderr",
          "text": [
            "/usr/local/lib/python3.11/dist-packages/sklearn/linear_model/_logistic.py:1208: UserWarning: Setting penalty=None will ignore the C and l1_ratio parameters\n",
            "  warnings.warn(\n"
          ]
        },
        {
          "output_type": "stream",
          "name": "stdout",
          "text": [
            "[CV 10/10] END C=0.01, penalty=None, solver=saga;, score=0.825 total time=   1.4s\n",
            "[CV 1/10] END ..C=0.1, penalty=l2, solver=lbfgs;, score=0.821 total time=   0.0s\n",
            "[CV 2/10] END ..C=0.1, penalty=l2, solver=lbfgs;, score=0.783 total time=   0.0s\n",
            "[CV 3/10] END ..C=0.1, penalty=l2, solver=lbfgs;, score=0.782 total time=   0.0s\n",
            "[CV 4/10] END ..C=0.1, penalty=l2, solver=lbfgs;, score=0.809 total time=   0.0s\n",
            "[CV 5/10] END ..C=0.1, penalty=l2, solver=lbfgs;, score=0.812 total time=   0.0s\n",
            "[CV 6/10] END ..C=0.1, penalty=l2, solver=lbfgs;, score=0.819 total time=   0.0s\n",
            "[CV 7/10] END ..C=0.1, penalty=l2, solver=lbfgs;, score=0.800 total time=   0.1s\n",
            "[CV 8/10] END ..C=0.1, penalty=l2, solver=lbfgs;, score=0.827 total time=   0.0s\n",
            "[CV 9/10] END ..C=0.1, penalty=l2, solver=lbfgs;, score=0.824 total time=   0.0s\n",
            "[CV 10/10] END .C=0.1, penalty=l2, solver=lbfgs;, score=0.827 total time=   0.0s\n",
            "[CV 1/10] END ....C=0.1, penalty=l2, solver=sag;, score=0.821 total time=   0.4s\n",
            "[CV 2/10] END ....C=0.1, penalty=l2, solver=sag;, score=0.783 total time=   0.4s\n",
            "[CV 3/10] END ....C=0.1, penalty=l2, solver=sag;, score=0.780 total time=   0.4s\n",
            "[CV 4/10] END ....C=0.1, penalty=l2, solver=sag;, score=0.809 total time=   0.4s\n",
            "[CV 5/10] END ....C=0.1, penalty=l2, solver=sag;, score=0.810 total time=   0.4s\n",
            "[CV 6/10] END ....C=0.1, penalty=l2, solver=sag;, score=0.819 total time=   0.3s\n",
            "[CV 7/10] END ....C=0.1, penalty=l2, solver=sag;, score=0.800 total time=   0.4s\n",
            "[CV 8/10] END ....C=0.1, penalty=l2, solver=sag;, score=0.825 total time=   0.4s\n",
            "[CV 9/10] END ....C=0.1, penalty=l2, solver=sag;, score=0.824 total time=   0.3s\n",
            "[CV 10/10] END ...C=0.1, penalty=l2, solver=sag;, score=0.827 total time=   0.4s\n",
            "[CV 1/10] END ...C=0.1, penalty=l2, solver=saga;, score=0.821 total time=   0.3s\n",
            "[CV 2/10] END ...C=0.1, penalty=l2, solver=saga;, score=0.783 total time=   0.3s\n",
            "[CV 3/10] END ...C=0.1, penalty=l2, solver=saga;, score=0.780 total time=   0.3s\n",
            "[CV 4/10] END ...C=0.1, penalty=l2, solver=saga;, score=0.809 total time=   0.3s\n",
            "[CV 5/10] END ...C=0.1, penalty=l2, solver=saga;, score=0.810 total time=   0.3s\n",
            "[CV 6/10] END ...C=0.1, penalty=l2, solver=saga;, score=0.819 total time=   0.5s\n",
            "[CV 7/10] END ...C=0.1, penalty=l2, solver=saga;, score=0.800 total time=   0.6s\n",
            "[CV 8/10] END ...C=0.1, penalty=l2, solver=saga;, score=0.824 total time=   0.6s\n",
            "[CV 9/10] END ...C=0.1, penalty=l2, solver=saga;, score=0.824 total time=   0.4s\n",
            "[CV 10/10] END ..C=0.1, penalty=l2, solver=saga;, score=0.827 total time=   0.5s\n",
            "[CV 1/10] END C=0.1, penalty=None, solver=lbfgs;, score=0.834 total time=   0.1s\n",
            "[CV 2/10] END C=0.1, penalty=None, solver=lbfgs;, score=0.804 total time=   0.1s\n"
          ]
        },
        {
          "output_type": "stream",
          "name": "stderr",
          "text": [
            "/usr/local/lib/python3.11/dist-packages/sklearn/linear_model/_logistic.py:1208: UserWarning: Setting penalty=None will ignore the C and l1_ratio parameters\n",
            "  warnings.warn(\n",
            "/usr/local/lib/python3.11/dist-packages/sklearn/linear_model/_logistic.py:1208: UserWarning: Setting penalty=None will ignore the C and l1_ratio parameters\n",
            "  warnings.warn(\n",
            "/usr/local/lib/python3.11/dist-packages/sklearn/linear_model/_logistic.py:1208: UserWarning: Setting penalty=None will ignore the C and l1_ratio parameters\n",
            "  warnings.warn(\n",
            "/usr/local/lib/python3.11/dist-packages/sklearn/linear_model/_logistic.py:1208: UserWarning: Setting penalty=None will ignore the C and l1_ratio parameters\n",
            "  warnings.warn(\n",
            "/usr/local/lib/python3.11/dist-packages/sklearn/linear_model/_logistic.py:1208: UserWarning: Setting penalty=None will ignore the C and l1_ratio parameters\n",
            "  warnings.warn(\n"
          ]
        },
        {
          "output_type": "stream",
          "name": "stdout",
          "text": [
            "[CV 3/10] END C=0.1, penalty=None, solver=lbfgs;, score=0.799 total time=   0.1s\n",
            "[CV 4/10] END C=0.1, penalty=None, solver=lbfgs;, score=0.832 total time=   0.1s\n",
            "[CV 5/10] END C=0.1, penalty=None, solver=lbfgs;, score=0.822 total time=   0.1s\n"
          ]
        },
        {
          "output_type": "stream",
          "name": "stderr",
          "text": [
            "/usr/local/lib/python3.11/dist-packages/sklearn/linear_model/_logistic.py:1208: UserWarning: Setting penalty=None will ignore the C and l1_ratio parameters\n",
            "  warnings.warn(\n",
            "/usr/local/lib/python3.11/dist-packages/sklearn/linear_model/_logistic.py:1208: UserWarning: Setting penalty=None will ignore the C and l1_ratio parameters\n",
            "  warnings.warn(\n",
            "/usr/local/lib/python3.11/dist-packages/sklearn/linear_model/_logistic.py:1208: UserWarning: Setting penalty=None will ignore the C and l1_ratio parameters\n",
            "  warnings.warn(\n"
          ]
        },
        {
          "output_type": "stream",
          "name": "stdout",
          "text": [
            "[CV 6/10] END C=0.1, penalty=None, solver=lbfgs;, score=0.842 total time=   0.1s\n",
            "[CV 7/10] END C=0.1, penalty=None, solver=lbfgs;, score=0.808 total time=   0.1s\n",
            "[CV 8/10] END C=0.1, penalty=None, solver=lbfgs;, score=0.824 total time=   0.1s\n",
            "[CV 9/10] END C=0.1, penalty=None, solver=lbfgs;, score=0.836 total time=   0.1s\n",
            "[CV 10/10] END C=0.1, penalty=None, solver=lbfgs;, score=0.824 total time=   0.1s\n"
          ]
        },
        {
          "output_type": "stream",
          "name": "stderr",
          "text": [
            "/usr/local/lib/python3.11/dist-packages/sklearn/linear_model/_logistic.py:1208: UserWarning: Setting penalty=None will ignore the C and l1_ratio parameters\n",
            "  warnings.warn(\n",
            "/usr/local/lib/python3.11/dist-packages/sklearn/linear_model/_logistic.py:1208: UserWarning: Setting penalty=None will ignore the C and l1_ratio parameters\n",
            "  warnings.warn(\n",
            "/usr/local/lib/python3.11/dist-packages/sklearn/linear_model/_logistic.py:1208: UserWarning: Setting penalty=None will ignore the C and l1_ratio parameters\n",
            "  warnings.warn(\n"
          ]
        },
        {
          "output_type": "stream",
          "name": "stdout",
          "text": [
            "[CV 1/10] END ..C=0.1, penalty=None, solver=sag;, score=0.838 total time=   1.0s\n"
          ]
        },
        {
          "output_type": "stream",
          "name": "stderr",
          "text": [
            "/usr/local/lib/python3.11/dist-packages/sklearn/linear_model/_logistic.py:1208: UserWarning: Setting penalty=None will ignore the C and l1_ratio parameters\n",
            "  warnings.warn(\n"
          ]
        },
        {
          "output_type": "stream",
          "name": "stdout",
          "text": [
            "[CV 2/10] END ..C=0.1, penalty=None, solver=sag;, score=0.802 total time=   0.6s\n"
          ]
        },
        {
          "output_type": "stream",
          "name": "stderr",
          "text": [
            "/usr/local/lib/python3.11/dist-packages/sklearn/linear_model/_logistic.py:1208: UserWarning: Setting penalty=None will ignore the C and l1_ratio parameters\n",
            "  warnings.warn(\n"
          ]
        },
        {
          "output_type": "stream",
          "name": "stdout",
          "text": [
            "[CV 3/10] END ..C=0.1, penalty=None, solver=sag;, score=0.802 total time=   0.6s\n"
          ]
        },
        {
          "output_type": "stream",
          "name": "stderr",
          "text": [
            "/usr/local/lib/python3.11/dist-packages/sklearn/linear_model/_logistic.py:1208: UserWarning: Setting penalty=None will ignore the C and l1_ratio parameters\n",
            "  warnings.warn(\n"
          ]
        },
        {
          "output_type": "stream",
          "name": "stdout",
          "text": [
            "[CV 4/10] END ..C=0.1, penalty=None, solver=sag;, score=0.832 total time=   0.5s\n"
          ]
        },
        {
          "output_type": "stream",
          "name": "stderr",
          "text": [
            "/usr/local/lib/python3.11/dist-packages/sklearn/linear_model/_logistic.py:1208: UserWarning: Setting penalty=None will ignore the C and l1_ratio parameters\n",
            "  warnings.warn(\n"
          ]
        },
        {
          "output_type": "stream",
          "name": "stdout",
          "text": [
            "[CV 5/10] END ..C=0.1, penalty=None, solver=sag;, score=0.821 total time=   0.5s\n"
          ]
        },
        {
          "output_type": "stream",
          "name": "stderr",
          "text": [
            "/usr/local/lib/python3.11/dist-packages/sklearn/linear_model/_logistic.py:1208: UserWarning: Setting penalty=None will ignore the C and l1_ratio parameters\n",
            "  warnings.warn(\n"
          ]
        },
        {
          "output_type": "stream",
          "name": "stdout",
          "text": [
            "[CV 6/10] END ..C=0.1, penalty=None, solver=sag;, score=0.842 total time=   0.6s\n"
          ]
        },
        {
          "output_type": "stream",
          "name": "stderr",
          "text": [
            "/usr/local/lib/python3.11/dist-packages/sklearn/linear_model/_logistic.py:1208: UserWarning: Setting penalty=None will ignore the C and l1_ratio parameters\n",
            "  warnings.warn(\n"
          ]
        },
        {
          "output_type": "stream",
          "name": "stdout",
          "text": [
            "[CV 7/10] END ..C=0.1, penalty=None, solver=sag;, score=0.810 total time=   0.5s\n"
          ]
        },
        {
          "output_type": "stream",
          "name": "stderr",
          "text": [
            "/usr/local/lib/python3.11/dist-packages/sklearn/linear_model/_logistic.py:1208: UserWarning: Setting penalty=None will ignore the C and l1_ratio parameters\n",
            "  warnings.warn(\n"
          ]
        },
        {
          "output_type": "stream",
          "name": "stdout",
          "text": [
            "[CV 8/10] END ..C=0.1, penalty=None, solver=sag;, score=0.827 total time=   0.5s\n"
          ]
        },
        {
          "output_type": "stream",
          "name": "stderr",
          "text": [
            "/usr/local/lib/python3.11/dist-packages/sklearn/linear_model/_logistic.py:1208: UserWarning: Setting penalty=None will ignore the C and l1_ratio parameters\n",
            "  warnings.warn(\n"
          ]
        },
        {
          "output_type": "stream",
          "name": "stdout",
          "text": [
            "[CV 9/10] END ..C=0.1, penalty=None, solver=sag;, score=0.834 total time=   0.6s\n"
          ]
        },
        {
          "output_type": "stream",
          "name": "stderr",
          "text": [
            "/usr/local/lib/python3.11/dist-packages/sklearn/linear_model/_logistic.py:1208: UserWarning: Setting penalty=None will ignore the C and l1_ratio parameters\n",
            "  warnings.warn(\n"
          ]
        },
        {
          "output_type": "stream",
          "name": "stdout",
          "text": [
            "[CV 10/10] END .C=0.1, penalty=None, solver=sag;, score=0.825 total time=   0.6s\n"
          ]
        },
        {
          "output_type": "stream",
          "name": "stderr",
          "text": [
            "/usr/local/lib/python3.11/dist-packages/sklearn/linear_model/_logistic.py:1208: UserWarning: Setting penalty=None will ignore the C and l1_ratio parameters\n",
            "  warnings.warn(\n"
          ]
        },
        {
          "output_type": "stream",
          "name": "stdout",
          "text": [
            "[CV 1/10] END .C=0.1, penalty=None, solver=saga;, score=0.838 total time=   1.4s\n"
          ]
        },
        {
          "output_type": "stream",
          "name": "stderr",
          "text": [
            "/usr/local/lib/python3.11/dist-packages/sklearn/linear_model/_logistic.py:1208: UserWarning: Setting penalty=None will ignore the C and l1_ratio parameters\n",
            "  warnings.warn(\n"
          ]
        },
        {
          "output_type": "stream",
          "name": "stdout",
          "text": [
            "[CV 2/10] END .C=0.1, penalty=None, solver=saga;, score=0.802 total time=   1.3s\n"
          ]
        },
        {
          "output_type": "stream",
          "name": "stderr",
          "text": [
            "/usr/local/lib/python3.11/dist-packages/sklearn/linear_model/_logistic.py:1208: UserWarning: Setting penalty=None will ignore the C and l1_ratio parameters\n",
            "  warnings.warn(\n"
          ]
        },
        {
          "output_type": "stream",
          "name": "stdout",
          "text": [
            "[CV 3/10] END .C=0.1, penalty=None, solver=saga;, score=0.802 total time=   1.4s\n"
          ]
        },
        {
          "output_type": "stream",
          "name": "stderr",
          "text": [
            "/usr/local/lib/python3.11/dist-packages/sklearn/linear_model/_logistic.py:1208: UserWarning: Setting penalty=None will ignore the C and l1_ratio parameters\n",
            "  warnings.warn(\n"
          ]
        },
        {
          "output_type": "stream",
          "name": "stdout",
          "text": [
            "[CV 4/10] END .C=0.1, penalty=None, solver=saga;, score=0.832 total time=   1.5s\n"
          ]
        },
        {
          "output_type": "stream",
          "name": "stderr",
          "text": [
            "/usr/local/lib/python3.11/dist-packages/sklearn/linear_model/_logistic.py:1208: UserWarning: Setting penalty=None will ignore the C and l1_ratio parameters\n",
            "  warnings.warn(\n"
          ]
        },
        {
          "output_type": "stream",
          "name": "stdout",
          "text": [
            "[CV 5/10] END .C=0.1, penalty=None, solver=saga;, score=0.821 total time=   2.1s\n"
          ]
        },
        {
          "output_type": "stream",
          "name": "stderr",
          "text": [
            "/usr/local/lib/python3.11/dist-packages/sklearn/linear_model/_logistic.py:1208: UserWarning: Setting penalty=None will ignore the C and l1_ratio parameters\n",
            "  warnings.warn(\n"
          ]
        },
        {
          "output_type": "stream",
          "name": "stdout",
          "text": [
            "[CV 6/10] END .C=0.1, penalty=None, solver=saga;, score=0.842 total time=   2.2s\n"
          ]
        },
        {
          "output_type": "stream",
          "name": "stderr",
          "text": [
            "/usr/local/lib/python3.11/dist-packages/sklearn/linear_model/_logistic.py:1208: UserWarning: Setting penalty=None will ignore the C and l1_ratio parameters\n",
            "  warnings.warn(\n"
          ]
        },
        {
          "output_type": "stream",
          "name": "stdout",
          "text": [
            "[CV 7/10] END .C=0.1, penalty=None, solver=saga;, score=0.810 total time=   1.3s\n"
          ]
        },
        {
          "output_type": "stream",
          "name": "stderr",
          "text": [
            "/usr/local/lib/python3.11/dist-packages/sklearn/linear_model/_logistic.py:1208: UserWarning: Setting penalty=None will ignore the C and l1_ratio parameters\n",
            "  warnings.warn(\n"
          ]
        },
        {
          "output_type": "stream",
          "name": "stdout",
          "text": [
            "[CV 8/10] END .C=0.1, penalty=None, solver=saga;, score=0.827 total time=   1.3s\n"
          ]
        },
        {
          "output_type": "stream",
          "name": "stderr",
          "text": [
            "/usr/local/lib/python3.11/dist-packages/sklearn/linear_model/_logistic.py:1208: UserWarning: Setting penalty=None will ignore the C and l1_ratio parameters\n",
            "  warnings.warn(\n"
          ]
        },
        {
          "output_type": "stream",
          "name": "stdout",
          "text": [
            "[CV 9/10] END .C=0.1, penalty=None, solver=saga;, score=0.834 total time=   1.3s\n"
          ]
        },
        {
          "output_type": "stream",
          "name": "stderr",
          "text": [
            "/usr/local/lib/python3.11/dist-packages/sklearn/linear_model/_logistic.py:1208: UserWarning: Setting penalty=None will ignore the C and l1_ratio parameters\n",
            "  warnings.warn(\n"
          ]
        },
        {
          "output_type": "stream",
          "name": "stdout",
          "text": [
            "[CV 10/10] END C=0.1, penalty=None, solver=saga;, score=0.825 total time=   1.4s\n",
            "[CV 1/10] END ....C=1, penalty=l2, solver=lbfgs;, score=0.829 total time=   0.0s\n",
            "[CV 2/10] END ....C=1, penalty=l2, solver=lbfgs;, score=0.802 total time=   0.1s\n",
            "[CV 3/10] END ....C=1, penalty=l2, solver=lbfgs;, score=0.802 total time=   0.1s\n",
            "[CV 4/10] END ....C=1, penalty=l2, solver=lbfgs;, score=0.841 total time=   0.1s\n",
            "[CV 5/10] END ....C=1, penalty=l2, solver=lbfgs;, score=0.816 total time=   0.0s\n",
            "[CV 6/10] END ....C=1, penalty=l2, solver=lbfgs;, score=0.837 total time=   0.0s\n",
            "[CV 7/10] END ....C=1, penalty=l2, solver=lbfgs;, score=0.800 total time=   0.0s\n",
            "[CV 8/10] END ....C=1, penalty=l2, solver=lbfgs;, score=0.834 total time=   0.0s\n",
            "[CV 9/10] END ....C=1, penalty=l2, solver=lbfgs;, score=0.839 total time=   0.1s\n",
            "[CV 10/10] END ...C=1, penalty=l2, solver=lbfgs;, score=0.829 total time=   0.0s\n",
            "[CV 1/10] END ......C=1, penalty=l2, solver=sag;, score=0.831 total time=   0.4s\n",
            "[CV 2/10] END ......C=1, penalty=l2, solver=sag;, score=0.800 total time=   0.4s\n",
            "[CV 3/10] END ......C=1, penalty=l2, solver=sag;, score=0.802 total time=   0.4s\n",
            "[CV 4/10] END ......C=1, penalty=l2, solver=sag;, score=0.841 total time=   0.4s\n",
            "[CV 5/10] END ......C=1, penalty=l2, solver=sag;, score=0.814 total time=   0.4s\n",
            "[CV 6/10] END ......C=1, penalty=l2, solver=sag;, score=0.839 total time=   0.4s\n",
            "[CV 7/10] END ......C=1, penalty=l2, solver=sag;, score=0.798 total time=   0.4s\n",
            "[CV 8/10] END ......C=1, penalty=l2, solver=sag;, score=0.834 total time=   0.4s\n",
            "[CV 9/10] END ......C=1, penalty=l2, solver=sag;, score=0.839 total time=   0.4s\n",
            "[CV 10/10] END .....C=1, penalty=l2, solver=sag;, score=0.825 total time=   0.4s\n",
            "[CV 1/10] END .....C=1, penalty=l2, solver=saga;, score=0.832 total time=   1.1s\n",
            "[CV 2/10] END .....C=1, penalty=l2, solver=saga;, score=0.800 total time=   0.9s\n",
            "[CV 3/10] END .....C=1, penalty=l2, solver=saga;, score=0.802 total time=   1.0s\n",
            "[CV 4/10] END .....C=1, penalty=l2, solver=saga;, score=0.841 total time=   0.9s\n",
            "[CV 5/10] END .....C=1, penalty=l2, solver=saga;, score=0.814 total time=   0.9s\n",
            "[CV 6/10] END .....C=1, penalty=l2, solver=saga;, score=0.839 total time=   0.7s\n",
            "[CV 7/10] END .....C=1, penalty=l2, solver=saga;, score=0.798 total time=   0.7s\n",
            "[CV 8/10] END .....C=1, penalty=l2, solver=saga;, score=0.834 total time=   0.6s\n",
            "[CV 9/10] END .....C=1, penalty=l2, solver=saga;, score=0.839 total time=   0.6s\n",
            "[CV 10/10] END ....C=1, penalty=l2, solver=saga;, score=0.825 total time=   0.6s\n",
            "[CV 1/10] END ..C=1, penalty=None, solver=lbfgs;, score=0.834 total time=   0.1s\n",
            "[CV 2/10] END ..C=1, penalty=None, solver=lbfgs;, score=0.804 total time=   0.1s\n",
            "[CV 3/10] END ..C=1, penalty=None, solver=lbfgs;, score=0.799 total time=   0.1s\n",
            "[CV 4/10] END ..C=1, penalty=None, solver=lbfgs;, score=0.832 total time=   0.1s\n",
            "[CV 5/10] END ..C=1, penalty=None, solver=lbfgs;, score=0.822 total time=   0.1s\n",
            "[CV 6/10] END ..C=1, penalty=None, solver=lbfgs;, score=0.842 total time=   0.1s\n",
            "[CV 7/10] END ..C=1, penalty=None, solver=lbfgs;, score=0.808 total time=   0.1s\n",
            "[CV 8/10] END ..C=1, penalty=None, solver=lbfgs;, score=0.824 total time=   0.1s\n",
            "[CV 9/10] END ..C=1, penalty=None, solver=lbfgs;, score=0.836 total time=   0.1s\n",
            "[CV 10/10] END .C=1, penalty=None, solver=lbfgs;, score=0.824 total time=   0.1s\n",
            "[CV 1/10] END ....C=1, penalty=None, solver=sag;, score=0.838 total time=   0.6s\n",
            "[CV 2/10] END ....C=1, penalty=None, solver=sag;, score=0.802 total time=   0.6s\n",
            "[CV 3/10] END ....C=1, penalty=None, solver=sag;, score=0.802 total time=   0.6s\n",
            "[CV 4/10] END ....C=1, penalty=None, solver=sag;, score=0.832 total time=   0.5s\n",
            "[CV 5/10] END ....C=1, penalty=None, solver=sag;, score=0.821 total time=   0.5s\n",
            "[CV 6/10] END ....C=1, penalty=None, solver=sag;, score=0.842 total time=   0.5s\n",
            "[CV 7/10] END ....C=1, penalty=None, solver=sag;, score=0.810 total time=   0.5s\n",
            "[CV 8/10] END ....C=1, penalty=None, solver=sag;, score=0.827 total time=   0.5s\n",
            "[CV 9/10] END ....C=1, penalty=None, solver=sag;, score=0.834 total time=   0.5s\n",
            "[CV 10/10] END ...C=1, penalty=None, solver=sag;, score=0.825 total time=   0.5s\n",
            "[CV 1/10] END ...C=1, penalty=None, solver=saga;, score=0.838 total time=   1.6s\n",
            "[CV 2/10] END ...C=1, penalty=None, solver=saga;, score=0.802 total time=   1.9s\n",
            "[CV 3/10] END ...C=1, penalty=None, solver=saga;, score=0.802 total time=   2.0s\n",
            "[CV 4/10] END ...C=1, penalty=None, solver=saga;, score=0.832 total time=   1.5s\n",
            "[CV 5/10] END ...C=1, penalty=None, solver=saga;, score=0.821 total time=   1.3s\n",
            "[CV 6/10] END ...C=1, penalty=None, solver=saga;, score=0.842 total time=   1.3s\n",
            "[CV 7/10] END ...C=1, penalty=None, solver=saga;, score=0.810 total time=   1.3s\n",
            "[CV 8/10] END ...C=1, penalty=None, solver=saga;, score=0.827 total time=   1.3s\n",
            "[CV 9/10] END ...C=1, penalty=None, solver=saga;, score=0.834 total time=   1.3s\n",
            "[CV 10/10] END ..C=1, penalty=None, solver=saga;, score=0.825 total time=   1.3s\n",
            "[CV 1/10] END ...C=10, penalty=l2, solver=lbfgs;, score=0.838 total time=   0.1s\n",
            "[CV 2/10] END ...C=10, penalty=l2, solver=lbfgs;, score=0.799 total time=   0.1s\n",
            "[CV 3/10] END ...C=10, penalty=l2, solver=lbfgs;, score=0.802 total time=   0.1s\n",
            "[CV 4/10] END ...C=10, penalty=l2, solver=lbfgs;, score=0.832 total time=   0.1s\n",
            "[CV 5/10] END ...C=10, penalty=l2, solver=lbfgs;, score=0.819 total time=   0.1s\n",
            "[CV 6/10] END ...C=10, penalty=l2, solver=lbfgs;, score=0.844 total time=   0.1s\n",
            "[CV 7/10] END ...C=10, penalty=l2, solver=lbfgs;, score=0.810 total time=   0.1s\n",
            "[CV 8/10] END ...C=10, penalty=l2, solver=lbfgs;, score=0.829 total time=   0.1s\n",
            "[CV 9/10] END ...C=10, penalty=l2, solver=lbfgs;, score=0.839 total time=   0.1s\n",
            "[CV 10/10] END ..C=10, penalty=l2, solver=lbfgs;, score=0.825 total time=   0.1s\n",
            "[CV 1/10] END .....C=10, penalty=l2, solver=sag;, score=0.839 total time=   0.5s\n",
            "[CV 2/10] END .....C=10, penalty=l2, solver=sag;, score=0.799 total time=   0.6s\n",
            "[CV 3/10] END .....C=10, penalty=l2, solver=sag;, score=0.799 total time=   0.6s\n",
            "[CV 4/10] END .....C=10, penalty=l2, solver=sag;, score=0.832 total time=   0.7s\n",
            "[CV 5/10] END .....C=10, penalty=l2, solver=sag;, score=0.819 total time=   0.6s\n",
            "[CV 6/10] END .....C=10, penalty=l2, solver=sag;, score=0.844 total time=   0.7s\n",
            "[CV 7/10] END .....C=10, penalty=l2, solver=sag;, score=0.810 total time=   0.6s\n",
            "[CV 8/10] END .....C=10, penalty=l2, solver=sag;, score=0.829 total time=   0.6s\n",
            "[CV 9/10] END .....C=10, penalty=l2, solver=sag;, score=0.837 total time=   0.7s\n",
            "[CV 10/10] END ....C=10, penalty=l2, solver=sag;, score=0.824 total time=   0.7s\n",
            "[CV 1/10] END ....C=10, penalty=l2, solver=saga;, score=0.839 total time=   1.2s\n",
            "[CV 2/10] END ....C=10, penalty=l2, solver=saga;, score=0.799 total time=   1.1s\n",
            "[CV 3/10] END ....C=10, penalty=l2, solver=saga;, score=0.800 total time=   1.2s\n",
            "[CV 4/10] END ....C=10, penalty=l2, solver=saga;, score=0.832 total time=   1.2s\n",
            "[CV 5/10] END ....C=10, penalty=l2, solver=saga;, score=0.819 total time=   1.1s\n",
            "[CV 6/10] END ....C=10, penalty=l2, solver=saga;, score=0.844 total time=   1.2s\n",
            "[CV 7/10] END ....C=10, penalty=l2, solver=saga;, score=0.810 total time=   1.1s\n",
            "[CV 8/10] END ....C=10, penalty=l2, solver=saga;, score=0.829 total time=   1.1s\n",
            "[CV 9/10] END ....C=10, penalty=l2, solver=saga;, score=0.837 total time=   1.3s\n",
            "[CV 10/10] END ...C=10, penalty=l2, solver=saga;, score=0.824 total time=   1.8s\n",
            "[CV 1/10] END .C=10, penalty=None, solver=lbfgs;, score=0.834 total time=   0.1s\n",
            "[CV 2/10] END .C=10, penalty=None, solver=lbfgs;, score=0.804 total time=   0.1s\n"
          ]
        },
        {
          "output_type": "stream",
          "name": "stderr",
          "text": [
            "/usr/local/lib/python3.11/dist-packages/sklearn/linear_model/_logistic.py:1208: UserWarning: Setting penalty=None will ignore the C and l1_ratio parameters\n",
            "  warnings.warn(\n",
            "/usr/local/lib/python3.11/dist-packages/sklearn/linear_model/_logistic.py:1208: UserWarning: Setting penalty=None will ignore the C and l1_ratio parameters\n",
            "  warnings.warn(\n",
            "/usr/local/lib/python3.11/dist-packages/sklearn/linear_model/_logistic.py:1208: UserWarning: Setting penalty=None will ignore the C and l1_ratio parameters\n",
            "  warnings.warn(\n"
          ]
        },
        {
          "output_type": "stream",
          "name": "stdout",
          "text": [
            "[CV 3/10] END .C=10, penalty=None, solver=lbfgs;, score=0.799 total time=   0.1s\n",
            "[CV 4/10] END .C=10, penalty=None, solver=lbfgs;, score=0.832 total time=   0.1s\n",
            "[CV 5/10] END .C=10, penalty=None, solver=lbfgs;, score=0.822 total time=   0.1s\n"
          ]
        },
        {
          "output_type": "stream",
          "name": "stderr",
          "text": [
            "/usr/local/lib/python3.11/dist-packages/sklearn/linear_model/_logistic.py:1208: UserWarning: Setting penalty=None will ignore the C and l1_ratio parameters\n",
            "  warnings.warn(\n",
            "/usr/local/lib/python3.11/dist-packages/sklearn/linear_model/_logistic.py:1208: UserWarning: Setting penalty=None will ignore the C and l1_ratio parameters\n",
            "  warnings.warn(\n",
            "/usr/local/lib/python3.11/dist-packages/sklearn/linear_model/_logistic.py:1208: UserWarning: Setting penalty=None will ignore the C and l1_ratio parameters\n",
            "  warnings.warn(\n"
          ]
        },
        {
          "output_type": "stream",
          "name": "stdout",
          "text": [
            "[CV 6/10] END .C=10, penalty=None, solver=lbfgs;, score=0.842 total time=   0.1s\n",
            "[CV 7/10] END .C=10, penalty=None, solver=lbfgs;, score=0.808 total time=   0.1s\n"
          ]
        },
        {
          "output_type": "stream",
          "name": "stderr",
          "text": [
            "/usr/local/lib/python3.11/dist-packages/sklearn/linear_model/_logistic.py:1208: UserWarning: Setting penalty=None will ignore the C and l1_ratio parameters\n",
            "  warnings.warn(\n",
            "/usr/local/lib/python3.11/dist-packages/sklearn/linear_model/_logistic.py:1208: UserWarning: Setting penalty=None will ignore the C and l1_ratio parameters\n",
            "  warnings.warn(\n"
          ]
        },
        {
          "output_type": "stream",
          "name": "stdout",
          "text": [
            "[CV 8/10] END .C=10, penalty=None, solver=lbfgs;, score=0.824 total time=   0.2s\n",
            "[CV 9/10] END .C=10, penalty=None, solver=lbfgs;, score=0.836 total time=   0.1s\n"
          ]
        },
        {
          "output_type": "stream",
          "name": "stderr",
          "text": [
            "/usr/local/lib/python3.11/dist-packages/sklearn/linear_model/_logistic.py:1208: UserWarning: Setting penalty=None will ignore the C and l1_ratio parameters\n",
            "  warnings.warn(\n",
            "/usr/local/lib/python3.11/dist-packages/sklearn/linear_model/_logistic.py:1208: UserWarning: Setting penalty=None will ignore the C and l1_ratio parameters\n",
            "  warnings.warn(\n"
          ]
        },
        {
          "output_type": "stream",
          "name": "stdout",
          "text": [
            "[CV 10/10] END C=10, penalty=None, solver=lbfgs;, score=0.824 total time=   0.1s\n"
          ]
        },
        {
          "output_type": "stream",
          "name": "stderr",
          "text": [
            "/usr/local/lib/python3.11/dist-packages/sklearn/linear_model/_logistic.py:1208: UserWarning: Setting penalty=None will ignore the C and l1_ratio parameters\n",
            "  warnings.warn(\n"
          ]
        },
        {
          "output_type": "stream",
          "name": "stdout",
          "text": [
            "[CV 1/10] END ...C=10, penalty=None, solver=sag;, score=0.838 total time=   0.8s\n"
          ]
        },
        {
          "output_type": "stream",
          "name": "stderr",
          "text": [
            "/usr/local/lib/python3.11/dist-packages/sklearn/linear_model/_logistic.py:1208: UserWarning: Setting penalty=None will ignore the C and l1_ratio parameters\n",
            "  warnings.warn(\n"
          ]
        },
        {
          "output_type": "stream",
          "name": "stdout",
          "text": [
            "[CV 2/10] END ...C=10, penalty=None, solver=sag;, score=0.802 total time=   0.8s\n"
          ]
        },
        {
          "output_type": "stream",
          "name": "stderr",
          "text": [
            "/usr/local/lib/python3.11/dist-packages/sklearn/linear_model/_logistic.py:1208: UserWarning: Setting penalty=None will ignore the C and l1_ratio parameters\n",
            "  warnings.warn(\n"
          ]
        },
        {
          "output_type": "stream",
          "name": "stdout",
          "text": [
            "[CV 3/10] END ...C=10, penalty=None, solver=sag;, score=0.802 total time=   0.7s\n"
          ]
        },
        {
          "output_type": "stream",
          "name": "stderr",
          "text": [
            "/usr/local/lib/python3.11/dist-packages/sklearn/linear_model/_logistic.py:1208: UserWarning: Setting penalty=None will ignore the C and l1_ratio parameters\n",
            "  warnings.warn(\n"
          ]
        },
        {
          "output_type": "stream",
          "name": "stdout",
          "text": [
            "[CV 4/10] END ...C=10, penalty=None, solver=sag;, score=0.832 total time=   0.5s\n"
          ]
        },
        {
          "output_type": "stream",
          "name": "stderr",
          "text": [
            "/usr/local/lib/python3.11/dist-packages/sklearn/linear_model/_logistic.py:1208: UserWarning: Setting penalty=None will ignore the C and l1_ratio parameters\n",
            "  warnings.warn(\n"
          ]
        },
        {
          "output_type": "stream",
          "name": "stdout",
          "text": [
            "[CV 5/10] END ...C=10, penalty=None, solver=sag;, score=0.821 total time=   0.5s\n"
          ]
        },
        {
          "output_type": "stream",
          "name": "stderr",
          "text": [
            "/usr/local/lib/python3.11/dist-packages/sklearn/linear_model/_logistic.py:1208: UserWarning: Setting penalty=None will ignore the C and l1_ratio parameters\n",
            "  warnings.warn(\n"
          ]
        },
        {
          "output_type": "stream",
          "name": "stdout",
          "text": [
            "[CV 6/10] END ...C=10, penalty=None, solver=sag;, score=0.842 total time=   0.6s\n"
          ]
        },
        {
          "output_type": "stream",
          "name": "stderr",
          "text": [
            "/usr/local/lib/python3.11/dist-packages/sklearn/linear_model/_logistic.py:1208: UserWarning: Setting penalty=None will ignore the C and l1_ratio parameters\n",
            "  warnings.warn(\n"
          ]
        },
        {
          "output_type": "stream",
          "name": "stdout",
          "text": [
            "[CV 7/10] END ...C=10, penalty=None, solver=sag;, score=0.810 total time=   0.5s\n"
          ]
        },
        {
          "output_type": "stream",
          "name": "stderr",
          "text": [
            "/usr/local/lib/python3.11/dist-packages/sklearn/linear_model/_logistic.py:1208: UserWarning: Setting penalty=None will ignore the C and l1_ratio parameters\n",
            "  warnings.warn(\n"
          ]
        },
        {
          "output_type": "stream",
          "name": "stdout",
          "text": [
            "[CV 8/10] END ...C=10, penalty=None, solver=sag;, score=0.827 total time=   0.5s\n"
          ]
        },
        {
          "output_type": "stream",
          "name": "stderr",
          "text": [
            "/usr/local/lib/python3.11/dist-packages/sklearn/linear_model/_logistic.py:1208: UserWarning: Setting penalty=None will ignore the C and l1_ratio parameters\n",
            "  warnings.warn(\n"
          ]
        },
        {
          "output_type": "stream",
          "name": "stdout",
          "text": [
            "[CV 9/10] END ...C=10, penalty=None, solver=sag;, score=0.834 total time=   0.6s\n"
          ]
        },
        {
          "output_type": "stream",
          "name": "stderr",
          "text": [
            "/usr/local/lib/python3.11/dist-packages/sklearn/linear_model/_logistic.py:1208: UserWarning: Setting penalty=None will ignore the C and l1_ratio parameters\n",
            "  warnings.warn(\n"
          ]
        },
        {
          "output_type": "stream",
          "name": "stdout",
          "text": [
            "[CV 10/10] END ..C=10, penalty=None, solver=sag;, score=0.825 total time=   0.5s\n"
          ]
        },
        {
          "output_type": "stream",
          "name": "stderr",
          "text": [
            "/usr/local/lib/python3.11/dist-packages/sklearn/linear_model/_logistic.py:1208: UserWarning: Setting penalty=None will ignore the C and l1_ratio parameters\n",
            "  warnings.warn(\n"
          ]
        },
        {
          "output_type": "stream",
          "name": "stdout",
          "text": [
            "[CV 1/10] END ..C=10, penalty=None, solver=saga;, score=0.838 total time=   1.3s\n"
          ]
        },
        {
          "output_type": "stream",
          "name": "stderr",
          "text": [
            "/usr/local/lib/python3.11/dist-packages/sklearn/linear_model/_logistic.py:1208: UserWarning: Setting penalty=None will ignore the C and l1_ratio parameters\n",
            "  warnings.warn(\n"
          ]
        },
        {
          "output_type": "stream",
          "name": "stdout",
          "text": [
            "[CV 2/10] END ..C=10, penalty=None, solver=saga;, score=0.802 total time=   1.3s\n"
          ]
        },
        {
          "output_type": "stream",
          "name": "stderr",
          "text": [
            "/usr/local/lib/python3.11/dist-packages/sklearn/linear_model/_logistic.py:1208: UserWarning: Setting penalty=None will ignore the C and l1_ratio parameters\n",
            "  warnings.warn(\n"
          ]
        },
        {
          "output_type": "stream",
          "name": "stdout",
          "text": [
            "[CV 3/10] END ..C=10, penalty=None, solver=saga;, score=0.802 total time=   1.3s\n"
          ]
        },
        {
          "output_type": "stream",
          "name": "stderr",
          "text": [
            "/usr/local/lib/python3.11/dist-packages/sklearn/linear_model/_logistic.py:1208: UserWarning: Setting penalty=None will ignore the C and l1_ratio parameters\n",
            "  warnings.warn(\n"
          ]
        },
        {
          "output_type": "stream",
          "name": "stdout",
          "text": [
            "[CV 4/10] END ..C=10, penalty=None, solver=saga;, score=0.832 total time=   1.3s\n"
          ]
        },
        {
          "output_type": "stream",
          "name": "stderr",
          "text": [
            "/usr/local/lib/python3.11/dist-packages/sklearn/linear_model/_logistic.py:1208: UserWarning: Setting penalty=None will ignore the C and l1_ratio parameters\n",
            "  warnings.warn(\n"
          ]
        },
        {
          "output_type": "stream",
          "name": "stdout",
          "text": [
            "[CV 5/10] END ..C=10, penalty=None, solver=saga;, score=0.821 total time=   1.7s\n"
          ]
        },
        {
          "output_type": "stream",
          "name": "stderr",
          "text": [
            "/usr/local/lib/python3.11/dist-packages/sklearn/linear_model/_logistic.py:1208: UserWarning: Setting penalty=None will ignore the C and l1_ratio parameters\n",
            "  warnings.warn(\n"
          ]
        },
        {
          "output_type": "stream",
          "name": "stdout",
          "text": [
            "[CV 6/10] END ..C=10, penalty=None, solver=saga;, score=0.842 total time=   2.0s\n"
          ]
        },
        {
          "output_type": "stream",
          "name": "stderr",
          "text": [
            "/usr/local/lib/python3.11/dist-packages/sklearn/linear_model/_logistic.py:1208: UserWarning: Setting penalty=None will ignore the C and l1_ratio parameters\n",
            "  warnings.warn(\n"
          ]
        },
        {
          "output_type": "stream",
          "name": "stdout",
          "text": [
            "[CV 7/10] END ..C=10, penalty=None, solver=saga;, score=0.810 total time=   2.0s\n"
          ]
        },
        {
          "output_type": "stream",
          "name": "stderr",
          "text": [
            "/usr/local/lib/python3.11/dist-packages/sklearn/linear_model/_logistic.py:1208: UserWarning: Setting penalty=None will ignore the C and l1_ratio parameters\n",
            "  warnings.warn(\n"
          ]
        },
        {
          "output_type": "stream",
          "name": "stdout",
          "text": [
            "[CV 8/10] END ..C=10, penalty=None, solver=saga;, score=0.827 total time=   1.5s\n"
          ]
        },
        {
          "output_type": "stream",
          "name": "stderr",
          "text": [
            "/usr/local/lib/python3.11/dist-packages/sklearn/linear_model/_logistic.py:1208: UserWarning: Setting penalty=None will ignore the C and l1_ratio parameters\n",
            "  warnings.warn(\n"
          ]
        },
        {
          "output_type": "stream",
          "name": "stdout",
          "text": [
            "[CV 9/10] END ..C=10, penalty=None, solver=saga;, score=0.834 total time=   1.3s\n"
          ]
        },
        {
          "output_type": "stream",
          "name": "stderr",
          "text": [
            "/usr/local/lib/python3.11/dist-packages/sklearn/linear_model/_logistic.py:1208: UserWarning: Setting penalty=None will ignore the C and l1_ratio parameters\n",
            "  warnings.warn(\n"
          ]
        },
        {
          "output_type": "stream",
          "name": "stdout",
          "text": [
            "[CV 10/10] END .C=10, penalty=None, solver=saga;, score=0.825 total time=   1.3s\n"
          ]
        },
        {
          "output_type": "execute_result",
          "data": {
            "text/plain": [
              "GridSearchCV(cv=10,\n",
              "             estimator=LogisticRegression(max_iter=1000, random_state=42),\n",
              "             param_grid={'C': [0.01, 0.1, 1, 10], 'penalty': ['l2', None],\n",
              "                         'solver': ['lbfgs', 'sag', 'saga']},\n",
              "             scoring='accuracy', verbose=4)"
            ],
            "text/html": [
              "<style>#sk-container-id-2 {\n",
              "  /* Definition of color scheme common for light and dark mode */\n",
              "  --sklearn-color-text: black;\n",
              "  --sklearn-color-line: gray;\n",
              "  /* Definition of color scheme for unfitted estimators */\n",
              "  --sklearn-color-unfitted-level-0: #fff5e6;\n",
              "  --sklearn-color-unfitted-level-1: #f6e4d2;\n",
              "  --sklearn-color-unfitted-level-2: #ffe0b3;\n",
              "  --sklearn-color-unfitted-level-3: chocolate;\n",
              "  /* Definition of color scheme for fitted estimators */\n",
              "  --sklearn-color-fitted-level-0: #f0f8ff;\n",
              "  --sklearn-color-fitted-level-1: #d4ebff;\n",
              "  --sklearn-color-fitted-level-2: #b3dbfd;\n",
              "  --sklearn-color-fitted-level-3: cornflowerblue;\n",
              "\n",
              "  /* Specific color for light theme */\n",
              "  --sklearn-color-text-on-default-background: var(--sg-text-color, var(--theme-code-foreground, var(--jp-content-font-color1, black)));\n",
              "  --sklearn-color-background: var(--sg-background-color, var(--theme-background, var(--jp-layout-color0, white)));\n",
              "  --sklearn-color-border-box: var(--sg-text-color, var(--theme-code-foreground, var(--jp-content-font-color1, black)));\n",
              "  --sklearn-color-icon: #696969;\n",
              "\n",
              "  @media (prefers-color-scheme: dark) {\n",
              "    /* Redefinition of color scheme for dark theme */\n",
              "    --sklearn-color-text-on-default-background: var(--sg-text-color, var(--theme-code-foreground, var(--jp-content-font-color1, white)));\n",
              "    --sklearn-color-background: var(--sg-background-color, var(--theme-background, var(--jp-layout-color0, #111)));\n",
              "    --sklearn-color-border-box: var(--sg-text-color, var(--theme-code-foreground, var(--jp-content-font-color1, white)));\n",
              "    --sklearn-color-icon: #878787;\n",
              "  }\n",
              "}\n",
              "\n",
              "#sk-container-id-2 {\n",
              "  color: var(--sklearn-color-text);\n",
              "}\n",
              "\n",
              "#sk-container-id-2 pre {\n",
              "  padding: 0;\n",
              "}\n",
              "\n",
              "#sk-container-id-2 input.sk-hidden--visually {\n",
              "  border: 0;\n",
              "  clip: rect(1px 1px 1px 1px);\n",
              "  clip: rect(1px, 1px, 1px, 1px);\n",
              "  height: 1px;\n",
              "  margin: -1px;\n",
              "  overflow: hidden;\n",
              "  padding: 0;\n",
              "  position: absolute;\n",
              "  width: 1px;\n",
              "}\n",
              "\n",
              "#sk-container-id-2 div.sk-dashed-wrapped {\n",
              "  border: 1px dashed var(--sklearn-color-line);\n",
              "  margin: 0 0.4em 0.5em 0.4em;\n",
              "  box-sizing: border-box;\n",
              "  padding-bottom: 0.4em;\n",
              "  background-color: var(--sklearn-color-background);\n",
              "}\n",
              "\n",
              "#sk-container-id-2 div.sk-container {\n",
              "  /* jupyter's `normalize.less` sets `[hidden] { display: none; }`\n",
              "     but bootstrap.min.css set `[hidden] { display: none !important; }`\n",
              "     so we also need the `!important` here to be able to override the\n",
              "     default hidden behavior on the sphinx rendered scikit-learn.org.\n",
              "     See: https://github.com/scikit-learn/scikit-learn/issues/21755 */\n",
              "  display: inline-block !important;\n",
              "  position: relative;\n",
              "}\n",
              "\n",
              "#sk-container-id-2 div.sk-text-repr-fallback {\n",
              "  display: none;\n",
              "}\n",
              "\n",
              "div.sk-parallel-item,\n",
              "div.sk-serial,\n",
              "div.sk-item {\n",
              "  /* draw centered vertical line to link estimators */\n",
              "  background-image: linear-gradient(var(--sklearn-color-text-on-default-background), var(--sklearn-color-text-on-default-background));\n",
              "  background-size: 2px 100%;\n",
              "  background-repeat: no-repeat;\n",
              "  background-position: center center;\n",
              "}\n",
              "\n",
              "/* Parallel-specific style estimator block */\n",
              "\n",
              "#sk-container-id-2 div.sk-parallel-item::after {\n",
              "  content: \"\";\n",
              "  width: 100%;\n",
              "  border-bottom: 2px solid var(--sklearn-color-text-on-default-background);\n",
              "  flex-grow: 1;\n",
              "}\n",
              "\n",
              "#sk-container-id-2 div.sk-parallel {\n",
              "  display: flex;\n",
              "  align-items: stretch;\n",
              "  justify-content: center;\n",
              "  background-color: var(--sklearn-color-background);\n",
              "  position: relative;\n",
              "}\n",
              "\n",
              "#sk-container-id-2 div.sk-parallel-item {\n",
              "  display: flex;\n",
              "  flex-direction: column;\n",
              "}\n",
              "\n",
              "#sk-container-id-2 div.sk-parallel-item:first-child::after {\n",
              "  align-self: flex-end;\n",
              "  width: 50%;\n",
              "}\n",
              "\n",
              "#sk-container-id-2 div.sk-parallel-item:last-child::after {\n",
              "  align-self: flex-start;\n",
              "  width: 50%;\n",
              "}\n",
              "\n",
              "#sk-container-id-2 div.sk-parallel-item:only-child::after {\n",
              "  width: 0;\n",
              "}\n",
              "\n",
              "/* Serial-specific style estimator block */\n",
              "\n",
              "#sk-container-id-2 div.sk-serial {\n",
              "  display: flex;\n",
              "  flex-direction: column;\n",
              "  align-items: center;\n",
              "  background-color: var(--sklearn-color-background);\n",
              "  padding-right: 1em;\n",
              "  padding-left: 1em;\n",
              "}\n",
              "\n",
              "\n",
              "/* Toggleable style: style used for estimator/Pipeline/ColumnTransformer box that is\n",
              "clickable and can be expanded/collapsed.\n",
              "- Pipeline and ColumnTransformer use this feature and define the default style\n",
              "- Estimators will overwrite some part of the style using the `sk-estimator` class\n",
              "*/\n",
              "\n",
              "/* Pipeline and ColumnTransformer style (default) */\n",
              "\n",
              "#sk-container-id-2 div.sk-toggleable {\n",
              "  /* Default theme specific background. It is overwritten whether we have a\n",
              "  specific estimator or a Pipeline/ColumnTransformer */\n",
              "  background-color: var(--sklearn-color-background);\n",
              "}\n",
              "\n",
              "/* Toggleable label */\n",
              "#sk-container-id-2 label.sk-toggleable__label {\n",
              "  cursor: pointer;\n",
              "  display: block;\n",
              "  width: 100%;\n",
              "  margin-bottom: 0;\n",
              "  padding: 0.5em;\n",
              "  box-sizing: border-box;\n",
              "  text-align: center;\n",
              "}\n",
              "\n",
              "#sk-container-id-2 label.sk-toggleable__label-arrow:before {\n",
              "  /* Arrow on the left of the label */\n",
              "  content: \"▸\";\n",
              "  float: left;\n",
              "  margin-right: 0.25em;\n",
              "  color: var(--sklearn-color-icon);\n",
              "}\n",
              "\n",
              "#sk-container-id-2 label.sk-toggleable__label-arrow:hover:before {\n",
              "  color: var(--sklearn-color-text);\n",
              "}\n",
              "\n",
              "/* Toggleable content - dropdown */\n",
              "\n",
              "#sk-container-id-2 div.sk-toggleable__content {\n",
              "  max-height: 0;\n",
              "  max-width: 0;\n",
              "  overflow: hidden;\n",
              "  text-align: left;\n",
              "  /* unfitted */\n",
              "  background-color: var(--sklearn-color-unfitted-level-0);\n",
              "}\n",
              "\n",
              "#sk-container-id-2 div.sk-toggleable__content.fitted {\n",
              "  /* fitted */\n",
              "  background-color: var(--sklearn-color-fitted-level-0);\n",
              "}\n",
              "\n",
              "#sk-container-id-2 div.sk-toggleable__content pre {\n",
              "  margin: 0.2em;\n",
              "  border-radius: 0.25em;\n",
              "  color: var(--sklearn-color-text);\n",
              "  /* unfitted */\n",
              "  background-color: var(--sklearn-color-unfitted-level-0);\n",
              "}\n",
              "\n",
              "#sk-container-id-2 div.sk-toggleable__content.fitted pre {\n",
              "  /* unfitted */\n",
              "  background-color: var(--sklearn-color-fitted-level-0);\n",
              "}\n",
              "\n",
              "#sk-container-id-2 input.sk-toggleable__control:checked~div.sk-toggleable__content {\n",
              "  /* Expand drop-down */\n",
              "  max-height: 200px;\n",
              "  max-width: 100%;\n",
              "  overflow: auto;\n",
              "}\n",
              "\n",
              "#sk-container-id-2 input.sk-toggleable__control:checked~label.sk-toggleable__label-arrow:before {\n",
              "  content: \"▾\";\n",
              "}\n",
              "\n",
              "/* Pipeline/ColumnTransformer-specific style */\n",
              "\n",
              "#sk-container-id-2 div.sk-label input.sk-toggleable__control:checked~label.sk-toggleable__label {\n",
              "  color: var(--sklearn-color-text);\n",
              "  background-color: var(--sklearn-color-unfitted-level-2);\n",
              "}\n",
              "\n",
              "#sk-container-id-2 div.sk-label.fitted input.sk-toggleable__control:checked~label.sk-toggleable__label {\n",
              "  background-color: var(--sklearn-color-fitted-level-2);\n",
              "}\n",
              "\n",
              "/* Estimator-specific style */\n",
              "\n",
              "/* Colorize estimator box */\n",
              "#sk-container-id-2 div.sk-estimator input.sk-toggleable__control:checked~label.sk-toggleable__label {\n",
              "  /* unfitted */\n",
              "  background-color: var(--sklearn-color-unfitted-level-2);\n",
              "}\n",
              "\n",
              "#sk-container-id-2 div.sk-estimator.fitted input.sk-toggleable__control:checked~label.sk-toggleable__label {\n",
              "  /* fitted */\n",
              "  background-color: var(--sklearn-color-fitted-level-2);\n",
              "}\n",
              "\n",
              "#sk-container-id-2 div.sk-label label.sk-toggleable__label,\n",
              "#sk-container-id-2 div.sk-label label {\n",
              "  /* The background is the default theme color */\n",
              "  color: var(--sklearn-color-text-on-default-background);\n",
              "}\n",
              "\n",
              "/* On hover, darken the color of the background */\n",
              "#sk-container-id-2 div.sk-label:hover label.sk-toggleable__label {\n",
              "  color: var(--sklearn-color-text);\n",
              "  background-color: var(--sklearn-color-unfitted-level-2);\n",
              "}\n",
              "\n",
              "/* Label box, darken color on hover, fitted */\n",
              "#sk-container-id-2 div.sk-label.fitted:hover label.sk-toggleable__label.fitted {\n",
              "  color: var(--sklearn-color-text);\n",
              "  background-color: var(--sklearn-color-fitted-level-2);\n",
              "}\n",
              "\n",
              "/* Estimator label */\n",
              "\n",
              "#sk-container-id-2 div.sk-label label {\n",
              "  font-family: monospace;\n",
              "  font-weight: bold;\n",
              "  display: inline-block;\n",
              "  line-height: 1.2em;\n",
              "}\n",
              "\n",
              "#sk-container-id-2 div.sk-label-container {\n",
              "  text-align: center;\n",
              "}\n",
              "\n",
              "/* Estimator-specific */\n",
              "#sk-container-id-2 div.sk-estimator {\n",
              "  font-family: monospace;\n",
              "  border: 1px dotted var(--sklearn-color-border-box);\n",
              "  border-radius: 0.25em;\n",
              "  box-sizing: border-box;\n",
              "  margin-bottom: 0.5em;\n",
              "  /* unfitted */\n",
              "  background-color: var(--sklearn-color-unfitted-level-0);\n",
              "}\n",
              "\n",
              "#sk-container-id-2 div.sk-estimator.fitted {\n",
              "  /* fitted */\n",
              "  background-color: var(--sklearn-color-fitted-level-0);\n",
              "}\n",
              "\n",
              "/* on hover */\n",
              "#sk-container-id-2 div.sk-estimator:hover {\n",
              "  /* unfitted */\n",
              "  background-color: var(--sklearn-color-unfitted-level-2);\n",
              "}\n",
              "\n",
              "#sk-container-id-2 div.sk-estimator.fitted:hover {\n",
              "  /* fitted */\n",
              "  background-color: var(--sklearn-color-fitted-level-2);\n",
              "}\n",
              "\n",
              "/* Specification for estimator info (e.g. \"i\" and \"?\") */\n",
              "\n",
              "/* Common style for \"i\" and \"?\" */\n",
              "\n",
              ".sk-estimator-doc-link,\n",
              "a:link.sk-estimator-doc-link,\n",
              "a:visited.sk-estimator-doc-link {\n",
              "  float: right;\n",
              "  font-size: smaller;\n",
              "  line-height: 1em;\n",
              "  font-family: monospace;\n",
              "  background-color: var(--sklearn-color-background);\n",
              "  border-radius: 1em;\n",
              "  height: 1em;\n",
              "  width: 1em;\n",
              "  text-decoration: none !important;\n",
              "  margin-left: 1ex;\n",
              "  /* unfitted */\n",
              "  border: var(--sklearn-color-unfitted-level-1) 1pt solid;\n",
              "  color: var(--sklearn-color-unfitted-level-1);\n",
              "}\n",
              "\n",
              ".sk-estimator-doc-link.fitted,\n",
              "a:link.sk-estimator-doc-link.fitted,\n",
              "a:visited.sk-estimator-doc-link.fitted {\n",
              "  /* fitted */\n",
              "  border: var(--sklearn-color-fitted-level-1) 1pt solid;\n",
              "  color: var(--sklearn-color-fitted-level-1);\n",
              "}\n",
              "\n",
              "/* On hover */\n",
              "div.sk-estimator:hover .sk-estimator-doc-link:hover,\n",
              ".sk-estimator-doc-link:hover,\n",
              "div.sk-label-container:hover .sk-estimator-doc-link:hover,\n",
              ".sk-estimator-doc-link:hover {\n",
              "  /* unfitted */\n",
              "  background-color: var(--sklearn-color-unfitted-level-3);\n",
              "  color: var(--sklearn-color-background);\n",
              "  text-decoration: none;\n",
              "}\n",
              "\n",
              "div.sk-estimator.fitted:hover .sk-estimator-doc-link.fitted:hover,\n",
              ".sk-estimator-doc-link.fitted:hover,\n",
              "div.sk-label-container:hover .sk-estimator-doc-link.fitted:hover,\n",
              ".sk-estimator-doc-link.fitted:hover {\n",
              "  /* fitted */\n",
              "  background-color: var(--sklearn-color-fitted-level-3);\n",
              "  color: var(--sklearn-color-background);\n",
              "  text-decoration: none;\n",
              "}\n",
              "\n",
              "/* Span, style for the box shown on hovering the info icon */\n",
              ".sk-estimator-doc-link span {\n",
              "  display: none;\n",
              "  z-index: 9999;\n",
              "  position: relative;\n",
              "  font-weight: normal;\n",
              "  right: .2ex;\n",
              "  padding: .5ex;\n",
              "  margin: .5ex;\n",
              "  width: min-content;\n",
              "  min-width: 20ex;\n",
              "  max-width: 50ex;\n",
              "  color: var(--sklearn-color-text);\n",
              "  box-shadow: 2pt 2pt 4pt #999;\n",
              "  /* unfitted */\n",
              "  background: var(--sklearn-color-unfitted-level-0);\n",
              "  border: .5pt solid var(--sklearn-color-unfitted-level-3);\n",
              "}\n",
              "\n",
              ".sk-estimator-doc-link.fitted span {\n",
              "  /* fitted */\n",
              "  background: var(--sklearn-color-fitted-level-0);\n",
              "  border: var(--sklearn-color-fitted-level-3);\n",
              "}\n",
              "\n",
              ".sk-estimator-doc-link:hover span {\n",
              "  display: block;\n",
              "}\n",
              "\n",
              "/* \"?\"-specific style due to the `<a>` HTML tag */\n",
              "\n",
              "#sk-container-id-2 a.estimator_doc_link {\n",
              "  float: right;\n",
              "  font-size: 1rem;\n",
              "  line-height: 1em;\n",
              "  font-family: monospace;\n",
              "  background-color: var(--sklearn-color-background);\n",
              "  border-radius: 1rem;\n",
              "  height: 1rem;\n",
              "  width: 1rem;\n",
              "  text-decoration: none;\n",
              "  /* unfitted */\n",
              "  color: var(--sklearn-color-unfitted-level-1);\n",
              "  border: var(--sklearn-color-unfitted-level-1) 1pt solid;\n",
              "}\n",
              "\n",
              "#sk-container-id-2 a.estimator_doc_link.fitted {\n",
              "  /* fitted */\n",
              "  border: var(--sklearn-color-fitted-level-1) 1pt solid;\n",
              "  color: var(--sklearn-color-fitted-level-1);\n",
              "}\n",
              "\n",
              "/* On hover */\n",
              "#sk-container-id-2 a.estimator_doc_link:hover {\n",
              "  /* unfitted */\n",
              "  background-color: var(--sklearn-color-unfitted-level-3);\n",
              "  color: var(--sklearn-color-background);\n",
              "  text-decoration: none;\n",
              "}\n",
              "\n",
              "#sk-container-id-2 a.estimator_doc_link.fitted:hover {\n",
              "  /* fitted */\n",
              "  background-color: var(--sklearn-color-fitted-level-3);\n",
              "}\n",
              "</style><div id=\"sk-container-id-2\" class=\"sk-top-container\"><div class=\"sk-text-repr-fallback\"><pre>GridSearchCV(cv=10,\n",
              "             estimator=LogisticRegression(max_iter=1000, random_state=42),\n",
              "             param_grid={&#x27;C&#x27;: [0.01, 0.1, 1, 10], &#x27;penalty&#x27;: [&#x27;l2&#x27;, None],\n",
              "                         &#x27;solver&#x27;: [&#x27;lbfgs&#x27;, &#x27;sag&#x27;, &#x27;saga&#x27;]},\n",
              "             scoring=&#x27;accuracy&#x27;, verbose=4)</pre><b>In a Jupyter environment, please rerun this cell to show the HTML representation or trust the notebook. <br />On GitHub, the HTML representation is unable to render, please try loading this page with nbviewer.org.</b></div><div class=\"sk-container\" hidden><div class=\"sk-item sk-dashed-wrapped\"><div class=\"sk-label-container\"><div class=\"sk-label fitted sk-toggleable\"><input class=\"sk-toggleable__control sk-hidden--visually\" id=\"sk-estimator-id-4\" type=\"checkbox\" ><label for=\"sk-estimator-id-4\" class=\"sk-toggleable__label fitted sk-toggleable__label-arrow fitted\">&nbsp;&nbsp;GridSearchCV<a class=\"sk-estimator-doc-link fitted\" rel=\"noreferrer\" target=\"_blank\" href=\"https://scikit-learn.org/1.5/modules/generated/sklearn.model_selection.GridSearchCV.html\">?<span>Documentation for GridSearchCV</span></a><span class=\"sk-estimator-doc-link fitted\">i<span>Fitted</span></span></label><div class=\"sk-toggleable__content fitted\"><pre>GridSearchCV(cv=10,\n",
              "             estimator=LogisticRegression(max_iter=1000, random_state=42),\n",
              "             param_grid={&#x27;C&#x27;: [0.01, 0.1, 1, 10], &#x27;penalty&#x27;: [&#x27;l2&#x27;, None],\n",
              "                         &#x27;solver&#x27;: [&#x27;lbfgs&#x27;, &#x27;sag&#x27;, &#x27;saga&#x27;]},\n",
              "             scoring=&#x27;accuracy&#x27;, verbose=4)</pre></div> </div></div><div class=\"sk-parallel\"><div class=\"sk-parallel-item\"><div class=\"sk-item\"><div class=\"sk-label-container\"><div class=\"sk-label fitted sk-toggleable\"><input class=\"sk-toggleable__control sk-hidden--visually\" id=\"sk-estimator-id-5\" type=\"checkbox\" ><label for=\"sk-estimator-id-5\" class=\"sk-toggleable__label fitted sk-toggleable__label-arrow fitted\">best_estimator_: LogisticRegression</label><div class=\"sk-toggleable__content fitted\"><pre>LogisticRegression(C=10, max_iter=1000, random_state=42)</pre></div> </div></div><div class=\"sk-serial\"><div class=\"sk-item\"><div class=\"sk-estimator fitted sk-toggleable\"><input class=\"sk-toggleable__control sk-hidden--visually\" id=\"sk-estimator-id-6\" type=\"checkbox\" ><label for=\"sk-estimator-id-6\" class=\"sk-toggleable__label fitted sk-toggleable__label-arrow fitted\">&nbsp;LogisticRegression<a class=\"sk-estimator-doc-link fitted\" rel=\"noreferrer\" target=\"_blank\" href=\"https://scikit-learn.org/1.5/modules/generated/sklearn.linear_model.LogisticRegression.html\">?<span>Documentation for LogisticRegression</span></a></label><div class=\"sk-toggleable__content fitted\"><pre>LogisticRegression(C=10, max_iter=1000, random_state=42)</pre></div> </div></div></div></div></div></div></div></div></div>"
            ]
          },
          "metadata": {},
          "execution_count": 24
        }
      ]
    },
    {
      "cell_type": "code",
      "source": [
        "from sklearn.metrics import accuracy_score, classification_report, confusion_matrix, f1_score\n",
        "\n",
        "# Best parameters and given accuracy\n",
        "best_params = gs2.best_params_\n",
        "logreg_train_score_2 = gs2.best_score_\n",
        "print(f\"Best Parameters: {best_params}\")\n",
        "print(f\"Training Accuracy of best parameters: {logreg_train_score_2:.4f}\\n\")\n",
        "\n",
        "# Test the model on test dataset\n",
        "best_logreg_2 = gs2.best_estimator_\n",
        "y_pred2 = best_logreg_2.predict(X_test_reduced_2)\n",
        "logreg_test_score_2 = accuracy_score(y_test, y_pred2)\n",
        "logreg_test_f1_2 = f1_score(y_test, y_pred2)\n",
        "logreg_test_auc_2 = roc_auc_score(y_test, y_pred2)\n",
        "print(f\"Test Set Accuracy: {logreg_test_score_2:.4f}\" )\n",
        "print(f\"Test Set AUC: {logreg_test_auc_2:.4f}\")\n",
        "print(f\"Test Set Classification Report:\\n{classification_report(y_test, y_pred2)}\")\n",
        "print(f\"Confusion matrix:\\n{confusion_matrix(y_test, y_pred2)}\\n\")"
      ],
      "metadata": {
        "colab": {
          "base_uri": "https://localhost:8080/"
        },
        "id": "4ygNlFkvwji6",
        "outputId": "77e4a401-77aa-47a2-9acc-c506f618ac6a"
      },
      "execution_count": null,
      "outputs": [
        {
          "output_type": "stream",
          "name": "stdout",
          "text": [
            "Best Parameters: {'C': 10, 'penalty': 'l2', 'solver': 'lbfgs'}\n",
            "Training Accuracy of best parameters: 0.8237\n",
            "\n",
            "Test Set Accuracy: 0.8183\n",
            "Test Set AUC: 0.8182\n",
            "Test Set Classification Report:\n",
            "              precision    recall  f1-score   support\n",
            "\n",
            "           0       0.84      0.79      0.81      1264\n",
            "           1       0.80      0.85      0.82      1267\n",
            "\n",
            "    accuracy                           0.82      2531\n",
            "   macro avg       0.82      0.82      0.82      2531\n",
            "weighted avg       0.82      0.82      0.82      2531\n",
            "\n",
            "Confusion matrix:\n",
            "[[1000  264]\n",
            " [ 196 1071]]\n",
            "\n"
          ]
        }
      ]
    },
    {
      "cell_type": "markdown",
      "source": [
        "## 4. XGBoost\n"
      ],
      "metadata": {
        "id": "OSfqzGe_XimU"
      }
    },
    {
      "cell_type": "markdown",
      "source": [
        "### 4.1 XGBoost with 1st Word2Vec Model"
      ],
      "metadata": {
        "id": "Vymp8zcmXsdv"
      }
    },
    {
      "cell_type": "code",
      "source": [
        "from xgboost import XGBClassifier\n",
        "from sklearn.model_selection import GridSearchCV\n",
        "from sklearn.metrics import accuracy_score, classification_report, confusion_matrix\n",
        "# Define the parameter grid to search\n",
        "param_grid = {\n",
        "    'learning_rate': [0.05, 0.1, 0.15]\n",
        "    'max_depth':  [3, 4, 5]\n",
        "    'n_estimators': [200, 250, 275]\n",
        "    'gamma': [0, 0.01]\n",
        "    'min_child_weight': [5, 10]\n",
        "    'reg_alpha': [0.01, 0.1]\n",
        "    'reg_lambda':  [0.9, 1]\n",
        "}\n",
        "\n",
        "# Initialize XGBoost and GridSearchCV\n",
        "xgboost = XGBClassifier(random_state=42)\n",
        "grid_search = GridSearchCV(xgboost, param_grid, scoring='accuracy', cv=10, verbose=4)\n",
        "\n",
        "grid_search.fit(X_train_reduced_1, y_train)\n",
        "best_xgboost = grid_search.best_estimator_"
      ],
      "metadata": {
        "id": "yK4eb8-eEwyS",
        "collapsed": true,
        "colab": {
          "base_uri": "https://localhost:8080/"
        },
        "outputId": "06e02b67-32b2-48d0-8cdb-7f06e91e2108"
      },
      "execution_count": null,
      "outputs": [
        {
          "output_type": "stream",
          "name": "stdout",
          "text": [
            "Fitting 10 folds for each of 2 candidates, totalling 20 fits\n",
            "[CV 1/10] END gamma=0, learning_rate=0.1, max_depth=4, min_child_weight=5, n_estimators=200, reg_alpha=0.1, reg_lambda=0.9;, score=0.777 total time=   0.5s\n",
            "[CV 2/10] END gamma=0, learning_rate=0.1, max_depth=4, min_child_weight=5, n_estimators=200, reg_alpha=0.1, reg_lambda=0.9;, score=0.751 total time=   0.4s\n",
            "[CV 3/10] END gamma=0, learning_rate=0.1, max_depth=4, min_child_weight=5, n_estimators=200, reg_alpha=0.1, reg_lambda=0.9;, score=0.760 total time=   0.4s\n",
            "[CV 4/10] END gamma=0, learning_rate=0.1, max_depth=4, min_child_weight=5, n_estimators=200, reg_alpha=0.1, reg_lambda=0.9;, score=0.787 total time=   0.4s\n",
            "[CV 5/10] END gamma=0, learning_rate=0.1, max_depth=4, min_child_weight=5, n_estimators=200, reg_alpha=0.1, reg_lambda=0.9;, score=0.772 total time=   0.4s\n",
            "[CV 6/10] END gamma=0, learning_rate=0.1, max_depth=4, min_child_weight=5, n_estimators=200, reg_alpha=0.1, reg_lambda=0.9;, score=0.790 total time=   0.4s\n",
            "[CV 7/10] END gamma=0, learning_rate=0.1, max_depth=4, min_child_weight=5, n_estimators=200, reg_alpha=0.1, reg_lambda=0.9;, score=0.766 total time=   0.4s\n",
            "[CV 8/10] END gamma=0, learning_rate=0.1, max_depth=4, min_child_weight=5, n_estimators=200, reg_alpha=0.1, reg_lambda=0.9;, score=0.788 total time=   0.4s\n",
            "[CV 9/10] END gamma=0, learning_rate=0.1, max_depth=4, min_child_weight=5, n_estimators=200, reg_alpha=0.1, reg_lambda=0.9;, score=0.808 total time=   0.4s\n",
            "[CV 10/10] END gamma=0, learning_rate=0.1, max_depth=4, min_child_weight=5, n_estimators=200, reg_alpha=0.1, reg_lambda=0.9;, score=0.807 total time=   0.4s\n",
            "[CV 1/10] END gamma=0, learning_rate=0.1, max_depth=4, min_child_weight=10, n_estimators=200, reg_alpha=0.1, reg_lambda=0.9;, score=0.780 total time=   0.4s\n",
            "[CV 2/10] END gamma=0, learning_rate=0.1, max_depth=4, min_child_weight=10, n_estimators=200, reg_alpha=0.1, reg_lambda=0.9;, score=0.745 total time=   0.4s\n",
            "[CV 3/10] END gamma=0, learning_rate=0.1, max_depth=4, min_child_weight=10, n_estimators=200, reg_alpha=0.1, reg_lambda=0.9;, score=0.766 total time=   0.4s\n",
            "[CV 4/10] END gamma=0, learning_rate=0.1, max_depth=4, min_child_weight=10, n_estimators=200, reg_alpha=0.1, reg_lambda=0.9;, score=0.777 total time=   0.3s\n",
            "[CV 5/10] END gamma=0, learning_rate=0.1, max_depth=4, min_child_weight=10, n_estimators=200, reg_alpha=0.1, reg_lambda=0.9;, score=0.780 total time=   0.5s\n",
            "[CV 6/10] END gamma=0, learning_rate=0.1, max_depth=4, min_child_weight=10, n_estimators=200, reg_alpha=0.1, reg_lambda=0.9;, score=0.797 total time=   1.3s\n",
            "[CV 7/10] END gamma=0, learning_rate=0.1, max_depth=4, min_child_weight=10, n_estimators=200, reg_alpha=0.1, reg_lambda=0.9;, score=0.776 total time=   1.4s\n",
            "[CV 8/10] END gamma=0, learning_rate=0.1, max_depth=4, min_child_weight=10, n_estimators=200, reg_alpha=0.1, reg_lambda=0.9;, score=0.786 total time=   0.8s\n",
            "[CV 9/10] END gamma=0, learning_rate=0.1, max_depth=4, min_child_weight=10, n_estimators=200, reg_alpha=0.1, reg_lambda=0.9;, score=0.803 total time=   0.8s\n",
            "[CV 10/10] END gamma=0, learning_rate=0.1, max_depth=4, min_child_weight=10, n_estimators=200, reg_alpha=0.1, reg_lambda=0.9;, score=0.802 total time=   0.3s\n"
          ]
        }
      ]
    },
    {
      "cell_type": "code",
      "source": [
        "# Best parameters and given accuracy\n",
        "best_params = grid_search.best_params_\n",
        "xgboost_train_score = grid_search.best_score_\n",
        "print(f\"Best Parameters: {best_params}\")\n",
        "print(f\"Training Accuracy of best parameters: {xgboost_train_score:.4f}\\n\")\n",
        "\n",
        "# Evaluate the model's performance on test set\n",
        "y_pred3 = best_xgboost.predict(X_test_reduced_1)\n",
        "xgboost_test_score = accuracy_score(y_test, y_pred3)\n",
        "xgboost_test_f1 = f1_score(y_test, y_pred3)\n",
        "xgboost_test_auc = roc_auc_score(y_test, y_pred3)\n",
        "print(f\"Test Set Accuracy: {xgboost_test_score:.4f}\")\n",
        "print(f\"Test Set AUC: {xgboost_test_auc:.4f}\")\n",
        "print(f\"Test Set Classification Report:\\n{classification_report(y_test, y_pred3)}\")\n",
        "print(f\"Confusion Matrix:\\n{confusion_matrix(y_test, y_pred3)}\\n\")"
      ],
      "metadata": {
        "colab": {
          "base_uri": "https://localhost:8080/"
        },
        "id": "ZTKZTCB5cknW",
        "outputId": "89a0f2dc-91f4-4c01-c27d-813974945afe"
      },
      "execution_count": null,
      "outputs": [
        {
          "output_type": "stream",
          "name": "stdout",
          "text": [
            "Best Parameters: {'gamma': 0, 'learning_rate': 0.1, 'max_depth': 4, 'min_child_weight': 10, 'n_estimators': 200, 'reg_alpha': 0.1, 'reg_lambda': 0.9}\n",
            "Training Accuracy of best parameters: 0.7812\n",
            "\n",
            "Test Set Accuracy: 0.7776\n",
            "Test Set AUC: 0.7775\n",
            "Test Set Classification Report:\n",
            "              precision    recall  f1-score   support\n",
            "\n",
            "           0       0.80      0.74      0.77      1264\n",
            "           1       0.76      0.81      0.79      1267\n",
            "\n",
            "    accuracy                           0.78      2531\n",
            "   macro avg       0.78      0.78      0.78      2531\n",
            "weighted avg       0.78      0.78      0.78      2531\n",
            "\n",
            "Confusion Matrix:\n",
            "[[ 938  326]\n",
            " [ 237 1030]]\n",
            "\n"
          ]
        }
      ]
    },
    {
      "cell_type": "markdown",
      "source": [
        "### 4.2 XGBoost with 2nd Word2Vec Model"
      ],
      "metadata": {
        "id": "zeauYybcXsvC"
      }
    },
    {
      "cell_type": "code",
      "source": [
        "from xgboost import XGBClassifier\n",
        "from sklearn.model_selection import GridSearchCV\n",
        "from sklearn.metrics import accuracy_score, classification_report, confusion_matrix\n",
        "# Define the parameter grid to search\n",
        "\n",
        "param_grid = {\n",
        "    'learning_rate': [0.05, 0.1, 0.15]\n",
        "    'max_depth':  [3, 4, 5]\n",
        "    'n_estimators': [200, 250, 275]\n",
        "    'gamma': [0, 0.01]\n",
        "    'min_child_weight': [5, 10]\n",
        "    'reg_alpha': [0.01, 0.1]\n",
        "    'reg_lambda':  [0.9, 1]\n",
        "}\n",
        "\n",
        "# Initialize XGBoost and GridSearchCV\n",
        "xgboost = XGBClassifier(random_state=42)\n",
        "grid_search2 = GridSearchCV(xgboost, param_grid, scoring='accuracy', cv=10)\n",
        "\n",
        "# Fit the model\n",
        "grid_search2.fit(X_train_reduced_2, y_train)\n",
        "\n",
        "# Get the best model\n",
        "best_xgboost2 = grid_search2.best_estimator_\n",
        "\n",
        "best_params = grid_search2.best_params_\n",
        "xgboost_train_score2 = grid_search2.best_score_\n",
        "print(f\"Best Parameters: {best_params}\")\n",
        "print(f\"Training Accuracy of best parameters: {xgboost_train_score2:.4f}\\n\")\n",
        "\n",
        "# Evaluate the model's performance on test set\n",
        "y_pred4 = best_xgboost2.predict(X_test_reduced_2)\n",
        "xgboost_test_score2 = accuracy_score(y_test, y_pred4)\n",
        "xgboost_test_f1_2 = f1_score(y_test, y_pred4)\n",
        "xgboost_test_auc_2 = roc_auc_score(y_test, y_pred4)\n",
        "print(f\"Test Set Accuracy: {xgboost_test_score2:.4f}\")\n",
        "print(f\"Test Set AUC: {xgboost_test_auc_2:.4f}\")\n",
        "print(f\"Test Set Classification Report:\\n{classification_report(y_test, y_pred4)}\")\n",
        "print(f\"Confusion Matrix:\\n{confusion_matrix(y_test, y_pred4)}\\n\")"
      ],
      "metadata": {
        "id": "ViQFa6NTlx5d",
        "colab": {
          "base_uri": "https://localhost:8080/"
        },
        "outputId": "a2933241-5589-4000-eb36-7af7cdac911b"
      },
      "execution_count": null,
      "outputs": [
        {
          "output_type": "stream",
          "name": "stdout",
          "text": [
            "Best Parameters: {'gamma': 0, 'learning_rate': 0.1, 'max_depth': 3, 'min_child_weight': 10, 'n_estimators': 275, 'reg_alpha': 0.1, 'reg_lambda': 0.9}\n",
            "Training Accuracy of best parameters: 0.8152\n",
            "\n",
            "Test Set Accuracy: 0.8060\n",
            "Test Set AUC: 0.8060\n",
            "Test Set Classification Report:\n",
            "              precision    recall  f1-score   support\n",
            "\n",
            "           0       0.83      0.77      0.80      1264\n",
            "           1       0.79      0.84      0.81      1267\n",
            "\n",
            "    accuracy                           0.81      2531\n",
            "   macro avg       0.81      0.81      0.81      2531\n",
            "weighted avg       0.81      0.81      0.81      2531\n",
            "\n",
            "Confusion Matrix:\n",
            "[[ 973  291]\n",
            " [ 200 1067]]\n",
            "\n"
          ]
        }
      ]
    },
    {
      "cell_type": "markdown",
      "source": [
        "## 5. Classifiers comparison"
      ],
      "metadata": {
        "id": "FAUE6rgxNn6X"
      }
    },
    {
      "cell_type": "markdown",
      "source": [
        "### 5.1 Get all classifiers performance metrics"
      ],
      "metadata": {
        "id": "OHQkEYQ2NuWI"
      }
    },
    {
      "cell_type": "code",
      "source": [
        "# Creat a dataframe with all classifiers performance metrics\n",
        "performance = pd.DataFrame([['Logistic Regression_custom', logreg_train_score, logreg_test_score, logreg_test_f1, logreg_test_auc],\n",
        "                            ['Logistic Regression_pre-trained', logreg_train_score_2, logreg_test_score_2, logreg_test_f1_2, logreg_test_auc_2],\n",
        "                            ['XGBoost_custom', xgboost_train_score, xgboost_test_score, xgboost_test_f1, xgboost_test_auc],\n",
        "                            ['XGBoost_pre-trained', xgboost_train_score2, xgboost_test_score2, xgboost_test_f1_2, xgboost_test_auc_2]],\n",
        "                    columns=['Classifier', 'Training Accuracy', 'Test Accuracy', 'Test F1-score', 'Test AUC'])\n",
        "\n",
        "# Get the dataframe\n",
        "print(performance)\n",
        "#performance.to_csv(\"performance_comparison.csv\", index=False)"
      ],
      "metadata": {
        "colab": {
          "base_uri": "https://localhost:8080/"
        },
        "id": "7LHd5y6497YE",
        "outputId": "9142c49f-2b54-43a6-9365-8802ae464e4c"
      },
      "execution_count": null,
      "outputs": [
        {
          "output_type": "stream",
          "name": "stdout",
          "text": [
            "                        Classifier  Training Accuracy  Test Accuracy  \\\n",
            "0       Logistic Regression_custom           0.780534       0.766495   \n",
            "1  Logistic Regression_pre-trained           0.823714       0.818254   \n",
            "2                   XGBoost_custom           0.781212       0.777558   \n",
            "3              XGBoost_pre-trained           0.815247       0.806006   \n",
            "\n",
            "   Test F1-score  Test AUC  \n",
            "0       0.776897  0.766441  \n",
            "1       0.823213  0.818222  \n",
            "2       0.785360  0.777516  \n",
            "3       0.812952  0.805963  \n"
          ]
        }
      ]
    },
    {
      "cell_type": "markdown",
      "source": [
        "### 5.2 Comparison Visualization"
      ],
      "metadata": {
        "id": "uRQdJhppOAst"
      }
    },
    {
      "cell_type": "markdown",
      "source": [
        "### 5.2.1 Accuracy and F1-score comparison"
      ],
      "metadata": {
        "id": "phxiglu-ckEA"
      }
    },
    {
      "cell_type": "code",
      "source": [
        "# Define a color palette (tab10, Accent etc)\n",
        "colors = plt.cm.Dark2.colors\n",
        "\n",
        "# Clustered bar plot\n",
        "ax = performance.iloc[:,:4].plot(x='Classifier',\n",
        "        kind='bar',\n",
        "        color=colors[:3],\n",
        "        stacked=False)\n",
        "plt.ylim(0,0.85)\n",
        "plt.title('Clustered bar chart of classifiers performance', fontsize=14)\n",
        "plt.xticks(rotation=15)\n",
        "plt.legend(fontsize=9, loc=\"upper left\", bbox_to_anchor=(1, 0.9)) # Adjust legend outside the axis\n",
        "plt.tight_layout()\n",
        "plt.show()"
      ],
      "metadata": {
        "colab": {
          "base_uri": "https://localhost:8080/",
          "height": 487
        },
        "id": "o25UhIVDJENN",
        "outputId": "b27257a5-0983-4ffa-c633-b82c48036845"
      },
      "execution_count": null,
      "outputs": [
        {
          "output_type": "display_data",
          "data": {
            "text/plain": [
              "<Figure size 640x480 with 1 Axes>"
            ],
            "image/png": "[encoded data removed]"
          },
          "metadata": {}
        }
      ]
    },
    {
      "cell_type": "markdown",
      "source": [
        "### 5.2.2 ROC Curves, AUC comparison"
      ],
      "metadata": {
        "id": "RBTlDIVEcrOs"
      }
    },
    {
      "cell_type": "code",
      "source": [
        "# Initialize a figure\n",
        "figure, axis = plt.subplots(2, 2)\n",
        "\n",
        "# Logistic 1 ROC-AUC\n",
        "fpr, tpr, thresholds = roc_curve(y_test, y_pred1)\n",
        "axis[0, 0].plot(fpr, tpr)\n",
        "axis[0, 0].text(0.4, 0.5,\"AUC = \" + str(round(logreg_test_auc,4)),fontsize=8)\n",
        "axis[0, 0].set_xlim(left=0, right=1)\n",
        "axis[0, 0].set_ylim(bottom=0, top=1)\n",
        "axis[0, 0].set_title(\"Logistic Regression ROC Curve\", fontsize=10)\n",
        "axis[0, 0].set_xlabel(\"False Positive Rate\", fontsize=8)\n",
        "axis[0, 0].set_ylabel(\"True Positive Rate\", fontsize=8)\n",
        "\n",
        "# Logistic 2 ROC-AUC\n",
        "fpr, tpr, thresholds = roc_curve(y_test, y_pred2)\n",
        "axis[0,1].plot(fpr, tpr)\n",
        "axis[0, 1].text(0.4, 0.5,\"AUC = \" + str(round(logreg_test_auc_2,4)),fontsize=8)\n",
        "axis[0,1].set_xlim(left=0, right=1)\n",
        "axis[0,1].set_ylim(bottom=0, top=1)\n",
        "axis[0,1].set_title(\"Logistic Regression_2 ROC Curve\", fontsize=10)\n",
        "axis[0,1].set_xlabel(\"False Positive Rate\", fontsize=8)\n",
        "\n",
        "# XGBoost 1 ROC-AUC\n",
        "fpr, tpr, thresholds = roc_curve(y_test, y_pred3)\n",
        "axis[1,0].plot(fpr, tpr)\n",
        "axis[1,0].text(0.4, 0.5,\"AUC = \" + str(round(xgboost_test_auc,4)),fontsize=8)\n",
        "axis[1,0].set_xlim(left=0, right=1)\n",
        "axis[1,0].set_ylim(bottom=0, top=1)\n",
        "axis[1,0].set_title(\"XGBoost ROC Curve\", fontsize=10)\n",
        "axis[1,0].set_xlabel(\"False Positive Rate\", fontsize=8)\n",
        "axis[1,0].set_ylabel(\"True Positive Rate\", fontsize=8)\n",
        "\n",
        "# XGBoost 2 ROC-AUC\n",
        "fpr, tpr, thresholds = roc_curve(y_test, y_pred4)\n",
        "axis[1,1].plot(fpr, tpr)\n",
        "axis[1,1].text(0.4, 0.5,\"AUC = \" + str(round(xgboost_test_auc_2,4)),fontsize=8)\n",
        "axis[1,1].set_xlim(left=0, right=1)\n",
        "axis[1,1].set_ylim(bottom=0, top=1)\n",
        "axis[1,1].set_title(\"XGBoost_2 ROC Curve\", fontsize=10)\n",
        "axis[1,1].set_xlabel(\"False Positive Rate\", fontsize=8)\n",
        "\n",
        "plt.tight_layout()\n",
        "plt.show()\n",
        "#plt.savefig(\"plot.jpg\")"
      ],
      "metadata": {
        "colab": {
          "base_uri": "https://localhost:8080/",
          "height": 487
        },
        "id": "NFSl5g4aTbDy",
        "outputId": "2c0a0540-b6e8-4f9b-e316-02e01299563d"
      },
      "execution_count": null,
      "outputs": [
        {
          "output_type": "display_data",
          "data": {
            "text/plain": [
              "<Figure size 640x480 with 4 Axes>"
            ],
            "image/png": "[encoded data removed]"
          },
          "metadata": {}
        }
      ]
    }
  ]
}